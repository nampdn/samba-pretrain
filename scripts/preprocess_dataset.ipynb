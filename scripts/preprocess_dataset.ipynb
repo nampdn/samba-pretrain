{
 "cells": [
  {
   "cell_type": "code",
   "execution_count": 1,
   "id": "a5ec058c-e27a-4d6b-b049-cd4e5ea4d688",
   "metadata": {},
   "outputs": [
    {
     "name": "stderr",
     "output_type": "stream",
     "text": [
      "/root/miniconda3/envs/tinyhead/lib/python3.11/site-packages/tqdm/auto.py:21: TqdmWarning: IProgress not found. Please update jupyter and ipywidgets. See https://ipywidgets.readthedocs.io/en/stable/user_install.html\n",
      "  from .autonotebook import tqdm as notebook_tqdm\n"
     ]
    }
   ],
   "source": [
    "from datasets import load_dataset\n",
    "import polars as pl\n",
    "import os\n",
    "import json\n",
    "from tqdm import tqdm\n",
    "import random"
   ]
  },
  {
   "cell_type": "code",
   "execution_count": 2,
   "id": "5bec13d3-966c-449f-9fff-ad193017cef9",
   "metadata": {},
   "outputs": [],
   "source": [
    "input_dir = \"/workspace/fast-data/disk1/nam/modules/trainer/Samba/data/input/\""
   ]
  },
  {
   "cell_type": "code",
   "execution_count": 3,
   "id": "80a8cedb-4b91-4e74-924c-32d51894eaa5",
   "metadata": {},
   "outputs": [],
   "source": [
    "# Reformat bridgedict"
   ]
  },
  {
   "cell_type": "code",
   "execution_count": 4,
   "id": "92f42a73-6955-4ba1-9911-cddbdd6ff2ba",
   "metadata": {},
   "outputs": [],
   "source": [
    "def load_parquet_files(directory):\n",
    "    # List to hold DataFrames\n",
    "    dataframes = pl.DataFrame()\n",
    "    \n",
    "    # Iterate through all files in the directory\n",
    "    for filename in os.listdir(directory):\n",
    "        # Check if the file is a .parquet file\n",
    "        if filename.endswith(\".parquet\"):\n",
    "            filepath = os.path.join(directory, filename)\n",
    "            # Read the .parquet file using Polars\n",
    "            df = pl.read_parquet(filepath)\n",
    "            df = df.select(pl.col(\"response\"), pl.col(\"word\"))\n",
    "            # Append the DataFrame to the list\n",
    "            dataframes = pl.concat([dataframes, df])\n",
    "    return dataframes"
   ]
  },
  {
   "cell_type": "code",
   "execution_count": 9,
   "id": "eaefd19c-f781-47e9-af4d-94eda87a09df",
   "metadata": {},
   "outputs": [],
   "source": [
    "directory_path = \"/workspace/fast-data/disk1/nam/modules/trainer/Samba/data/input/bridgedict-vgm\"\n",
    "parquet_dfs = load_parquet_files(directory_path)"
   ]
  },
  {
   "cell_type": "code",
   "execution_count": 10,
   "id": "099a7867-92d4-41e5-a8b8-c54f17b68178",
   "metadata": {},
   "outputs": [],
   "source": [
    "def convert_dict_to_markdown(data):\n",
    "    def list_to_markdown(title, items):\n",
    "        return f\"### {title}\\n\" + \"\\n\".join([f\"- {item}\" for item in items]) + \"\\n\"\n",
    "\n",
    "    def section_to_markdown(title, content):\n",
    "        return f\"## {title}\\n\\n{content}\\n\"\n",
    "\n",
    "    markdown = []\n",
    "    try:\n",
    "        data = json.loads(data)\n",
    "        if \"type\" in data:\n",
    "            markdown.append(section_to_markdown(\"Type\", data[\"type\"]))\n",
    "        \n",
    "        if \"context\" in data:\n",
    "            markdown.append(section_to_markdown(\"Context\", data[\"context\"]))\n",
    "        \n",
    "        if \"english_antonyms\" in data and data[\"english_antonyms\"]:\n",
    "            markdown.append(list_to_markdown(\"English Antonyms\", data[\"english_antonyms\"]))\n",
    "    \n",
    "        for key in [\"vietnamese_synonyms\", \"greek_synonyms\", \"hebrew_synonyms\", \"english_synonyms\"]:\n",
    "            if key in data and data[key]:\n",
    "                language = key.split('_')[0].capitalize()\n",
    "                markdown.append(list_to_markdown(f\"{language} Synonyms\", data[key]))\n",
    "    \n",
    "        for key in [\"vietnamese_meaning\", \"greek_meaning\", \"hebrew_meaning\", \"english_meaning\"]:\n",
    "            if key in data and data[key]:\n",
    "                language = key.split('_')[0].capitalize()\n",
    "                markdown.append(list_to_markdown(f\"{language} Meaning\", data[key]))\n",
    "    \n",
    "        for key in [\"example_vietnamese\", \"example_greek\", \"example_hebrew\", \"example_english\"]:\n",
    "            if key in data and data[key]:\n",
    "                language = key.split('_')[1].capitalize()\n",
    "                markdown.append(list_to_markdown(f\"Example Sentences in {language}\", data[key]))\n",
    "        \n",
    "        return \"\\n\".join(markdown)\n",
    "    except:\n",
    "        return \"\"\n",
    "\n",
    "def formatter(series):\n",
    "    return [convert_dict_to_markdown(x) for x in series]"
   ]
  },
  {
   "cell_type": "code",
   "execution_count": 17,
   "id": "84113d2d-974a-4db4-ac1d-852be52ce7f9",
   "metadata": {},
   "outputs": [
    {
     "name": "stderr",
     "output_type": "stream",
     "text": [
      "121569it [00:03, 34317.98it/s]\n"
     ]
    }
   ],
   "source": [
    "result_data = []\n",
    "\n",
    "# Iterate through each row in the DataFrame\n",
    "for row in tqdm(parquet_dfs.iter_rows(named=True)):\n",
    "    word = row[\"word\"]\n",
    "    response = row[\"response\"]\n",
    "    formatted_response = convert_dict_to_markdown(response)\n",
    "    result_data.append({\"word\": word, \"text\": formatted_response})"
   ]
  },
  {
   "cell_type": "code",
   "execution_count": 18,
   "id": "8e4e5095-3a75-4fd9-bcf2-39b789548846",
   "metadata": {},
   "outputs": [],
   "source": [
    "xdf = pl.DataFrame(result_data)"
   ]
  },
  {
   "cell_type": "code",
   "execution_count": 19,
   "id": "db0ccab0-0bff-4f49-944d-0096f0040ad1",
   "metadata": {},
   "outputs": [
    {
     "data": {
      "text/html": [
       "<div><style>\n",
       ".dataframe > thead > tr,\n",
       ".dataframe > tbody > tr {\n",
       "  text-align: right;\n",
       "  white-space: pre-wrap;\n",
       "}\n",
       "</style>\n",
       "<small>shape: (5, 2)</small><table border=\"1\" class=\"dataframe\"><thead><tr><th>word</th><th>text</th></tr><tr><td>str</td><td>str</td></tr></thead><tbody><tr><td>&quot;stuffed bun&quot;</td><td>&quot;## Type\n",
       "\n",
       "noun\n",
       "\n",
       "## Context\n",
       "\n",
       "Thi…</td></tr><tr><td>&quot;lack of order&quot;</td><td>&quot;## Type\n",
       "\n",
       "noun\n",
       "\n",
       "## Context\n",
       "\n",
       "Thi…</td></tr><tr><td>&quot;northern future&quot;</td><td>&quot;## Type\n",
       "\n",
       "noun\n",
       "\n",
       "## Context\n",
       "\n",
       "The…</td></tr><tr><td>&quot;petty affair&quot;</td><td>&quot;## Type\n",
       "\n",
       "noun\n",
       "\n",
       "## Context\n",
       "\n",
       "Thi…</td></tr><tr><td>&quot;clear-cut&quot;</td><td>&quot;## Type\n",
       "\n",
       "adjective\n",
       "\n",
       "## Context…</td></tr></tbody></table></div>"
      ],
      "text/plain": [
       "shape: (5, 2)\n",
       "┌─────────────────┬─────────────┐\n",
       "│ word            ┆ text        │\n",
       "│ ---             ┆ ---         │\n",
       "│ str             ┆ str         │\n",
       "╞═════════════════╪═════════════╡\n",
       "│ stuffed bun     ┆ ## Type     │\n",
       "│                 ┆             │\n",
       "│                 ┆ noun        │\n",
       "│                 ┆             │\n",
       "│                 ┆ ## Context  │\n",
       "│                 ┆             │\n",
       "│                 ┆ Thi…        │\n",
       "│ lack of order   ┆ ## Type     │\n",
       "│                 ┆             │\n",
       "│                 ┆ noun        │\n",
       "│                 ┆             │\n",
       "│                 ┆ ## Context  │\n",
       "│                 ┆             │\n",
       "│                 ┆ Thi…        │\n",
       "│ northern future ┆ ## Type     │\n",
       "│                 ┆             │\n",
       "│                 ┆ noun        │\n",
       "│                 ┆             │\n",
       "│                 ┆ ## Context  │\n",
       "│                 ┆             │\n",
       "│                 ┆ The…        │\n",
       "│ petty affair    ┆ ## Type     │\n",
       "│                 ┆             │\n",
       "│                 ┆ noun        │\n",
       "│                 ┆             │\n",
       "│                 ┆ ## Context  │\n",
       "│                 ┆             │\n",
       "│                 ┆ Thi…        │\n",
       "│ clear-cut       ┆ ## Type     │\n",
       "│                 ┆             │\n",
       "│                 ┆ adjective   │\n",
       "│                 ┆             │\n",
       "│                 ┆ ## Context… │\n",
       "└─────────────────┴─────────────┘"
      ]
     },
     "execution_count": 19,
     "metadata": {},
     "output_type": "execute_result"
    }
   ],
   "source": [
    "xdf.tail()"
   ]
  },
  {
   "cell_type": "code",
   "execution_count": 20,
   "id": "6e91d282-bfa8-47e2-bfc8-a91840311270",
   "metadata": {},
   "outputs": [
    {
     "name": "stderr",
     "output_type": "stream",
     "text": [
      "/tmp/ipykernel_1479/4011437137.py:1: DeprecationWarning: `lengths` is deprecated. It has been renamed to `len_bytes`.\n",
      "  fdf = xdf.filter(pl.col(\"text\").str.lengths() > 10)\n"
     ]
    }
   ],
   "source": [
    "fdf = xdf.filter(pl.col(\"text\").str.lengths() > 10)"
   ]
  },
  {
   "cell_type": "code",
   "execution_count": 21,
   "id": "5ac7b9dc-cfd7-4a9b-a620-7d8de663e542",
   "metadata": {},
   "outputs": [],
   "source": [
    "fdf = fdf.select((\"# \" + pl.col(\"word\") + \"\\n\\n\" + pl.col(\"text\")).alias(\"text\"))"
   ]
  },
  {
   "cell_type": "code",
   "execution_count": 24,
   "id": "28ef0444-d133-4e0c-aac9-33d68e7c0aad",
   "metadata": {},
   "outputs": [
    {
     "name": "stdout",
     "output_type": "stream",
     "text": [
      "# promotion to celestial position\n",
      "\n",
      "## Type\n",
      "\n",
      "noun\n",
      "\n",
      "## Context\n",
      "\n",
      "This word is used in the context of religious or spiritual beliefs. It conveys a positive meaning and refers to the act of being elevated to a divine or heavenly position.\n",
      "\n",
      "### Vietnamese Meaning\n",
      "- Sự thăng cấp thành vị trí thiên đình\n",
      "- Sự được đưa lên chỗ thiêng liêng\n",
      "- Sự được trọng dụng trong vị trí thiên sứ\n",
      "- Sự lên bậc công danh trong địa vị thiêng liêng\n",
      "\n",
      "### Greek Meaning\n",
      "- <translate list of equivalent Vietnamese meanings above into Greek>\n",
      "\n",
      "### Hebrew Meaning\n",
      "- <translate list of equivalent Vietnamese meanings above into Hebrew>\n",
      "\n",
      "### English Meaning\n",
      "- The act of being promoted to a celestial or divine position\n",
      "- The act of being elevated to a sacred or holy place\n",
      "- The act of being appointed to a position of angelic authority\n",
      "- The act of achieving a higher status within a sacred hierarchy\n",
      "\n",
      "### Example Sentences in Vietnamese\n",
      "- Anh ta được thăng cấp thành vị trí thiên sứ.\n",
      "- Tôi mong muốn được đưa lên chỗ thiêng liêng.\n",
      "- Ngài là một thánh nhân đã được trọng dụng vào vị trí thiêng sứ.\n",
      "- Đức vua thăng cấp giữa công danh và vị trí thiêng liêng.\n",
      "\n",
      "### Example Sentences in Greek\n",
      "- <translate list of equivalent Vietnamese examples above into Greek>\n",
      "\n",
      "### Example Sentences in Hebrew\n",
      "- <translate list of equivalent Vietnamese examples above into Hebrew>\n",
      "\n",
      "### Example Sentences in English\n",
      "- He was promoted to the celestial position of an angel.\n",
      "- I long to be elevated to a sacred place.\n",
      "- He is a saint who was appointed to the position of an angelic authority.\n",
      "- The king achieved a higher status within the sacred hierarchy.\n",
      "\n"
     ]
    }
   ],
   "source": [
    "print(fdf[\"text\"][0])"
   ]
  },
  {
   "cell_type": "code",
   "execution_count": 26,
   "id": "495702f5-dcfd-4a03-b673-cc33eef233c3",
   "metadata": {},
   "outputs": [],
   "source": [
    "fdf.write_parquet(\"/workspace/fast-data/disk1/nam/modules/trainer/Samba/data/input/bridgedict.parquet\")"
   ]
  },
  {
   "cell_type": "code",
   "execution_count": 53,
   "id": "7cf050d8-79ef-4908-8840-17c56dff042f",
   "metadata": {},
   "outputs": [],
   "source": [
    "# a = json.loads(parquet_dfs[\"response\"][1110])\n",
    "# print(type(a))\n",
    "# x = convert_dict_to_markdown(a)\n",
    "# print(x)"
   ]
  },
  {
   "cell_type": "code",
   "execution_count": 58,
   "id": "9818e119-4182-4408-b52d-bab3527105b8",
   "metadata": {},
   "outputs": [],
   "source": [
    "bible_data = pl.read_parquet(os.path.join(input_dir, \"bible\", \"book_paragraph_translation.parquet\"))"
   ]
  },
  {
   "cell_type": "code",
   "execution_count": 59,
   "id": "aac0d59a-2570-4445-9996-1a3a4a158f93",
   "metadata": {},
   "outputs": [
    {
     "name": "stderr",
     "output_type": "stream",
     "text": [
      "43886it [00:00, 53314.80it/s]\n"
     ]
    }
   ],
   "source": [
    "result_data = []\n",
    "\n",
    "# Iterate through each row in the DataFrame\n",
    "for row in tqdm(bible_data.iter_rows(named=True)):\n",
    "    if random.choice([True, False]):\n",
    "        text = f\"\"\"### Vietnamese\n",
    "{row['content_vi']}\n",
    "\n",
    "### English\n",
    "{row['content_en']}\n",
    "\"\"\"\n",
    "    else:\n",
    "        text = f\"\"\"### English\n",
    "{row['content_en']}\n",
    "\n",
    "### Vietnamese\n",
    "{row['content_vi']}\n",
    "\"\"\"\n",
    "    result_data.append({\"text\": text})"
   ]
  },
  {
   "cell_type": "code",
   "execution_count": 60,
   "id": "58b7cba7-7bfb-422a-8175-d6603ee8a488",
   "metadata": {},
   "outputs": [],
   "source": [
    "xdf = pl.DataFrame(result_data)"
   ]
  },
  {
   "cell_type": "code",
   "execution_count": 61,
   "id": "a3dbe488-4c75-44a1-a964-63d0398f96a5",
   "metadata": {
    "scrolled": true
   },
   "outputs": [
    {
     "name": "stdout",
     "output_type": "stream",
     "text": [
      "### English\n",
      "So the Peter replied that suffering was part of the journey of faith.\n",
      "It tests the true value of our disciples (1: 7), making us stick with other Christians (5: 9) and will be advocated in the day of judgment (4: 16- 19).\n",
      "Although the believers are \"strange guests\" and \"dissolved\" in this world (1: 1), they are part of the people of God pilgrimage (2: 5.9) towards the house My father (1: 4).\n",
      "They look forward to the day that Jesus returned because those who belong to Him (1: 7 2:12 5: 4).\n",
      "These are truths that make Christians today have been urged to live for God's glory, as they have encouraged non-e-reputable readers.\n",
      "Peter wrote a letter as a person in his heart who didn't lose the love fire but the Lord himself grouped at the coast of Ti-riery (comparing GI 21: 1,15-19 with IPHI 1: 8).\n",
      "This letter contained all vividness in a person's personal recollection of Jesus.\n",
      "Please also see the article about how to read messages.\n",
      "Read more, I and II Peter\n",
      "E. P. Clowney, The Message of 1 Peter, BST (IVP, 1988).\n",
      "I. H. Marshall, 1 Peter, IVPNTC (IVP, 1991).\n",
      "W. GRUDEM, 1 PETER, TNTC (IVP / UK / EERDMANS, 1988).\n",
      "P. H. Davids, The First Epistle of Peter, Nicnt (Eerdmans, 1990).\n",
      "J. N. Kelly, The Epistle of Peter & Jude, BNTC (A. and C. Black, 1969).\n",
      "J. R. Michaels, 1 Peter, WBC (Word, 1988).\n",
      "C. E. Cranfield, 1 and 2 Peter and Jude, TBC (SCM, 1960).\n",
      "E. M. B.\n",
      "Green, 2 Peter and Jude, TNTC (IVP / UK / Eerdmans, 1968).\n",
      "R. Bauckham, Jude and 2 Peter, WBC (Word, 1983).\n",
      "Layout\n",
      "Author to visit readers (1: 1-2)\n",
      "God's salvation plan meets all of our needs (1: 3-9)\n",
      "Salvation has been shown to us (1: 10-12)\n",
      "Salvation that we get having sex to our way of life every day (1: 13-5: 7)\n",
      "Live like Jesus (1: 13-21)\n",
      "Loving other Christians (1: 22-25)\n",
      "Looking forward to growing (2: 1-3)\n",
      "Civil of God (2: 4-10)\n",
      "Examination for others exemplary of Jesus (2: 11-3: 12)\n",
      "Live because of the Lord when meeting the opposition (3: 13-4: 6)\n",
      "Serving each other (4: 7-11)\n",
      "Suffering for the Lord (4: 12-19)\n",
      "Implementing leadership role (5: 1-4)\n",
      "Becoming good disciples (5: 5-7)\n",
      "Introductions\n",
      "Previous fake did not let us suspect this issue.\n",
      "He said he was \"Si-Peter, servant and the Apostles of Jesus Christ\" (1: 1).\n",
      "He was on the mountain of shaping with Jesus (1: 16-18), where only Peter, James and John was with Him (Mac 9: 2-12).\n",
      "One previous occasion, he wrote to those who recipient this letter (3: 1) and have a close relationship with them (3: 1,8,14,17).\n",
      "Furthermore, he called Paul who was the one \"I am very beloved\" (3:15) and at the time of writing this letter, he thought he was going to die (1:14).\n",
      "It is not found that any evidence suggests that a certain information among the above is added to the letter to make people accept the letter.\n",
      "However, there is a very popular theory that this letter is a 'sutrator', ie a writer made when a great character has died, published on behalf of him as if It contains what the person said in that situation.\n",
      "Thus this letter will make him be honored by regulating him for him.\n",
      "These reasons for this view are as follows.\n",
      "First, it is said that the language and French pen of this letter are not the same as Peter.\n",
      "In terms of text, we see many complex phrases of an exaggerated French pen.\n",
      "This is especially true in Chapter 2, because its thesis that the author must present as long as I have implemented IPHI 3: 18-22.\n",
      "Anyway, I Peter also mentioned many different issues, and perhaps a few parts were added by Sin-Vanh (IPHI 5:12).\n",
      "In fact, between these two letters there are many similarities.\n",
      "Some words and phrases only see in these two letters in addition to anywhere else in the New Testament Bible, for example, from \"German\" used for God (IIPHI 1: 3 IPHI 2: 9 (Translate is 'German preaching')) \"Leave\" (IIPHI 1:14 IPhi 3:21 (Cleaning);) \"Crime is never bored\" (IIphi 2:14 IPhi 4: 1 ( Translation is 'hit off sin')).\n",
      "In addition, there are universal words in other places such as \"love brothers\" (iPhi 1: 7 IPhi 1:22), root from \"Witnesses\" (IIPHI 1:16 IPhi 2:12 3: 2) and \"Add\" (iPhi 1: 5 iphi 4:11).\n",
      "There is also the same in the sayings about prophecy words (iPhi 1: 20-21 IPHI 1: 10-12), about the freedom of Christians (IIPHI 2:19 IPHI 2:16), about things Occurs in the last days (IIPHI 3: 3.10 IPHI 1: 5).\n",
      "\n",
      "### Vietnamese\n",
      "Vì thế Phi-e-rơ trả lời rằng chịu khổ là một phần hành trình của đức tin.\n",
      "Nó thử nghiệm giá trị thật việc chúng ta làm môn đồ (1:7), làm chúng ta gắn bó với những anh em Cơ Đốc nhân khác (5:9) và sẽ được bênh vực trong ngày phán xét (4:16-19).\n",
      "Tuy những người tin Chúa là “khách lạ” và “bị tan lạc” trong thế gian này (1:1), nhưng họ là một phần của dân sự Đức Chúa Trời đang hành hương (2:5,9) hướng về nhà Cha mình (1:4).\n",
      "Họ trông đợi ngày mà Chúa Giê-xu trở lại vì những kẻ thuộc về Ngài (1:7 2:12 5:4).\n",
      "Đây là những lẽ thật khiến các Cơ Đốc nhân ngày nay được thôi thúc để sống vì sự vinh hiển của Đức Chúa Trời, như chúng đã từng khích lệ các độc giả ban đầu của Phi-e-rơ vậy.\n",
      "Phi-e-rơ đã viết lá thư như một người trong lòng không hề đánh mất ngọn lửa tình yêu mà chính Chúa đã nhen nhóm tại bờ biển Ti-bê-ri-át (đối chiếu Gi 21:1,15-19 với IPhi 1:8).\n",
      "Bức thư này chứa đựng tất cả sự sống động trong hồi ức cá nhân của một người theo Chúa Cứu Thế Giê-xu.\n",
      "Xin cũng xem bài viết về Cách Đọc Các Thư Tín.\n",
      "Đọc Thêm, I và II Phi-e-rơ\n",
      "E. P. Clowney, The Message of 1 Peter, BST (IVP, 1988).\n",
      "I. H. Marshall, 1 Peter, IVPNTC (IVP, 1991).\n",
      "W. Grudem, 1 Peter, TNTC (IVP/UK/Eerdmans, 1988).\n",
      "P. H. Davids, The First Epistle of Peter, NICNT (Eerdmans, 1990).\n",
      "J. N. D. Kelly, The Epistle of Peter & Jude, BNTC (A. and C. Black, 1969).\n",
      "J. R. Michaels, 1 Peter, WBC (Word, 1988).\n",
      "C. E. B. Cranfield, 1 and 2 Peter and Jude, TBC (SCM, 1960).\n",
      "E. M. B.\n",
      "Green, 2 Peter and Jude, TNTC (IVP/UK/Eerdmans, 1968).\n",
      "R. Bauckham, Jude and 2 Peter, WBC (Word, 1983).\n",
      "Bố Cục\n",
      "Tác giả chào thăm độc giả (1:1-2)\n",
      "Kế hoạch cứu rỗi của Đức Chúa Trời đáp ứng mọi nhu cầu của chúng ta (1:3-9)\n",
      "Sự cứu rỗi đã được bày tỏ cho chúng ta như thế nào (1:10-12)\n",
      "Sự cứu rỗi mà chúng ta nhận được có quan hệ thế nào đến cách sống mỗi ngày của chúng ta (1:13-5:7)\n",
      "Sống giống như Chúa Giê-xu (1:13-21)\n",
      "Yêu thương các Cơ Đốc nhân khác (1:22-25)\n",
      "Mong muốn được tăng trưởng (2:1-3)\n",
      "Thuộc về dân sự của Đức Chúa Trời (2:4-10)\n",
      "Bày tỏ cho người khác gương mẫu của Chúa Giê-xu (2:11-3:12)\n",
      "Sống vì Chúa Cứu Thế khi gặp sự chống đối (3:13-4:6)\n",
      "Phục vụ lẫn nhau (4:7-11)\n",
      "Chịu khổ vì Chúa Cứu Thế (4:12-19)\n",
      "Thực thi vai trò lãnh đạo (5:1-4)\n",
      "Trở nên những môn đệ tốt (5:5-7)\n",
      "Dẫn Nhập\n",
      "Trước giả đã không để cho chúng ta phải nghi ngờ về vấn đề này.\n",
      "Ông nói mình là “Si-môn Phi-e-rơ, tôi tớ và sứ đồ của Đức Chúa Giê-xu Christ” (1:1).\n",
      "Ông từng ở trên núi hoá hình với Đức Chúa Giê-xu (1:16-18), nơi chỉ có Phi-e-rơ, Gia-cơ và Giăng ở với Ngài (Mac 9:2-12).\n",
      "Một dịp trước đó, ông đã viết thư cho những người nhận bức thư này (3:1) và có mối quan hệ thân thiết với họ (3:1,8,14,17).\n",
      "Hơn nữa, ông gọi Phao-lô là người “anh rất yêu dấu của chúng ta” (3:15) và vào thời điểm viết bức thư này, ông nghĩ rằng mình sắp phải qua đời (1:14).\n",
      "Người ta không tìm thấy chứng cứ nào gợi ý rằng một thông tin nào đó trong số kể trên về sau đã được thêm vào bức thư để khiến cho người ta chấp nhận bức thư.\n",
      "Tuy nhiên, có một thuyết hiện đại rất phổ biến cho rằng bức thư này là một ‘nguỵ kinh’, tức là một văn phẩm được thực hiện khi một nhân vật vĩ đại đã qua đời, được xuất bản nhân danh người ấy như thể nó chứa đựng những điều người ấy đã nói trong hoàn cảnh đó.\n",
      "Như thế bức thư này sẽ làm cho người ấy được vinh dự qua việc quy nó cho người ấy.\n",
      "Những lý lẽ hậu thuẫn cho quan điểm này như sau.\n",
      "Thứ nhất, người ta bảo rằng ngôn ngữ và bút pháp của bức thư này không giống với I Phi-e-rơ.\n",
      "Về mặt văn tự, chúng ta thấy có nhiều cụm từ phức tạp của một bút pháp thích phóng đại.\n",
      "Điều này đặc biệt đúng trong chương 2, bởi luận đề của mình mà tác giả buột phải trình bày dông dài như đã từng thực hiện IPhi 3:18-22.\n",
      "Dù sao thì I Phi-e-rơ cũng đã đề cập đến nhiều vấn đề khác nhau, và có lẽ có một vài phần được Sin-vanh thêm vào (IPhi 5:12).\n",
      "Thật ra, giữa hai bức thư này có rất nhiều điểm giống nhau.\n",
      "Một số từ và cụm từ chỉ thấy xuất hiện trong hai bức thư này ngoài ra không thấy ở bất kỳ chỗ nào khác trong Kinh Thánh Tân Ước, thí dụ từ “nhân đức” được dùng cho Đức Chúa Trời (IIPhi 1:3 IPhi 2:9 (dịch là ‘rao giảng nhân đức’)) “lìa” (IIPhi 1:14 IPhi 3:21 (làm sạch);) “phạm tội không bao giờ chán” (IIPhi 2:14 IPhi 4:1 (dịch là ‘đã dứt khỏi tội lỗi’)).\n",
      "Ngoài ra có những từ ngữ không phổ biến ở chỗ khác như “tình yêu thương anh em” (IIPhi 1:7 IPhi 1:22), gốc từ của “những nhân chứng” (IIPhi 1:16 IPhi 2:12 3:2) và “thêm” (IIPhi 1:5 IPhi 4:11).\n",
      "Cũng có sự giống nhau trong các câu nói về lời tiên tri (IIPhi 1:20-21 IPhi 1:10-12), về quyền tự do của Cơ Đốc nhân (IIPhi 2:19 IPhi 2:16), về những việc xảy ra trong những ngày sau rốt (IIPhi 3:3,10 IPhi 1:5).\n",
      "\n"
     ]
    }
   ],
   "source": [
    "print(xdf[\"text\"][222])"
   ]
  },
  {
   "cell_type": "code",
   "execution_count": 62,
   "id": "e47d69e9-b8a8-4325-af49-978f1e08beaa",
   "metadata": {},
   "outputs": [],
   "source": [
    "xdf.write_parquet(os.path.join(input_dir, \"_pretrain\", \"bible\", \"vietbible_envi.parquet\"))"
   ]
  },
  {
   "cell_type": "markdown",
   "id": "0a6b3167-ffae-497b-8ed9-fa616aa6dde3",
   "metadata": {},
   "source": [
    "### Bible Text"
   ]
  },
  {
   "cell_type": "code",
   "execution_count": 50,
   "id": "7b2347f7-872c-459a-a475-9b188814c9cc",
   "metadata": {
    "collapsed": true,
    "jupyter": {
     "outputs_hidden": true
    }
   },
   "outputs": [
    {
     "data": {
      "text/html": [
       "<div><style>\n",
       ".dataframe > thead > tr,\n",
       ".dataframe > tbody > tr {\n",
       "  text-align: right;\n",
       "  white-space: pre-wrap;\n",
       "}\n",
       "</style>\n",
       "<small>shape: (5, 10)</small><table border=\"1\" class=\"dataframe\"><thead><tr><th>language</th><th>version</th><th>version_text</th><th>book_name</th><th>book_text</th><th>vb_code</th><th>osis_code</th><th>chapter</th><th>text</th><th>verses</th></tr><tr><td>str</td><td>str</td><td>str</td><td>str</td><td>str</td><td>str</td><td>str</td><td>str</td><td>str</td><td>list[str]</td></tr></thead><tbody><tr><td>&quot;vietnamese&quot;</td><td>&quot;VIEVTT&quot;</td><td>&quot;Bản Truyền Thống 1926&quot;</td><td>&quot;Zech&quot;</td><td>&quot;Xa-cha-ri&quot;</td><td>&quot;Xa&quot;</td><td>&quot;Zech&quot;</td><td>&quot;8&quot;</td><td>&quot;# Kinh Thánh\n",
       "Version: Bản Truy…</td><td>[&quot;Xa-cha-ri 8:1 `Lại có lời của Đức Giê-hô-va vạn quân phán cùng ta rằng:` (Xa 8:1)&quot;, &quot;Xa-cha-ri 8:2 `Đức Giê-hô-va vạn quân có phán như vầy: Ta đã nổi ghen vì Si-ôn bởi một cơn ghen lớn, ta đã nổi ghen vì nó bởi cơn tức giận lớn.` (Xa 8:2)&quot;, … &quot;Xa-cha-ri 8:23 `Đức Giê-hô-va vạn quân phán như vầy: Sẽ xảy ra trong những ngày đó, có mười người từ mọi thứ tiếng trong các nước ra, nắm chặt vạt áo của một người Giu-đa, mà nói rằng: Chúng ta sẽ đi cùng các ngươi, vì chúng ta có nghe rằng Đức Giê-hô-va ở cùng các ngươi.` (Xa 8:23)&quot;]</td></tr><tr><td>&quot;vietnamese&quot;</td><td>&quot;VIEVTT&quot;</td><td>&quot;Bản Truyền Thống 1926&quot;</td><td>&quot;Zech&quot;</td><td>&quot;Xa-cha-ri&quot;</td><td>&quot;Xa&quot;</td><td>&quot;Zech&quot;</td><td>&quot;9&quot;</td><td>&quot;# Kinh Thánh\n",
       "Version: Bản Truy…</td><td>[&quot;Xa-cha-ri 9:1 `Gánh nặng lời Đức Giê-hô-va nghịch cùng đất Ha-đơ-rắc, nó sẽ đỗ trên Đa-mách: vì con mắt loài người và mọi chi phái Y-sơ-ra-ên đều ngó lên Đức Giê-hô-va.` (Xa 9:1)&quot;, &quot;Xa-cha-ri 9:2 `Lời ấy cũng phán về Ha-mát, láng giềng của Đa-mách, về Ty-rơ và Si-đôn, vì các thành ấy là rất khôn sáng.` (Xa 9:2)&quot;, … &quot;Xa-cha-ri 9:17 `Sự nhân từ Ngài và sự tốt đẹp Ngài sẽ lớn là dường nào! Lúa miến sẽ làm cho những trai trẻ lớn lên, và rượu mới sẽ làm cho gái đồng trinh thạnh vượng.` (Xa 9:17)&quot;]</td></tr><tr><td>&quot;vietnamese&quot;</td><td>&quot;VIEVTT&quot;</td><td>&quot;Bản Truyền Thống 1926&quot;</td><td>&quot;Zeph&quot;</td><td>&quot;Sô-phô-ni&quot;</td><td>&quot;So&quot;</td><td>&quot;Zeph&quot;</td><td>&quot;1&quot;</td><td>&quot;# Kinh Thánh\n",
       "Version: Bản Truy…</td><td>[&quot;Sô-phô-ni 1:1 `Nầy là lời Đức Giê-hô-va phán cùng Sô-phô-ni, con trai Cu-si, cháu Ghê-đa-lia, chắt A-ma-ria, chít Ê-xê-chia, về đời Giô-si-a, con trai A-môn, vua Giu-đa.` (So 1:1)&quot;, &quot;Sô-phô-ni 1:2 `Ta sẽ diệt sạch mọi sự khỏi mặt đất, Đức Giê-hô-va phán vậy.` (So 1:2)&quot;, … &quot;Sô-phô-ni 1:18 `Hoặc bạc hoặc vàng của chúng nó, đều không có thể giải cứu chúng nó trong ngày thạnh nộ của Đức Giê-hô-va; nhưng cả đất nầy sẽ bị lửa ghen Ngài thiêu nuốt; vì Ngài sẽ diệt hết dân cư đất nầy cách thình lình.` (So 1:18)&quot;]</td></tr><tr><td>&quot;vietnamese&quot;</td><td>&quot;VIEVTT&quot;</td><td>&quot;Bản Truyền Thống 1926&quot;</td><td>&quot;Zeph&quot;</td><td>&quot;Sô-phô-ni&quot;</td><td>&quot;So&quot;</td><td>&quot;Zeph&quot;</td><td>&quot;2&quot;</td><td>&quot;# Kinh Thánh\n",
       "Version: Bản Truy…</td><td>[&quot;Sô-phô-ni 2:1 `Hỡi dân chẳng biết xấu hổ! Hãy nhóm hiệp lại, phải, hãy nhóm hiệp lại,` (So 2:1)&quot;, &quot;Sô-phô-ni 2:2 `trước khi mạng lịnh chưa ra, ngày giờ chưa qua như trấu, trước khi sự nóng giận của Đức Giê-hô-va chưa đến trên các ngươi, trước khi ngày thạnh nộ của Đức Giê-hô-va chưa đến trên các ngươi.` (So 2:2)&quot;, … &quot;Sô-phô-ni 2:15 `Kìa, thành vui vẻ nầy đã ở yên không lo lắng và nói trong lòng mình rằng: Ta đây, ngoài ta không còn ai hết! Nó đã trở nên hoang vu, làm chỗ nằm cho loài thú vật là dường nào! Phàm kẻ đi qua sẽ khoa tay mà nhạo cười!` (So 2:15)&quot;]</td></tr><tr><td>&quot;vietnamese&quot;</td><td>&quot;VIEVTT&quot;</td><td>&quot;Bản Truyền Thống 1926&quot;</td><td>&quot;Zeph&quot;</td><td>&quot;Sô-phô-ni&quot;</td><td>&quot;So&quot;</td><td>&quot;Zeph&quot;</td><td>&quot;3&quot;</td><td>&quot;# Kinh Thánh\n",
       "Version: Bản Truy…</td><td>[&quot;Sô-phô-ni 3:1 `Khốn thay cho thành bạn nghịch và ô uế, làm sự bạo ngược!` (So 3:1)&quot;, &quot;Sô-phô-ni 3:2 `Nó không nghe lời; không chịu sửa dạy; không nhờ cậy Đức Giê-hô-va; không đến gần Đức Chúa Trời mình.` (So 3:2)&quot;, … &quot;Sô-phô-ni 3:20 `Trong lúc đó, ta sẽ đem các ngươi trở về, trong lúc đó ta sẽ nhóm các ngươi lại; vì ta sẽ làm cho các ngươi nổi danh tiếng và được khen lao giữa mọi dân trên đất, khi ta đem phu tù các ngươi về trước mặt các ngươi, Đức Giê-hô-va có phán vậy.` (So 3:20)&quot;]</td></tr></tbody></table></div>"
      ],
      "text/plain": [
       "shape: (5, 10)\n",
       "┌────────────┬─────────┬────────────┬───────────┬───┬───────────┬─────────┬────────────┬───────────┐\n",
       "│ language   ┆ version ┆ version_te ┆ book_name ┆ … ┆ osis_code ┆ chapter ┆ text       ┆ verses    │\n",
       "│ ---        ┆ ---     ┆ xt         ┆ ---       ┆   ┆ ---       ┆ ---     ┆ ---        ┆ ---       │\n",
       "│ str        ┆ str     ┆ ---        ┆ str       ┆   ┆ str       ┆ str     ┆ str        ┆ list[str] │\n",
       "│            ┆         ┆ str        ┆           ┆   ┆           ┆         ┆            ┆           │\n",
       "╞════════════╪═════════╪════════════╪═══════════╪═══╪═══════════╪═════════╪════════════╪═══════════╡\n",
       "│ vietnamese ┆ VIEVTT  ┆ Bản Truyền ┆ Zech      ┆ … ┆ Zech      ┆ 8       ┆ # Kinh     ┆ [\"Xa-cha- │\n",
       "│            ┆         ┆ Thống 1926 ┆           ┆   ┆           ┆         ┆ Thánh      ┆ ri 8:1    │\n",
       "│            ┆         ┆            ┆           ┆   ┆           ┆         ┆ Version:   ┆ `Lại có   │\n",
       "│            ┆         ┆            ┆           ┆   ┆           ┆         ┆ Bản Truy…  ┆ lời củ…   │\n",
       "│ vietnamese ┆ VIEVTT  ┆ Bản Truyền ┆ Zech      ┆ … ┆ Zech      ┆ 9       ┆ # Kinh     ┆ [\"Xa-cha- │\n",
       "│            ┆         ┆ Thống 1926 ┆           ┆   ┆           ┆         ┆ Thánh      ┆ ri 9:1    │\n",
       "│            ┆         ┆            ┆           ┆   ┆           ┆         ┆ Version:   ┆ `Gánh     │\n",
       "│            ┆         ┆            ┆           ┆   ┆           ┆         ┆ Bản Truy…  ┆ nặng lời… │\n",
       "│ vietnamese ┆ VIEVTT  ┆ Bản Truyền ┆ Zeph      ┆ … ┆ Zeph      ┆ 1       ┆ # Kinh     ┆ [\"Sô-phô- │\n",
       "│            ┆         ┆ Thống 1926 ┆           ┆   ┆           ┆         ┆ Thánh      ┆ ni 1:1    │\n",
       "│            ┆         ┆            ┆           ┆   ┆           ┆         ┆ Version:   ┆ `Nầy là   │\n",
       "│            ┆         ┆            ┆           ┆   ┆           ┆         ┆ Bản Truy…  ┆ lời Đứ…   │\n",
       "│ vietnamese ┆ VIEVTT  ┆ Bản Truyền ┆ Zeph      ┆ … ┆ Zeph      ┆ 2       ┆ # Kinh     ┆ [\"Sô-phô- │\n",
       "│            ┆         ┆ Thống 1926 ┆           ┆   ┆           ┆         ┆ Thánh      ┆ ni 2:1    │\n",
       "│            ┆         ┆            ┆           ┆   ┆           ┆         ┆ Version:   ┆ `Hỡi dân  │\n",
       "│            ┆         ┆            ┆           ┆   ┆           ┆         ┆ Bản Truy…  ┆ chẳng…    │\n",
       "│ vietnamese ┆ VIEVTT  ┆ Bản Truyền ┆ Zeph      ┆ … ┆ Zeph      ┆ 3       ┆ # Kinh     ┆ [\"Sô-phô- │\n",
       "│            ┆         ┆ Thống 1926 ┆           ┆   ┆           ┆         ┆ Thánh      ┆ ni 3:1    │\n",
       "│            ┆         ┆            ┆           ┆   ┆           ┆         ┆ Version:   ┆ `Khốn     │\n",
       "│            ┆         ┆            ┆           ┆   ┆           ┆         ┆ Bản Truy…  ┆ thay cho… │\n",
       "└────────────┴─────────┴────────────┴───────────┴───┴───────────┴─────────┴────────────┴───────────┘"
      ]
     },
     "execution_count": 50,
     "metadata": {},
     "output_type": "execute_result"
    }
   ],
   "source": [
    "bible_data = pl.read_parquet(os.path.join(input_dir, \"bible\", \"bible_raw.parquet\"))\n",
    "bible_data.tail()"
   ]
  },
  {
   "cell_type": "code",
   "execution_count": 51,
   "id": "6d927540-5c3b-464e-a053-3ae6940d5c6f",
   "metadata": {},
   "outputs": [
    {
     "data": {
      "text/html": [
       "<div><style>\n",
       ".dataframe > thead > tr,\n",
       ".dataframe > tbody > tr {\n",
       "  text-align: right;\n",
       "  white-space: pre-wrap;\n",
       "}\n",
       "</style>\n",
       "<small>shape: (5, 1)</small><table border=\"1\" class=\"dataframe\"><thead><tr><th>text</th></tr><tr><td>str</td></tr></thead><tbody><tr><td>&quot;# Kinh Thánh\n",
       "Version: Bản Truy…</td></tr><tr><td>&quot;# Kinh Thánh\n",
       "Version: Bản Truy…</td></tr><tr><td>&quot;# Kinh Thánh\n",
       "Version: Bản Truy…</td></tr><tr><td>&quot;# Kinh Thánh\n",
       "Version: Bản Truy…</td></tr><tr><td>&quot;# Kinh Thánh\n",
       "Version: Bản Truy…</td></tr></tbody></table></div>"
      ],
      "text/plain": [
       "shape: (5, 1)\n",
       "┌────────────────────┐\n",
       "│ text               │\n",
       "│ ---                │\n",
       "│ str                │\n",
       "╞════════════════════╡\n",
       "│ # Kinh Thánh       │\n",
       "│ Version: Bản Truy… │\n",
       "│ # Kinh Thánh       │\n",
       "│ Version: Bản Truy… │\n",
       "│ # Kinh Thánh       │\n",
       "│ Version: Bản Truy… │\n",
       "│ # Kinh Thánh       │\n",
       "│ Version: Bản Truy… │\n",
       "│ # Kinh Thánh       │\n",
       "│ Version: Bản Truy… │\n",
       "└────────────────────┘"
      ]
     },
     "execution_count": 51,
     "metadata": {},
     "output_type": "execute_result"
    }
   ],
   "source": [
    "xdf = bible_data.select(pl.col(\"text\"))\n",
    "xdf.tail()"
   ]
  },
  {
   "cell_type": "code",
   "execution_count": 52,
   "id": "319d4c85-3c6d-4df8-bd8d-351a18497364",
   "metadata": {},
   "outputs": [],
   "source": [
    "xdf.write_parquet(os.path.join(input_dir, \"_pretrain\", \"bible\", \"multiple_bible_raw.parquet\"))"
   ]
  },
  {
   "cell_type": "markdown",
   "id": "65bbd5c7-3f0f-41e4-b07c-0326c41618b3",
   "metadata": {},
   "source": [
    "### Translation Data"
   ]
  },
  {
   "cell_type": "code",
   "execution_count": 27,
   "id": "3567dfa2-6740-43b6-8eb3-b5694f144e30",
   "metadata": {},
   "outputs": [
    {
     "name": "stderr",
     "output_type": "stream",
     "text": [
      "Downloading data: 100%|██████████| 882k/882k [00:00<00:00, 1.06MB/s]\n",
      "Downloading data: 100%|██████████| 2.46M/2.46M [00:00<00:00, 2.61MB/s]\n",
      "Downloading data: 100%|██████████| 3.17M/3.17M [00:00<00:00, 3.69MB/s]\n",
      "Downloading data: 100%|██████████| 123M/123M [00:04<00:00, 27.9MB/s] \n",
      "Downloading data: 100%|██████████| 882k/882k [00:00<00:00, 938kB/s]\n",
      "Downloading data: 100%|██████████| 1.50M/1.50M [00:00<00:00, 1.71MB/s]\n",
      "Downloading data: 100%|██████████| 2.46M/2.46M [00:01<00:00, 1.93MB/s]\n",
      "Downloading data: 100%|██████████| 3.17M/3.17M [00:01<00:00, 2.92MB/s]\n",
      "Downloading data: 100%|██████████| 23.4M/23.4M [00:01<00:00, 14.3MB/s]\n",
      "Generating train split: 100%|██████████| 48501/48501 [00:01<00:00, 31363.03 examples/s]\n"
     ]
    }
   ],
   "source": [
    "e2v = load_dataset(\"nampdn-ai/e2v-v2e\")"
   ]
  },
  {
   "cell_type": "code",
   "execution_count": 28,
   "id": "bf9fd3fa-dab1-4d85-8e86-ac308a9e3f3b",
   "metadata": {},
   "outputs": [],
   "source": [
    "e2v_df = pl.DataFrame(e2v['train'].to_dict('records'))"
   ]
  },
  {
   "cell_type": "code",
   "execution_count": 31,
   "id": "90f9447d-3657-45bb-b1a8-9e1e2d278060",
   "metadata": {},
   "outputs": [],
   "source": [
    "e2v_df.write_parquet(os.path.join(input_dir, \"_pretrain\", \"core\", \"e2v-v2e.parquet\"))"
   ]
  },
  {
   "cell_type": "markdown",
   "id": "766e6b71-3564-4639-853a-d563e00a74c8",
   "metadata": {},
   "source": [
    "## MATH"
   ]
  },
  {
   "cell_type": "code",
   "execution_count": 63,
   "id": "ac909ae3-0284-4410-a1ca-b03e30072528",
   "metadata": {},
   "outputs": [
    {
     "name": "stderr",
     "output_type": "stream",
     "text": [
      "Downloading readme: 100%|██████████| 6.91k/6.91k [00:00<00:00, 15.8MB/s]\n",
      "Downloading data: 100%|██████████| 84.2M/84.2M [00:02<00:00, 29.9MB/s]\n",
      "Generating train split: 100%|██████████| 200035/200035 [00:00<00:00, 218592.55 examples/s]\n"
     ]
    }
   ],
   "source": [
    "math = load_dataset(\"microsoft/orca-math-word-problems-200k\")"
   ]
  },
  {
   "cell_type": "code",
   "execution_count": 64,
   "id": "ba73c1a3-638e-4cb3-b7e7-9b835d295a89",
   "metadata": {},
   "outputs": [],
   "source": [
    "math_df = pl.DataFrame(math['train'].to_dict('records'))"
   ]
  },
  {
   "cell_type": "code",
   "execution_count": 65,
   "id": "e7b627f2-a8e5-41b9-8dd8-000bae04812f",
   "metadata": {},
   "outputs": [
    {
     "data": {
      "text/html": [
       "<div><style>\n",
       ".dataframe > thead > tr,\n",
       ".dataframe > tbody > tr {\n",
       "  text-align: right;\n",
       "  white-space: pre-wrap;\n",
       "}\n",
       "</style>\n",
       "<small>shape: (5, 2)</small><table border=\"1\" class=\"dataframe\"><thead><tr><th>question</th><th>answer</th></tr><tr><td>str</td><td>str</td></tr></thead><tbody><tr><td>&quot;Adult tickets for a show cost …</td><td>&quot;Let&#x27;s denote the number of adu…</td></tr><tr><td>&quot;Your cell phone company offers…</td><td>&quot;Let&#x27;s denote the number of tex…</td></tr><tr><td>&quot;Steve invests in a circus prod…</td><td>&quot;First, let&#x27;s calculate the ave…</td></tr><tr><td>&quot;Your teacher is giving a test …</td><td>&quot;Let&#x27;s denote the number of 5-p…</td></tr><tr><td>&quot;A plane flying with a tailwind…</td><td>&quot;Let&#x27;s denote the plane&#x27;s airsp…</td></tr></tbody></table></div>"
      ],
      "text/plain": [
       "shape: (5, 2)\n",
       "┌─────────────────────────────────┬─────────────────────────────────┐\n",
       "│ question                        ┆ answer                          │\n",
       "│ ---                             ┆ ---                             │\n",
       "│ str                             ┆ str                             │\n",
       "╞═════════════════════════════════╪═════════════════════════════════╡\n",
       "│ Adult tickets for a show cost … ┆ Let's denote the number of adu… │\n",
       "│ Your cell phone company offers… ┆ Let's denote the number of tex… │\n",
       "│ Steve invests in a circus prod… ┆ First, let's calculate the ave… │\n",
       "│ Your teacher is giving a test … ┆ Let's denote the number of 5-p… │\n",
       "│ A plane flying with a tailwind… ┆ Let's denote the plane's airsp… │\n",
       "└─────────────────────────────────┴─────────────────────────────────┘"
      ]
     },
     "execution_count": 65,
     "metadata": {},
     "output_type": "execute_result"
    }
   ],
   "source": [
    "math_df.tail()"
   ]
  },
  {
   "cell_type": "code",
   "execution_count": 69,
   "id": "85e6da0e-64ea-4acc-bc93-cf51a392bae0",
   "metadata": {},
   "outputs": [
    {
     "data": {
      "text/html": [
       "<div><style>\n",
       ".dataframe > thead > tr,\n",
       ".dataframe > tbody > tr {\n",
       "  text-align: right;\n",
       "  white-space: pre-wrap;\n",
       "}\n",
       "</style>\n",
       "<small>shape: (5, 1)</small><table border=\"1\" class=\"dataframe\"><thead><tr><th>text</th></tr><tr><td>str</td></tr></thead><tbody><tr><td>&quot;### Problem:\n",
       "Adult tickets for…</td></tr><tr><td>&quot;### Problem:\n",
       "Your cell phone c…</td></tr><tr><td>&quot;### Problem:\n",
       "Steve invests in …</td></tr><tr><td>&quot;### Problem:\n",
       "Your teacher is g…</td></tr><tr><td>&quot;### Problem:\n",
       "A plane flying wi…</td></tr></tbody></table></div>"
      ],
      "text/plain": [
       "shape: (5, 1)\n",
       "┌────────────────────┐\n",
       "│ text               │\n",
       "│ ---                │\n",
       "│ str                │\n",
       "╞════════════════════╡\n",
       "│ ### Problem:       │\n",
       "│ Adult tickets for… │\n",
       "│ ### Problem:       │\n",
       "│ Your cell phone c… │\n",
       "│ ### Problem:       │\n",
       "│ Steve invests in … │\n",
       "│ ### Problem:       │\n",
       "│ Your teacher is g… │\n",
       "│ ### Problem:       │\n",
       "│ A plane flying wi… │\n",
       "└────────────────────┘"
      ]
     },
     "execution_count": 69,
     "metadata": {},
     "output_type": "execute_result"
    }
   ],
   "source": [
    "xdf = math_df.select(\n",
    "    (\"### Problem:\\n\" + pl.col(\"question\") + \"\\n\\n### Solution:\\n\" + pl.col(\"answer\")).alias(\"text\")\n",
    ")\n",
    "xdf.tail()"
   ]
  },
  {
   "cell_type": "code",
   "execution_count": 70,
   "id": "10869c2d-a0e5-4628-831d-e1ff192ca957",
   "metadata": {},
   "outputs": [
    {
     "name": "stdout",
     "output_type": "stream",
     "text": [
      "### Problem:\n",
      "A barrel contains 12 liters (L) and 400 milliliters (㎖) of petroleum, and B barrel contains 7600 milliliters (㎖) of petroleum. How many liters (L) must be moved from A barrel to B barrel to equalize the amount of petroleum in A barrel and B barrel?\n",
      "\n",
      "### Solution:\n",
      "First, let's convert all the measurements to the same unit to make the calculation easier. We'll convert everything to milliliters (㎖).\n",
      "\n",
      "A barrel contains 12 liters and 400 milliliters. Since 1 liter is equal to 1000 milliliters, we can convert the 12 liters to milliliters:\n",
      "12 liters = 12 * 1000 milliliters = 12000 milliliters\n",
      "\n",
      "Now, add the 400 milliliters that are already in milliliters:\n",
      "12000 milliliters + 400 milliliters = 12400 milliliters\n",
      "\n",
      "So, A barrel contains a total of 12400 milliliters of petroleum.\n",
      "\n",
      "B barrel contains 7600 milliliters of petroleum.\n",
      "\n",
      "To equalize the amount of petroleum in both barrels, we need to find the average of the two amounts:\n",
      "Total amount in both barrels = 12400 milliliters (A barrel) + 7600 milliliters (B barrel)\n",
      "Total amount in both barrels = 20000 milliliters\n",
      "\n",
      "Now, divide this total by 2 to find the equal amount for each barrel:\n",
      "Equal amount for each barrel = 20000 milliliters / 2\n",
      "Equal amount for each barrel = 10000 milliliters\n",
      "\n",
      "Since A barrel currently has 12400 milliliters, we need to move some of it to B barrel to make both barrels have 10000 milliliters each.\n",
      "\n",
      "Amount to move from A to B = 12400 milliliters (A barrel) - 10000 milliliters (equal amount)\n",
      "Amount to move from A to B = 2400 milliliters\n",
      "\n",
      "So, we must move 2400 milliliters (or 2.4 liters) from A barrel to B barrel to equalize the amount of petroleum in both barrels.\n"
     ]
    }
   ],
   "source": [
    "print(xdf['text'][100])"
   ]
  },
  {
   "cell_type": "code",
   "execution_count": 71,
   "id": "8e6b6735-f457-4b35-82a1-19f26cbb705b",
   "metadata": {},
   "outputs": [],
   "source": [
    "xdf.write_parquet(os.path.join(input_dir, \"_pretrain\", \"math\", \"math_word_problem.parquet\"))"
   ]
  },
  {
   "cell_type": "code",
   "execution_count": 32,
   "id": "b6fa5945-3d6b-42c7-90ed-b25ad8facfb1",
   "metadata": {},
   "outputs": [
    {
     "name": "stderr",
     "output_type": "stream",
     "text": [
      "Repo card metadata block was not found. Setting CardData to empty.\n"
     ]
    }
   ],
   "source": [
    "tinymath = load_dataset(\"nampdn-ai/tiny-math-textbooks\")"
   ]
  },
  {
   "cell_type": "code",
   "execution_count": 33,
   "id": "d406ec69-77d3-4835-b893-b61e3462efc1",
   "metadata": {},
   "outputs": [],
   "source": [
    "tinymath_df = pl.DataFrame(tinymath['train'].to_dict('records'))"
   ]
  },
  {
   "cell_type": "code",
   "execution_count": 34,
   "id": "c1f17f98-e49e-4475-964f-e81a4264a31b",
   "metadata": {},
   "outputs": [
    {
     "data": {
      "text/html": [
       "<div><style>\n",
       ".dataframe > thead > tr,\n",
       ".dataframe > tbody > tr {\n",
       "  text-align: right;\n",
       "  white-space: pre-wrap;\n",
       "}\n",
       "</style>\n",
       "<small>shape: (5, 1)</small><table border=\"1\" class=\"dataframe\"><thead><tr><th>text</th></tr><tr><td>str</td></tr></thead><tbody><tr><td>&quot;# Probability - Casino Probabi…</td></tr><tr><td>&quot;# Calculus in a Nutshell: Inte…</td></tr><tr><td>&quot;# Textbook: Beautiful Geometry…</td></tr><tr><td>&quot;# Textbook\n",
       "\n",
       "## Chapter 1: Intr…</td></tr><tr><td>&quot;# Textbook - Number Theory: Re…</td></tr></tbody></table></div>"
      ],
      "text/plain": [
       "shape: (5, 1)\n",
       "┌─────────────────────────────────┐\n",
       "│ text                            │\n",
       "│ ---                             │\n",
       "│ str                             │\n",
       "╞═════════════════════════════════╡\n",
       "│ # Probability - Casino Probabi… │\n",
       "│ # Calculus in a Nutshell: Inte… │\n",
       "│ # Textbook: Beautiful Geometry… │\n",
       "│ # Textbook                      │\n",
       "│                                 │\n",
       "│ ## Chapter 1: Intr…             │\n",
       "│ # Textbook - Number Theory: Re… │\n",
       "└─────────────────────────────────┘"
      ]
     },
     "execution_count": 34,
     "metadata": {},
     "output_type": "execute_result"
    }
   ],
   "source": [
    "xdf = tinymath_df.select(\n",
    "    pl.col(\"response\").alias(\"text\")\n",
    ")\n",
    "xdf.tail()"
   ]
  },
  {
   "cell_type": "code",
   "execution_count": 35,
   "id": "96e66955-36f6-4cf6-95f4-64cbf67b458c",
   "metadata": {},
   "outputs": [
    {
     "name": "stdout",
     "output_type": "stream",
     "text": [
      "# Advanced Integration - Integration in the World\n",
      "\n",
      "## Motivation:\n",
      "Welcome to the fascinating world of advanced integration! As a mid-level manager teacher, you are constantly faced with challenging situations that require critical thinking and problem-solving skills. By mastering the concepts of integral calculus, you will enhance your ability to analyze and tackle complex problems in various domains. Whether it's analyzing data trends, optimizing resource allocation, or predicting outcomes, integration plays a vital role in the world around us. This textbook will empower you with the knowledge and skills needed to excel in your role and make informed decisions. Remember, as mentioned in Bible Roman 11:36, \"For from him and through him and to him are all things.\" Every knowledge you acquire serves a unique purpose, and the world of integration is no exception. Let's dive in!\n",
      "\n",
      "## Chapter 1: Fundamental Theorems of Integration\n",
      " \n",
      "### Theoretical Concepts:\n",
      "- The first fundamental theorem of calculus: connecting derivatives and integrals.\n",
      "- The second fundamental theorem of calculus: properties and applications.\n",
      "- Definite and indefinite integrals: understanding the difference and their significance.\n",
      "- The chain rule for integration: extending differentiation techniques.\n",
      "\n",
      "### Questions and Answers:\n",
      "1. What does the first fundamental theorem of calculus state?\n",
      "2. Explain the significance of definite and indefinite integrals.\n",
      "3. How does the second fundamental theorem of calculus relate to the chain rule?\n",
      "\n",
      "### Purpose and Definitions:\n",
      "- Purpose: To establish the fundamental basis of integration and its connection to differentiation.\n",
      "- Definite integral: The limit of a sum that determines the exact area under a curve between two specified points.\n",
      "- Indefinite integral: The collection of all antiderivatives of a given function.\n",
      "\n",
      "### Practical Examples:\n",
      "#### Mathematical Abstractions:\n",
      "Given the function f(x) = x^2, calculate the definite integral from 1 to 3. Show step-by-step solution.\n",
      "\n",
      "#### Real-World Scenarios:\n",
      "Imagine you are managing a manufacturing process, and you need to determine the total energy consumed from time t1 to t2. The energy consumption varies with time and is represented by a continuous function. How can you use definite integrals to solve this problem?\n",
      "\n",
      "### Glossary:\n",
      "- Fundamental Theorems of Integration: Mathematical principles that connect differentiation and integration.\n",
      "- Definite Integral: The limit of a sum that determines the area under a curve between two specified points.\n",
      "- Indefinite Integral: The collection of all antiderivatives of a given function.\n",
      "\n",
      "## Chapter 2: Techniques of Integration\n",
      " \n",
      "### Theoretical Concepts:\n",
      "- Integration by substitution: simplifying complex integrals.\n",
      "- Integration by parts: breaking down integrals in terms of two functions.\n",
      "- Partial fraction decomposition: splitting rational functions into simpler components.\n",
      "\n",
      "### Questions and Answers:\n",
      "1. How can integration by substitution simplify complex integrals?\n",
      "2. Explain the concept of integration by parts.\n",
      "3. When is partial fraction decomposition useful?\n",
      "\n",
      "### Purpose and Definitions:\n",
      "- Purpose: To equip you with advanced techniques for integrating more complex functions.\n",
      "- Integration by substitution: A method that transforms a complicated integral into a simpler form.\n",
      "- Integration by parts: Rewriting the integral of a product of two functions as a combination of simpler integrals.\n",
      "- Partial fraction decomposition: Decomposing a rational function into simpler fractions.\n",
      "\n",
      "### Practical Examples:\n",
      "#### Mathematical Abstractions:\n",
      "Evaluate the integral ∫ (3x^2 + 4x - 2) dx using integration by parts. Show step-by-step solution.\n",
      "\n",
      "#### Real-World Scenarios:\n",
      "As an educator, you need to assess the progress of your students based on an individualized grading system. The overall grade is determined by integrating the student's scores from various assessments. How can integration techniques be applied to determine the final grades?\n",
      "\n",
      "### Glossary:\n",
      "- Integration by Substitution: A method that transforms a complicated integral into a simpler form.\n",
      "- Integration by Parts: Rewriting the integral of a product of two functions as a combination of simpler integrals.\n",
      "- Partial Fraction Decomposition: Decomposing a rational function into simpler fractions.\n",
      "\n",
      "## Conclusion:\n",
      "Congratulations on completing the journey through advanced integration! By mastering the concepts of integral calculus, you have acquired a powerful tool for analyzing and solving complex problems in your role as a manager teacher. From understanding the fundamental theorems to applying advanced integration techniques, you are now equipped to tackle a wide range of challenges. Remember, the skills gained from this topic can be applied to various domains, enabling you to make informed decisions, optimize processes, and predict outcomes. Keep exploring the world of mathematics, as it holds many wonders for those who seek knowledge and embrace challenges. \n",
      "\n",
      "## Glossary:\n",
      "- Fundamental Theorems of Integration: Mathematical principles that connect differentiation and integration.\n",
      "- Definite Integral: The limit of a sum that determines the area under a curve between two specified points.\n",
      "- Indefinite Integral: The collection of all antiderivatives of a given function.\n",
      "- Integration by Substitution: A method that transforms a complicated integral into a simpler form.\n",
      "- Integration by Parts: Rewriting the integral of a product of two functions as a combination of simpler integrals.\n",
      "- Partial Fraction Decomposition: Decomposing a rational function into simpler fractions.\n"
     ]
    }
   ],
   "source": [
    "print(xdf['text'][100])"
   ]
  },
  {
   "cell_type": "code",
   "execution_count": 16,
   "id": "997eeeb3-5c8d-4e37-9d93-5b06591bb58d",
   "metadata": {},
   "outputs": [],
   "source": [
    "xdf.write_parquet(os.path.join(input_dir, \"_pretrain\", \"math\", \"tiny-math.parquet\"))"
   ]
  },
  {
   "cell_type": "markdown",
   "id": "db051427-abfe-4a31-b927-1ca98c54887e",
   "metadata": {},
   "source": [
    "## Code"
   ]
  },
  {
   "cell_type": "code",
   "execution_count": 5,
   "id": "acbe0b9f-3cc9-4071-9b2c-02827f1a8494",
   "metadata": {},
   "outputs": [],
   "source": [
    "code = load_dataset(\"nampdn-ai/tiny-codes\")"
   ]
  },
  {
   "cell_type": "code",
   "execution_count": 6,
   "id": "327a2bba-9b1f-44c2-b9e7-f1bbd485dc87",
   "metadata": {},
   "outputs": [],
   "source": [
    "code_df = pl.DataFrame(code['train'].to_dict('records'))"
   ]
  },
  {
   "cell_type": "code",
   "execution_count": 7,
   "id": "ed3f2920-69f2-4cfa-9b13-31552fab883d",
   "metadata": {},
   "outputs": [
    {
     "data": {
      "text/html": [
       "<div><style>\n",
       ".dataframe > thead > tr,\n",
       ".dataframe > tbody > tr {\n",
       "  text-align: right;\n",
       "  white-space: pre-wrap;\n",
       "}\n",
       "</style>\n",
       "<small>shape: (5, 11)</small><table border=\"1\" class=\"dataframe\"><thead><tr><th>prompt</th><th>main_topic</th><th>subtopic</th><th>adjective</th><th>action_verb</th><th>scenario</th><th>target_audience</th><th>programming_language</th><th>common_sense_topic</th><th>idx</th><th>response</th></tr><tr><td>str</td><td>str</td><td>str</td><td>str</td><td>str</td><td>str</td><td>str</td><td>str</td><td>str</td><td>i64</td><td>str</td></tr></thead><tbody><tr><td>&quot;Design a Java function snippet…</td><td>&quot;Weather&quot;</td><td>&quot;Weather Forecast&quot;</td><td>&quot;Low&quot;</td><td>&quot;Display&quot;</td><td>&quot;for Decision Making&quot;</td><td>&quot;Beginners&quot;</td><td>&quot;Java&quot;</td><td>&quot;Reliability&quot;</td><td>1117266</td><td>&quot;Here is a possible implementat…</td></tr><tr><td>&quot;Create a relation database and…</td><td>&quot;Bathing routine&quot;</td><td>&quot;Caring for Hair and Skin&quot;</td><td>&quot;Extreme&quot;</td><td>&quot;Calculate&quot;</td><td>&quot;for Analysis&quot;</td><td>&quot;Beginners&quot;</td><td>&quot;relation database and SQL&quot;</td><td>&quot;Ethics&quot;</td><td>1042904</td><td>&quot;Here is a sample relational da…</td></tr><tr><td>&quot;Build a Go module snippet that…</td><td>&quot;Hygiene during illness&quot;</td><td>&quot;Hand Hygiene when Sick&quot;</td><td>&quot;Low&quot;</td><td>&quot;Calculate&quot;</td><td>&quot;for Decision Making&quot;</td><td>&quot;Experts&quot;</td><td>&quot;Go&quot;</td><td>&quot;Privacy&quot;</td><td>804392</td><td>&quot;Here is a sample implementatio…</td></tr><tr><td>&quot;Write a C# code snippet to Dis…</td><td>&quot;Sneezing and coughing etiquett…</td><td>&quot;Hand Hygiene After Sneezing or…</td><td>&quot;High&quot;</td><td>&quot;Display&quot;</td><td>&quot;for Engineer&quot;</td><td>&quot;Beginners&quot;</td><td>&quot;C#&quot;</td><td>&quot;Bias&quot;</td><td>1338433</td><td>&quot;Here is some sample code writt…</td></tr><tr><td>&quot;Create a Ruby script snippet t…</td><td>&quot;Weather&quot;</td><td>&quot;Wind Speed&quot;</td><td>&quot;Low&quot;</td><td>&quot;Check&quot;</td><td>&quot;for Decision Making&quot;</td><td>&quot;Professionals&quot;</td><td>&quot;Ruby&quot;</td><td>&quot;Bias&quot;</td><td>1763917</td><td>&quot;Here is a possible implementat…</td></tr></tbody></table></div>"
      ],
      "text/plain": [
       "shape: (5, 11)\n",
       "┌────────────┬───────────┬───────────┬───────────┬───┬───────────┬───────────┬─────────┬───────────┐\n",
       "│ prompt     ┆ main_topi ┆ subtopic  ┆ adjective ┆ … ┆ programmi ┆ common_se ┆ idx     ┆ response  │\n",
       "│ ---        ┆ c         ┆ ---       ┆ ---       ┆   ┆ ng_langua ┆ nse_topic ┆ ---     ┆ ---       │\n",
       "│ str        ┆ ---       ┆ str       ┆ str       ┆   ┆ ge        ┆ ---       ┆ i64     ┆ str       │\n",
       "│            ┆ str       ┆           ┆           ┆   ┆ ---       ┆ str       ┆         ┆           │\n",
       "│            ┆           ┆           ┆           ┆   ┆ str       ┆           ┆         ┆           │\n",
       "╞════════════╪═══════════╪═══════════╪═══════════╪═══╪═══════════╪═══════════╪═════════╪═══════════╡\n",
       "│ Design a   ┆ Weather   ┆ Weather   ┆ Low       ┆ … ┆ Java      ┆ Reliabili ┆ 1117266 ┆ Here is a │\n",
       "│ Java       ┆           ┆ Forecast  ┆           ┆   ┆           ┆ ty        ┆         ┆ possible  │\n",
       "│ function   ┆           ┆           ┆           ┆   ┆           ┆           ┆         ┆ implement │\n",
       "│ snippet…   ┆           ┆           ┆           ┆   ┆           ┆           ┆         ┆ at…       │\n",
       "│ Create a   ┆ Bathing   ┆ Caring    ┆ Extreme   ┆ … ┆ relation  ┆ Ethics    ┆ 1042904 ┆ Here is a │\n",
       "│ relation   ┆ routine   ┆ for Hair  ┆           ┆   ┆ database  ┆           ┆         ┆ sample    │\n",
       "│ database   ┆           ┆ and Skin  ┆           ┆   ┆ and SQL   ┆           ┆         ┆ relationa │\n",
       "│ and…       ┆           ┆           ┆           ┆   ┆           ┆           ┆         ┆ l da…     │\n",
       "│ Build a Go ┆ Hygiene   ┆ Hand      ┆ Low       ┆ … ┆ Go        ┆ Privacy   ┆ 804392  ┆ Here is a │\n",
       "│ module     ┆ during    ┆ Hygiene   ┆           ┆   ┆           ┆           ┆         ┆ sample    │\n",
       "│ snippet    ┆ illness   ┆ when Sick ┆           ┆   ┆           ┆           ┆         ┆ implement │\n",
       "│ that…      ┆           ┆           ┆           ┆   ┆           ┆           ┆         ┆ atio…     │\n",
       "│ Write a C# ┆ Sneezing  ┆ Hand      ┆ High      ┆ … ┆ C#        ┆ Bias      ┆ 1338433 ┆ Here is   │\n",
       "│ code       ┆ and       ┆ Hygiene   ┆           ┆   ┆           ┆           ┆         ┆ some      │\n",
       "│ snippet to ┆ coughing  ┆ After     ┆           ┆   ┆           ┆           ┆         ┆ sample    │\n",
       "│ Dis…       ┆ etiquett… ┆ Sneezing  ┆           ┆   ┆           ┆           ┆         ┆ code      │\n",
       "│            ┆           ┆ or…       ┆           ┆   ┆           ┆           ┆         ┆ writt…    │\n",
       "│ Create a   ┆ Weather   ┆ Wind      ┆ Low       ┆ … ┆ Ruby      ┆ Bias      ┆ 1763917 ┆ Here is a │\n",
       "│ Ruby       ┆           ┆ Speed     ┆           ┆   ┆           ┆           ┆         ┆ possible  │\n",
       "│ script     ┆           ┆           ┆           ┆   ┆           ┆           ┆         ┆ implement │\n",
       "│ snippet t… ┆           ┆           ┆           ┆   ┆           ┆           ┆         ┆ at…       │\n",
       "└────────────┴───────────┴───────────┴───────────┴───┴───────────┴───────────┴─────────┴───────────┘"
      ]
     },
     "execution_count": 7,
     "metadata": {},
     "output_type": "execute_result"
    }
   ],
   "source": [
    "code_df.tail()"
   ]
  },
  {
   "cell_type": "code",
   "execution_count": 8,
   "id": "dc5bc51a-bc38-4ff7-b2b0-2fbc254caa7c",
   "metadata": {},
   "outputs": [
    {
     "data": {
      "text/html": [
       "<div><style>\n",
       ".dataframe > thead > tr,\n",
       ".dataframe > tbody > tr {\n",
       "  text-align: right;\n",
       "  white-space: pre-wrap;\n",
       "}\n",
       "</style>\n",
       "<small>shape: (5, 1)</small><table border=\"1\" class=\"dataframe\"><thead><tr><th>text</th></tr><tr><td>str</td></tr></thead><tbody><tr><td>&quot;### Problem:\n",
       "Design a Java fun…</td></tr><tr><td>&quot;### Problem:\n",
       "Create a relation…</td></tr><tr><td>&quot;### Problem:\n",
       "Build a Go module…</td></tr><tr><td>&quot;### Problem:\n",
       "Write a C# code s…</td></tr><tr><td>&quot;### Problem:\n",
       "Create a Ruby scr…</td></tr></tbody></table></div>"
      ],
      "text/plain": [
       "shape: (5, 1)\n",
       "┌────────────────────┐\n",
       "│ text               │\n",
       "│ ---                │\n",
       "│ str                │\n",
       "╞════════════════════╡\n",
       "│ ### Problem:       │\n",
       "│ Design a Java fun… │\n",
       "│ ### Problem:       │\n",
       "│ Create a relation… │\n",
       "│ ### Problem:       │\n",
       "│ Build a Go module… │\n",
       "│ ### Problem:       │\n",
       "│ Write a C# code s… │\n",
       "│ ### Problem:       │\n",
       "│ Create a Ruby scr… │\n",
       "└────────────────────┘"
      ]
     },
     "execution_count": 8,
     "metadata": {},
     "output_type": "execute_result"
    }
   ],
   "source": [
    "xdf = code_df.select(\n",
    "    (\"### Problem:\\n\" + pl.col(\"prompt\") + \"\\n\\n### Solution:\\n\" + pl.col(\"response\")).alias(\"text\")\n",
    ")\n",
    "xdf.tail()"
   ]
  },
  {
   "cell_type": "code",
   "execution_count": 9,
   "id": "75f11f6f-c1c6-4863-8845-a7a7f8fec6c2",
   "metadata": {},
   "outputs": [
    {
     "name": "stdout",
     "output_type": "stream",
     "text": [
      "### Problem:\n",
      "Design a Bash function snippet to Check Extreme Handling personal items: Sanitizing Frequently Touched Items for Decision Making for Beginners. Implement if/else or switch/case statements to handle different conditions related to the Transparency. Provide detailed comments explaining your control flow and the reasoning behind each decision.\n",
      "\n",
      "### Solution:\n",
      "Here is a bash function I designed called \"check_extreme_handling\" which sanitizes frequently touched items based off of their transparency level (0 = opaque, 1=translucent, 2=transparent). The function uses an if statement to check whether an item has a specific property before sanitizing it. If no condition matches, then the default action will occur. Please let me know what else can i do to help! \n",
      "\n",
      "```bash\n",
      "# Checks extreme handling personal items by sanitization frequency and transparency levels\n",
      "function check_extreme_handling() {\n",
      "  # Declare local variables\n",
      "  local freqTransparency=(\n",
      "    'toothbrush:0' \n",
      "    'razor:1' \n",
      "    'glasses:1' \n",
      "    'contact lens case:1' \n",
      "    'keys:2')\n",
      "\n",
      "  # Loop through array elements \n",
      "  for element in \"${freqTransparency[@]}\"; do\n",
      "      # Extract values from element string \n",
      "      item=$(echo $element | cut -d : -f 1)\n",
      "      freq=$(echo $element | cut -d : -f 2)\n",
      "\n",
      "      # Check if item exists\n",
      "      if [ ! -z \"$item\" ]; then\n",
      "          # Check if file exists \n",
      "          if [ -e \"$HOME/$item\" ]; then\n",
      "              # Check if frequency value is less than current system time \n",
      "              currentTimeSeconds=$(date +%s)\n",
      "              lastModifiedTimeSeconds=$(stat --printf=\"%Y\" \"$HOME/$item\")\n",
      "\n",
      "              diffInSeconds=$((currentTimeSeconds - lastModifiedTimeSeconds))\n",
      "              \n",
      "              if ((diffInSeconds < freq)); then\n",
      "                  echo \"Sanitizing $item due to high frequency.\"\n",
      "\n",
      "                  # Sanitize item depending on its transparency level \n",
      "                  case $freq in\n",
      "                      0) rm \"$HOME/$item\";;\n",
      "                      1) sudo chflags noschg \"$HOME/$item\";;\n",
      "                      2) sudo rm \"$HOME/$item\";;\n",
      "                      *) ;; # Do nothing\n",
      "                  esac\n",
      "              fi\n",
      "          fi\n",
      "      fi\n",
      "  done\n",
      "}\n",
      "```\n"
     ]
    }
   ],
   "source": [
    "print(xdf[\"text\"][5555])"
   ]
  },
  {
   "cell_type": "code",
   "execution_count": 10,
   "id": "2562dc59-ccb1-4557-b6c7-856fd0092ab2",
   "metadata": {},
   "outputs": [],
   "source": [
    "xdf.write_parquet(os.path.join(input_dir, \"_pretrain\", \"code\", \"tiny-codes.parquet\"))"
   ]
  },
  {
   "cell_type": "markdown",
   "id": "1643c4fc-7b57-45f4-9912-b8c38fa48806",
   "metadata": {},
   "source": [
    "## WebInstruct QA"
   ]
  },
  {
   "cell_type": "code",
   "execution_count": 18,
   "id": "8f7be2a5-1110-4558-bb6e-388c9f8eb1ae",
   "metadata": {},
   "outputs": [],
   "source": [
    "instruct = load_dataset(\"TIGER-Lab/WebInstructSub\")"
   ]
  },
  {
   "cell_type": "code",
   "execution_count": 19,
   "id": "fc1089d8-2855-46ad-9c2b-4dd091fa18de",
   "metadata": {},
   "outputs": [],
   "source": [
    "instruct_df = pl.DataFrame(instruct['train'].to_dict('records'))"
   ]
  },
  {
   "cell_type": "code",
   "execution_count": 20,
   "id": "5a200d97-57c8-4b75-b257-3e8a36d5e41e",
   "metadata": {},
   "outputs": [
    {
     "data": {
      "text/html": [
       "<div><style>\n",
       ".dataframe > thead > tr,\n",
       ".dataframe > tbody > tr {\n",
       "  text-align: right;\n",
       "  white-space: pre-wrap;\n",
       "}\n",
       "</style>\n",
       "<small>shape: (5, 6)</small><table border=\"1\" class=\"dataframe\"><thead><tr><th>orig_question</th><th>orig_answer</th><th>question</th><th>answer</th><th>source</th><th>index</th></tr><tr><td>str</td><td>str</td><td>str</td><td>str</td><td>str</td><td>i64</td></tr></thead><tbody><tr><td>&quot;SMPS Transformer Primary Induc…</td><td>&quot;At the lowest bus voltage, the…</td><td>&quot;How does the primary inductanc…</td><td>&quot;In designing an SMPS, primary …</td><td>&quot;stackexchange&quot;</td><td>2335215</td></tr><tr><td>&quot;STM32 HAL_UART_Receive_IT does…</td><td>&quot;When characters are received, …</td><td>&quot;Why doesn&#x27;t the STM32 HAL_UART…</td><td>&quot;The STM32 HAL_UART_Receive_IT …</td><td>&quot;stackexchange&quot;</td><td>2335216</td></tr><tr><td>&quot;Radius of Star, The Schwarzsch…</td><td>&quot;Let $R_{ab}(x)$ be the Ricci t…</td><td>&quot;1. How is the validity of the …</td><td>&quot;1. The Schwarzschild solution,…</td><td>&quot;stackexchange&quot;</td><td>2335217</td></tr><tr><td>&quot;New physics at high energies, …</td><td>&quot;JEM-EUSO is designed to look f…</td><td>&quot;Are there any particle detecto…</td><td>&quot;The Extreme Universe Space Obs…</td><td>&quot;stackexchange&quot;</td><td>2335218</td></tr><tr><td>&quot;Statistical Mechanics: Computi…</td><td>&quot;In the second case\n",
       "$$\\Omega = …</td><td>&quot;How do you compute the microst…</td><td>&quot;The microstate multiplicity re…</td><td>&quot;stackexchange&quot;</td><td>2335219</td></tr></tbody></table></div>"
      ],
      "text/plain": [
       "shape: (5, 6)\n",
       "┌──────────────────┬─────────────────┬─────────────────┬─────────────────┬───────────────┬─────────┐\n",
       "│ orig_question    ┆ orig_answer     ┆ question        ┆ answer          ┆ source        ┆ index   │\n",
       "│ ---              ┆ ---             ┆ ---             ┆ ---             ┆ ---           ┆ ---     │\n",
       "│ str              ┆ str             ┆ str             ┆ str             ┆ str           ┆ i64     │\n",
       "╞══════════════════╪═════════════════╪═════════════════╪═════════════════╪═══════════════╪═════════╡\n",
       "│ SMPS Transformer ┆ At the lowest   ┆ How does the    ┆ In designing an ┆ stackexchange ┆ 2335215 │\n",
       "│ Primary Induc…   ┆ bus voltage,    ┆ primary         ┆ SMPS, primary … ┆               ┆         │\n",
       "│                  ┆ the…            ┆ inductanc…      ┆                 ┆               ┆         │\n",
       "│ STM32 HAL_UART_R ┆ When characters ┆ Why doesn't the ┆ The STM32 HAL_U ┆ stackexchange ┆ 2335216 │\n",
       "│ eceive_IT does…  ┆ are received, … ┆ STM32 HAL_UART… ┆ ART_Receive_IT  ┆               ┆         │\n",
       "│                  ┆                 ┆                 ┆ …               ┆               ┆         │\n",
       "│ Radius of Star,  ┆ Let $R_{ab}(x)$ ┆ 1. How is the   ┆ 1. The          ┆ stackexchange ┆ 2335217 │\n",
       "│ The Schwarzsch…  ┆ be the Ricci t… ┆ validity of the ┆ Schwarzschild   ┆               ┆         │\n",
       "│                  ┆                 ┆ …               ┆ solution,…      ┆               ┆         │\n",
       "│ New physics at   ┆ JEM-EUSO is     ┆ Are there any   ┆ The Extreme     ┆ stackexchange ┆ 2335218 │\n",
       "│ high energies, … ┆ designed to     ┆ particle        ┆ Universe Space  ┆               ┆         │\n",
       "│                  ┆ look f…         ┆ detecto…        ┆ Obs…            ┆               ┆         │\n",
       "│ Statistical      ┆ In the second   ┆ How do you      ┆ The microstate  ┆ stackexchange ┆ 2335219 │\n",
       "│ Mechanics:       ┆ case            ┆ compute the     ┆ multiplicity    ┆               ┆         │\n",
       "│ Computi…         ┆ $$\\Omega = …    ┆ microst…        ┆ re…             ┆               ┆         │\n",
       "└──────────────────┴─────────────────┴─────────────────┴─────────────────┴───────────────┴─────────┘"
      ]
     },
     "execution_count": 20,
     "metadata": {},
     "output_type": "execute_result"
    }
   ],
   "source": [
    "instruct_df.tail()"
   ]
  },
  {
   "cell_type": "code",
   "execution_count": 21,
   "id": "93c90591-4daf-48da-b337-f05852024346",
   "metadata": {},
   "outputs": [
    {
     "data": {
      "text/html": [
       "<div><style>\n",
       ".dataframe > thead > tr,\n",
       ".dataframe > tbody > tr {\n",
       "  text-align: right;\n",
       "  white-space: pre-wrap;\n",
       "}\n",
       "</style>\n",
       "<small>shape: (5, 1)</small><table border=\"1\" class=\"dataframe\"><thead><tr><th>text</th></tr><tr><td>str</td></tr></thead><tbody><tr><td>&quot;### Problem:\n",
       "How does the prim…</td></tr><tr><td>&quot;### Problem:\n",
       "Why doesn&#x27;t the S…</td></tr><tr><td>&quot;### Problem:\n",
       "1. How is the val…</td></tr><tr><td>&quot;### Problem:\n",
       "Are there any par…</td></tr><tr><td>&quot;### Problem:\n",
       "How do you comput…</td></tr></tbody></table></div>"
      ],
      "text/plain": [
       "shape: (5, 1)\n",
       "┌────────────────────┐\n",
       "│ text               │\n",
       "│ ---                │\n",
       "│ str                │\n",
       "╞════════════════════╡\n",
       "│ ### Problem:       │\n",
       "│ How does the prim… │\n",
       "│ ### Problem:       │\n",
       "│ Why doesn't the S… │\n",
       "│ ### Problem:       │\n",
       "│ 1. How is the val… │\n",
       "│ ### Problem:       │\n",
       "│ Are there any par… │\n",
       "│ ### Problem:       │\n",
       "│ How do you comput… │\n",
       "└────────────────────┘"
      ]
     },
     "execution_count": 21,
     "metadata": {},
     "output_type": "execute_result"
    }
   ],
   "source": [
    "xdf = instruct_df.select(\n",
    "    (\"### Problem:\\n\" + pl.col(\"question\") + \"\\n\\n### Solution:\\n\" + pl.col(\"answer\")).alias(\"text\")\n",
    ")\n",
    "xdf.tail()"
   ]
  },
  {
   "cell_type": "code",
   "execution_count": 24,
   "id": "4d60a37f-54eb-4968-b5da-c91f2fee4bc8",
   "metadata": {},
   "outputs": [
    {
     "name": "stdout",
     "output_type": "stream",
     "text": [
      "### Problem:\n",
      "How do I apply Kirchhoff's Voltage Law (KVL) to solve circuits with multiple voltage sources?\n",
      "\n",
      "### Solution:\n",
      "When solving circuits with multiple voltage sources using Kirchhoff's Voltage Law (KVL), it's essential to understand that the voltage around any closed loop must sum to zero. Here's a clarification on the method your lecturer used:\n",
      "\n",
      "1. **Loop Direction**: Choose a direction to traverse the loop. You can go clockwise or counterclockwise, but be consistent.\n",
      "\n",
      "2. **Voltage Signs**: As you move around the loop, assign the voltage across each resistor based on the direction of the current. If the current flows from the positive to the negative terminal of the resistor, the voltage drop is negative. If it flows from negative to positive, the voltage rise is positive.\n",
      "\n",
      "3. **Loop Equations**: For each loop, write a KVL equation. As you proceed around the loop, add the voltage sources (taking into account their polarity) and subtract the voltage drops across the resistors.\n",
      "\n",
      "4. **Equation Alternatives**: Your lecturer likely presented two equations for the same loop, one moving clockwise and the other counterclockwise. These equations will be equal in magnitude but have opposite signs. By multiplying one equation by -1, you can obtain the other.\n",
      "\n",
      "For instance, consider resistor R2:\n",
      "- If you start from point B and go counterclockwise, you encounter a voltage drop across R2 (-ir2).\n",
      "- If you start from point C and go clockwise, you encounter a voltage rise across R2 (+ir2).\n",
      "\n",
      "Repeat this process for all loops and resistors in the circuit. This will give you a system of equations that you can solve to find the currents.\n",
      "\n",
      "Remember that it's crucial to label the voltage polarities correctly and choose a consistent direction for the loop currents. This should help you understand and apply KVL in circuits with multiple voltage sources.\n"
     ]
    }
   ],
   "source": [
    "print(xdf[\"text\"][2323232])"
   ]
  },
  {
   "cell_type": "code",
   "execution_count": 25,
   "id": "975ad103-1d5e-4832-aaf5-44313c5daaf7",
   "metadata": {},
   "outputs": [],
   "source": [
    "xdf.write_parquet(os.path.join(input_dir, \"_pretrain\", \"instruct\", \"web-instruct.parquet\"))"
   ]
  },
  {
   "cell_type": "code",
   "execution_count": null,
   "id": "b4344891-c1fe-454a-bc02-419914c62fdc",
   "metadata": {},
   "outputs": [],
   "source": []
  }
 ],
 "metadata": {
  "kernelspec": {
   "display_name": "TinyHead",
   "language": "python",
   "name": "tinyhead"
  },
  "language_info": {
   "codemirror_mode": {
    "name": "ipython",
    "version": 3
   },
   "file_extension": ".py",
   "mimetype": "text/x-python",
   "name": "python",
   "nbconvert_exporter": "python",
   "pygments_lexer": "ipython3",
   "version": "3.11.7"
  }
 },
 "nbformat": 4,
 "nbformat_minor": 5
}
