{
 "cells": [
  {
   "cell_type": "code",
   "execution_count": 55,
   "id": "a5ec058c-e27a-4d6b-b049-cd4e5ea4d688",
   "metadata": {},
   "outputs": [],
   "source": [
    "from datasets import load_dataset\n",
    "import polars as pl\n",
    "import os\n",
    "import json\n",
    "from tqdm import tqdm\n",
    "import random"
   ]
  },
  {
   "cell_type": "code",
   "execution_count": 56,
   "id": "5bec13d3-966c-449f-9fff-ad193017cef9",
   "metadata": {},
   "outputs": [],
   "source": [
    "input_dir = \"/workspace/fast-data/disk1/nam/modules/trainer/Samba/data/input/\""
   ]
  },
  {
   "cell_type": "code",
   "execution_count": 4,
   "id": "80a8cedb-4b91-4e74-924c-32d51894eaa5",
   "metadata": {},
   "outputs": [],
   "source": [
    "# Reformat bridgedict"
   ]
  },
  {
   "cell_type": "code",
   "execution_count": 5,
   "id": "92f42a73-6955-4ba1-9911-cddbdd6ff2ba",
   "metadata": {},
   "outputs": [],
   "source": [
    "def load_parquet_files(directory):\n",
    "    # List to hold DataFrames\n",
    "    dataframes = pl.DataFrame()\n",
    "    \n",
    "    # Iterate through all files in the directory\n",
    "    for filename in os.listdir(directory):\n",
    "        # Check if the file is a .parquet file\n",
    "        if filename.endswith(\".parquet\"):\n",
    "            filepath = os.path.join(directory, filename)\n",
    "            # Read the .parquet file using Polars\n",
    "            df = pl.read_parquet(filepath)\n",
    "            df = df.select(pl.col(\"response\"), pl.col(\"word\"))\n",
    "            # Append the DataFrame to the list\n",
    "            dataframes = pl.concat([dataframes, df])\n",
    "    return dataframes"
   ]
  },
  {
   "cell_type": "code",
   "execution_count": 9,
   "id": "eaefd19c-f781-47e9-af4d-94eda87a09df",
   "metadata": {},
   "outputs": [],
   "source": [
    "directory_path = \"/workspace/fast-data/disk1/nam/modules/trainer/Samba/data/input/bridgedict-vgm\"\n",
    "parquet_dfs = load_parquet_files(directory_path)"
   ]
  },
  {
   "cell_type": "code",
   "execution_count": 10,
   "id": "099a7867-92d4-41e5-a8b8-c54f17b68178",
   "metadata": {},
   "outputs": [],
   "source": [
    "def convert_dict_to_markdown(data):\n",
    "    def list_to_markdown(title, items):\n",
    "        return f\"### {title}\\n\" + \"\\n\".join([f\"- {item}\" for item in items]) + \"\\n\"\n",
    "\n",
    "    def section_to_markdown(title, content):\n",
    "        return f\"## {title}\\n\\n{content}\\n\"\n",
    "\n",
    "    markdown = []\n",
    "    try:\n",
    "        data = json.loads(data)\n",
    "        if \"type\" in data:\n",
    "            markdown.append(section_to_markdown(\"Type\", data[\"type\"]))\n",
    "        \n",
    "        if \"context\" in data:\n",
    "            markdown.append(section_to_markdown(\"Context\", data[\"context\"]))\n",
    "        \n",
    "        if \"english_antonyms\" in data and data[\"english_antonyms\"]:\n",
    "            markdown.append(list_to_markdown(\"English Antonyms\", data[\"english_antonyms\"]))\n",
    "    \n",
    "        for key in [\"vietnamese_synonyms\", \"greek_synonyms\", \"hebrew_synonyms\", \"english_synonyms\"]:\n",
    "            if key in data and data[key]:\n",
    "                language = key.split('_')[0].capitalize()\n",
    "                markdown.append(list_to_markdown(f\"{language} Synonyms\", data[key]))\n",
    "    \n",
    "        for key in [\"vietnamese_meaning\", \"greek_meaning\", \"hebrew_meaning\", \"english_meaning\"]:\n",
    "            if key in data and data[key]:\n",
    "                language = key.split('_')[0].capitalize()\n",
    "                markdown.append(list_to_markdown(f\"{language} Meaning\", data[key]))\n",
    "    \n",
    "        for key in [\"example_vietnamese\", \"example_greek\", \"example_hebrew\", \"example_english\"]:\n",
    "            if key in data and data[key]:\n",
    "                language = key.split('_')[1].capitalize()\n",
    "                markdown.append(list_to_markdown(f\"Example Sentences in {language}\", data[key]))\n",
    "        \n",
    "        return \"\\n\".join(markdown)\n",
    "    except:\n",
    "        return \"\"\n",
    "\n",
    "def formatter(series):\n",
    "    return [convert_dict_to_markdown(x) for x in series]"
   ]
  },
  {
   "cell_type": "code",
   "execution_count": 17,
   "id": "84113d2d-974a-4db4-ac1d-852be52ce7f9",
   "metadata": {},
   "outputs": [
    {
     "name": "stderr",
     "output_type": "stream",
     "text": [
      "121569it [00:03, 34317.98it/s]\n"
     ]
    }
   ],
   "source": [
    "result_data = []\n",
    "\n",
    "# Iterate through each row in the DataFrame\n",
    "for row in tqdm(parquet_dfs.iter_rows(named=True)):\n",
    "    word = row[\"word\"]\n",
    "    response = row[\"response\"]\n",
    "    formatted_response = convert_dict_to_markdown(response)\n",
    "    result_data.append({\"word\": word, \"text\": formatted_response})"
   ]
  },
  {
   "cell_type": "code",
   "execution_count": 18,
   "id": "8e4e5095-3a75-4fd9-bcf2-39b789548846",
   "metadata": {},
   "outputs": [],
   "source": [
    "xdf = pl.DataFrame(result_data)"
   ]
  },
  {
   "cell_type": "code",
   "execution_count": 19,
   "id": "db0ccab0-0bff-4f49-944d-0096f0040ad1",
   "metadata": {},
   "outputs": [
    {
     "data": {
      "text/html": [
       "<div><style>\n",
       ".dataframe > thead > tr,\n",
       ".dataframe > tbody > tr {\n",
       "  text-align: right;\n",
       "  white-space: pre-wrap;\n",
       "}\n",
       "</style>\n",
       "<small>shape: (5, 2)</small><table border=\"1\" class=\"dataframe\"><thead><tr><th>word</th><th>text</th></tr><tr><td>str</td><td>str</td></tr></thead><tbody><tr><td>&quot;stuffed bun&quot;</td><td>&quot;## Type\n",
       "\n",
       "noun\n",
       "\n",
       "## Context\n",
       "\n",
       "Thi…</td></tr><tr><td>&quot;lack of order&quot;</td><td>&quot;## Type\n",
       "\n",
       "noun\n",
       "\n",
       "## Context\n",
       "\n",
       "Thi…</td></tr><tr><td>&quot;northern future&quot;</td><td>&quot;## Type\n",
       "\n",
       "noun\n",
       "\n",
       "## Context\n",
       "\n",
       "The…</td></tr><tr><td>&quot;petty affair&quot;</td><td>&quot;## Type\n",
       "\n",
       "noun\n",
       "\n",
       "## Context\n",
       "\n",
       "Thi…</td></tr><tr><td>&quot;clear-cut&quot;</td><td>&quot;## Type\n",
       "\n",
       "adjective\n",
       "\n",
       "## Context…</td></tr></tbody></table></div>"
      ],
      "text/plain": [
       "shape: (5, 2)\n",
       "┌─────────────────┬─────────────┐\n",
       "│ word            ┆ text        │\n",
       "│ ---             ┆ ---         │\n",
       "│ str             ┆ str         │\n",
       "╞═════════════════╪═════════════╡\n",
       "│ stuffed bun     ┆ ## Type     │\n",
       "│                 ┆             │\n",
       "│                 ┆ noun        │\n",
       "│                 ┆             │\n",
       "│                 ┆ ## Context  │\n",
       "│                 ┆             │\n",
       "│                 ┆ Thi…        │\n",
       "│ lack of order   ┆ ## Type     │\n",
       "│                 ┆             │\n",
       "│                 ┆ noun        │\n",
       "│                 ┆             │\n",
       "│                 ┆ ## Context  │\n",
       "│                 ┆             │\n",
       "│                 ┆ Thi…        │\n",
       "│ northern future ┆ ## Type     │\n",
       "│                 ┆             │\n",
       "│                 ┆ noun        │\n",
       "│                 ┆             │\n",
       "│                 ┆ ## Context  │\n",
       "│                 ┆             │\n",
       "│                 ┆ The…        │\n",
       "│ petty affair    ┆ ## Type     │\n",
       "│                 ┆             │\n",
       "│                 ┆ noun        │\n",
       "│                 ┆             │\n",
       "│                 ┆ ## Context  │\n",
       "│                 ┆             │\n",
       "│                 ┆ Thi…        │\n",
       "│ clear-cut       ┆ ## Type     │\n",
       "│                 ┆             │\n",
       "│                 ┆ adjective   │\n",
       "│                 ┆             │\n",
       "│                 ┆ ## Context… │\n",
       "└─────────────────┴─────────────┘"
      ]
     },
     "execution_count": 19,
     "metadata": {},
     "output_type": "execute_result"
    }
   ],
   "source": [
    "xdf.tail()"
   ]
  },
  {
   "cell_type": "code",
   "execution_count": 20,
   "id": "6e91d282-bfa8-47e2-bfc8-a91840311270",
   "metadata": {},
   "outputs": [
    {
     "name": "stderr",
     "output_type": "stream",
     "text": [
      "/tmp/ipykernel_1479/4011437137.py:1: DeprecationWarning: `lengths` is deprecated. It has been renamed to `len_bytes`.\n",
      "  fdf = xdf.filter(pl.col(\"text\").str.lengths() > 10)\n"
     ]
    }
   ],
   "source": [
    "fdf = xdf.filter(pl.col(\"text\").str.lengths() > 10)"
   ]
  },
  {
   "cell_type": "code",
   "execution_count": 21,
   "id": "5ac7b9dc-cfd7-4a9b-a620-7d8de663e542",
   "metadata": {},
   "outputs": [],
   "source": [
    "fdf = fdf.select((\"# \" + pl.col(\"word\") + \"\\n\\n\" + pl.col(\"text\")).alias(\"text\"))"
   ]
  },
  {
   "cell_type": "code",
   "execution_count": 24,
   "id": "28ef0444-d133-4e0c-aac9-33d68e7c0aad",
   "metadata": {},
   "outputs": [
    {
     "name": "stdout",
     "output_type": "stream",
     "text": [
      "# promotion to celestial position\n",
      "\n",
      "## Type\n",
      "\n",
      "noun\n",
      "\n",
      "## Context\n",
      "\n",
      "This word is used in the context of religious or spiritual beliefs. It conveys a positive meaning and refers to the act of being elevated to a divine or heavenly position.\n",
      "\n",
      "### Vietnamese Meaning\n",
      "- Sự thăng cấp thành vị trí thiên đình\n",
      "- Sự được đưa lên chỗ thiêng liêng\n",
      "- Sự được trọng dụng trong vị trí thiên sứ\n",
      "- Sự lên bậc công danh trong địa vị thiêng liêng\n",
      "\n",
      "### Greek Meaning\n",
      "- <translate list of equivalent Vietnamese meanings above into Greek>\n",
      "\n",
      "### Hebrew Meaning\n",
      "- <translate list of equivalent Vietnamese meanings above into Hebrew>\n",
      "\n",
      "### English Meaning\n",
      "- The act of being promoted to a celestial or divine position\n",
      "- The act of being elevated to a sacred or holy place\n",
      "- The act of being appointed to a position of angelic authority\n",
      "- The act of achieving a higher status within a sacred hierarchy\n",
      "\n",
      "### Example Sentences in Vietnamese\n",
      "- Anh ta được thăng cấp thành vị trí thiên sứ.\n",
      "- Tôi mong muốn được đưa lên chỗ thiêng liêng.\n",
      "- Ngài là một thánh nhân đã được trọng dụng vào vị trí thiêng sứ.\n",
      "- Đức vua thăng cấp giữa công danh và vị trí thiêng liêng.\n",
      "\n",
      "### Example Sentences in Greek\n",
      "- <translate list of equivalent Vietnamese examples above into Greek>\n",
      "\n",
      "### Example Sentences in Hebrew\n",
      "- <translate list of equivalent Vietnamese examples above into Hebrew>\n",
      "\n",
      "### Example Sentences in English\n",
      "- He was promoted to the celestial position of an angel.\n",
      "- I long to be elevated to a sacred place.\n",
      "- He is a saint who was appointed to the position of an angelic authority.\n",
      "- The king achieved a higher status within the sacred hierarchy.\n",
      "\n"
     ]
    }
   ],
   "source": [
    "print(fdf[\"text\"][0])"
   ]
  },
  {
   "cell_type": "code",
   "execution_count": 26,
   "id": "495702f5-dcfd-4a03-b673-cc33eef233c3",
   "metadata": {},
   "outputs": [],
   "source": [
    "fdf.write_parquet(\"/workspace/fast-data/disk1/nam/modules/trainer/Samba/data/input/bridgedict.parquet\")"
   ]
  },
  {
   "cell_type": "code",
   "execution_count": 53,
   "id": "7cf050d8-79ef-4908-8840-17c56dff042f",
   "metadata": {},
   "outputs": [],
   "source": [
    "# a = json.loads(parquet_dfs[\"response\"][1110])\n",
    "# print(type(a))\n",
    "# x = convert_dict_to_markdown(a)\n",
    "# print(x)"
   ]
  },
  {
   "cell_type": "code",
   "execution_count": 58,
   "id": "9818e119-4182-4408-b52d-bab3527105b8",
   "metadata": {},
   "outputs": [],
   "source": [
    "bible_data = pl.read_parquet(os.path.join(input_dir, \"bible\", \"book_paragraph_translation.parquet\"))"
   ]
  },
  {
   "cell_type": "code",
   "execution_count": 59,
   "id": "aac0d59a-2570-4445-9996-1a3a4a158f93",
   "metadata": {},
   "outputs": [
    {
     "name": "stderr",
     "output_type": "stream",
     "text": [
      "43886it [00:00, 53314.80it/s]\n"
     ]
    }
   ],
   "source": [
    "result_data = []\n",
    "\n",
    "# Iterate through each row in the DataFrame\n",
    "for row in tqdm(bible_data.iter_rows(named=True)):\n",
    "    if random.choice([True, False]):\n",
    "        text = f\"\"\"### Vietnamese\n",
    "{row['content_vi']}\n",
    "\n",
    "### English\n",
    "{row['content_en']}\n",
    "\"\"\"\n",
    "    else:\n",
    "        text = f\"\"\"### English\n",
    "{row['content_en']}\n",
    "\n",
    "### Vietnamese\n",
    "{row['content_vi']}\n",
    "\"\"\"\n",
    "    result_data.append({\"text\": text})"
   ]
  },
  {
   "cell_type": "code",
   "execution_count": 60,
   "id": "58b7cba7-7bfb-422a-8175-d6603ee8a488",
   "metadata": {},
   "outputs": [],
   "source": [
    "xdf = pl.DataFrame(result_data)"
   ]
  },
  {
   "cell_type": "code",
   "execution_count": 61,
   "id": "a3dbe488-4c75-44a1-a964-63d0398f96a5",
   "metadata": {
    "scrolled": true
   },
   "outputs": [
    {
     "name": "stdout",
     "output_type": "stream",
     "text": [
      "### English\n",
      "So the Peter replied that suffering was part of the journey of faith.\n",
      "It tests the true value of our disciples (1: 7), making us stick with other Christians (5: 9) and will be advocated in the day of judgment (4: 16- 19).\n",
      "Although the believers are \"strange guests\" and \"dissolved\" in this world (1: 1), they are part of the people of God pilgrimage (2: 5.9) towards the house My father (1: 4).\n",
      "They look forward to the day that Jesus returned because those who belong to Him (1: 7 2:12 5: 4).\n",
      "These are truths that make Christians today have been urged to live for God's glory, as they have encouraged non-e-reputable readers.\n",
      "Peter wrote a letter as a person in his heart who didn't lose the love fire but the Lord himself grouped at the coast of Ti-riery (comparing GI 21: 1,15-19 with IPHI 1: 8).\n",
      "This letter contained all vividness in a person's personal recollection of Jesus.\n",
      "Please also see the article about how to read messages.\n",
      "Read more, I and II Peter\n",
      "E. P. Clowney, The Message of 1 Peter, BST (IVP, 1988).\n",
      "I. H. Marshall, 1 Peter, IVPNTC (IVP, 1991).\n",
      "W. GRUDEM, 1 PETER, TNTC (IVP / UK / EERDMANS, 1988).\n",
      "P. H. Davids, The First Epistle of Peter, Nicnt (Eerdmans, 1990).\n",
      "J. N. Kelly, The Epistle of Peter & Jude, BNTC (A. and C. Black, 1969).\n",
      "J. R. Michaels, 1 Peter, WBC (Word, 1988).\n",
      "C. E. Cranfield, 1 and 2 Peter and Jude, TBC (SCM, 1960).\n",
      "E. M. B.\n",
      "Green, 2 Peter and Jude, TNTC (IVP / UK / Eerdmans, 1968).\n",
      "R. Bauckham, Jude and 2 Peter, WBC (Word, 1983).\n",
      "Layout\n",
      "Author to visit readers (1: 1-2)\n",
      "God's salvation plan meets all of our needs (1: 3-9)\n",
      "Salvation has been shown to us (1: 10-12)\n",
      "Salvation that we get having sex to our way of life every day (1: 13-5: 7)\n",
      "Live like Jesus (1: 13-21)\n",
      "Loving other Christians (1: 22-25)\n",
      "Looking forward to growing (2: 1-3)\n",
      "Civil of God (2: 4-10)\n",
      "Examination for others exemplary of Jesus (2: 11-3: 12)\n",
      "Live because of the Lord when meeting the opposition (3: 13-4: 6)\n",
      "Serving each other (4: 7-11)\n",
      "Suffering for the Lord (4: 12-19)\n",
      "Implementing leadership role (5: 1-4)\n",
      "Becoming good disciples (5: 5-7)\n",
      "Introductions\n",
      "Previous fake did not let us suspect this issue.\n",
      "He said he was \"Si-Peter, servant and the Apostles of Jesus Christ\" (1: 1).\n",
      "He was on the mountain of shaping with Jesus (1: 16-18), where only Peter, James and John was with Him (Mac 9: 2-12).\n",
      "One previous occasion, he wrote to those who recipient this letter (3: 1) and have a close relationship with them (3: 1,8,14,17).\n",
      "Furthermore, he called Paul who was the one \"I am very beloved\" (3:15) and at the time of writing this letter, he thought he was going to die (1:14).\n",
      "It is not found that any evidence suggests that a certain information among the above is added to the letter to make people accept the letter.\n",
      "However, there is a very popular theory that this letter is a 'sutrator', ie a writer made when a great character has died, published on behalf of him as if It contains what the person said in that situation.\n",
      "Thus this letter will make him be honored by regulating him for him.\n",
      "These reasons for this view are as follows.\n",
      "First, it is said that the language and French pen of this letter are not the same as Peter.\n",
      "In terms of text, we see many complex phrases of an exaggerated French pen.\n",
      "This is especially true in Chapter 2, because its thesis that the author must present as long as I have implemented IPHI 3: 18-22.\n",
      "Anyway, I Peter also mentioned many different issues, and perhaps a few parts were added by Sin-Vanh (IPHI 5:12).\n",
      "In fact, between these two letters there are many similarities.\n",
      "Some words and phrases only see in these two letters in addition to anywhere else in the New Testament Bible, for example, from \"German\" used for God (IIPHI 1: 3 IPHI 2: 9 (Translate is 'German preaching')) \"Leave\" (IIPHI 1:14 IPhi 3:21 (Cleaning);) \"Crime is never bored\" (IIphi 2:14 IPhi 4: 1 ( Translation is 'hit off sin')).\n",
      "In addition, there are universal words in other places such as \"love brothers\" (iPhi 1: 7 IPhi 1:22), root from \"Witnesses\" (IIPHI 1:16 IPhi 2:12 3: 2) and \"Add\" (iPhi 1: 5 iphi 4:11).\n",
      "There is also the same in the sayings about prophecy words (iPhi 1: 20-21 IPHI 1: 10-12), about the freedom of Christians (IIPHI 2:19 IPHI 2:16), about things Occurs in the last days (IIPHI 3: 3.10 IPHI 1: 5).\n",
      "\n",
      "### Vietnamese\n",
      "Vì thế Phi-e-rơ trả lời rằng chịu khổ là một phần hành trình của đức tin.\n",
      "Nó thử nghiệm giá trị thật việc chúng ta làm môn đồ (1:7), làm chúng ta gắn bó với những anh em Cơ Đốc nhân khác (5:9) và sẽ được bênh vực trong ngày phán xét (4:16-19).\n",
      "Tuy những người tin Chúa là “khách lạ” và “bị tan lạc” trong thế gian này (1:1), nhưng họ là một phần của dân sự Đức Chúa Trời đang hành hương (2:5,9) hướng về nhà Cha mình (1:4).\n",
      "Họ trông đợi ngày mà Chúa Giê-xu trở lại vì những kẻ thuộc về Ngài (1:7 2:12 5:4).\n",
      "Đây là những lẽ thật khiến các Cơ Đốc nhân ngày nay được thôi thúc để sống vì sự vinh hiển của Đức Chúa Trời, như chúng đã từng khích lệ các độc giả ban đầu của Phi-e-rơ vậy.\n",
      "Phi-e-rơ đã viết lá thư như một người trong lòng không hề đánh mất ngọn lửa tình yêu mà chính Chúa đã nhen nhóm tại bờ biển Ti-bê-ri-át (đối chiếu Gi 21:1,15-19 với IPhi 1:8).\n",
      "Bức thư này chứa đựng tất cả sự sống động trong hồi ức cá nhân của một người theo Chúa Cứu Thế Giê-xu.\n",
      "Xin cũng xem bài viết về Cách Đọc Các Thư Tín.\n",
      "Đọc Thêm, I và II Phi-e-rơ\n",
      "E. P. Clowney, The Message of 1 Peter, BST (IVP, 1988).\n",
      "I. H. Marshall, 1 Peter, IVPNTC (IVP, 1991).\n",
      "W. Grudem, 1 Peter, TNTC (IVP/UK/Eerdmans, 1988).\n",
      "P. H. Davids, The First Epistle of Peter, NICNT (Eerdmans, 1990).\n",
      "J. N. D. Kelly, The Epistle of Peter & Jude, BNTC (A. and C. Black, 1969).\n",
      "J. R. Michaels, 1 Peter, WBC (Word, 1988).\n",
      "C. E. B. Cranfield, 1 and 2 Peter and Jude, TBC (SCM, 1960).\n",
      "E. M. B.\n",
      "Green, 2 Peter and Jude, TNTC (IVP/UK/Eerdmans, 1968).\n",
      "R. Bauckham, Jude and 2 Peter, WBC (Word, 1983).\n",
      "Bố Cục\n",
      "Tác giả chào thăm độc giả (1:1-2)\n",
      "Kế hoạch cứu rỗi của Đức Chúa Trời đáp ứng mọi nhu cầu của chúng ta (1:3-9)\n",
      "Sự cứu rỗi đã được bày tỏ cho chúng ta như thế nào (1:10-12)\n",
      "Sự cứu rỗi mà chúng ta nhận được có quan hệ thế nào đến cách sống mỗi ngày của chúng ta (1:13-5:7)\n",
      "Sống giống như Chúa Giê-xu (1:13-21)\n",
      "Yêu thương các Cơ Đốc nhân khác (1:22-25)\n",
      "Mong muốn được tăng trưởng (2:1-3)\n",
      "Thuộc về dân sự của Đức Chúa Trời (2:4-10)\n",
      "Bày tỏ cho người khác gương mẫu của Chúa Giê-xu (2:11-3:12)\n",
      "Sống vì Chúa Cứu Thế khi gặp sự chống đối (3:13-4:6)\n",
      "Phục vụ lẫn nhau (4:7-11)\n",
      "Chịu khổ vì Chúa Cứu Thế (4:12-19)\n",
      "Thực thi vai trò lãnh đạo (5:1-4)\n",
      "Trở nên những môn đệ tốt (5:5-7)\n",
      "Dẫn Nhập\n",
      "Trước giả đã không để cho chúng ta phải nghi ngờ về vấn đề này.\n",
      "Ông nói mình là “Si-môn Phi-e-rơ, tôi tớ và sứ đồ của Đức Chúa Giê-xu Christ” (1:1).\n",
      "Ông từng ở trên núi hoá hình với Đức Chúa Giê-xu (1:16-18), nơi chỉ có Phi-e-rơ, Gia-cơ và Giăng ở với Ngài (Mac 9:2-12).\n",
      "Một dịp trước đó, ông đã viết thư cho những người nhận bức thư này (3:1) và có mối quan hệ thân thiết với họ (3:1,8,14,17).\n",
      "Hơn nữa, ông gọi Phao-lô là người “anh rất yêu dấu của chúng ta” (3:15) và vào thời điểm viết bức thư này, ông nghĩ rằng mình sắp phải qua đời (1:14).\n",
      "Người ta không tìm thấy chứng cứ nào gợi ý rằng một thông tin nào đó trong số kể trên về sau đã được thêm vào bức thư để khiến cho người ta chấp nhận bức thư.\n",
      "Tuy nhiên, có một thuyết hiện đại rất phổ biến cho rằng bức thư này là một ‘nguỵ kinh’, tức là một văn phẩm được thực hiện khi một nhân vật vĩ đại đã qua đời, được xuất bản nhân danh người ấy như thể nó chứa đựng những điều người ấy đã nói trong hoàn cảnh đó.\n",
      "Như thế bức thư này sẽ làm cho người ấy được vinh dự qua việc quy nó cho người ấy.\n",
      "Những lý lẽ hậu thuẫn cho quan điểm này như sau.\n",
      "Thứ nhất, người ta bảo rằng ngôn ngữ và bút pháp của bức thư này không giống với I Phi-e-rơ.\n",
      "Về mặt văn tự, chúng ta thấy có nhiều cụm từ phức tạp của một bút pháp thích phóng đại.\n",
      "Điều này đặc biệt đúng trong chương 2, bởi luận đề của mình mà tác giả buột phải trình bày dông dài như đã từng thực hiện IPhi 3:18-22.\n",
      "Dù sao thì I Phi-e-rơ cũng đã đề cập đến nhiều vấn đề khác nhau, và có lẽ có một vài phần được Sin-vanh thêm vào (IPhi 5:12).\n",
      "Thật ra, giữa hai bức thư này có rất nhiều điểm giống nhau.\n",
      "Một số từ và cụm từ chỉ thấy xuất hiện trong hai bức thư này ngoài ra không thấy ở bất kỳ chỗ nào khác trong Kinh Thánh Tân Ước, thí dụ từ “nhân đức” được dùng cho Đức Chúa Trời (IIPhi 1:3 IPhi 2:9 (dịch là ‘rao giảng nhân đức’)) “lìa” (IIPhi 1:14 IPhi 3:21 (làm sạch);) “phạm tội không bao giờ chán” (IIPhi 2:14 IPhi 4:1 (dịch là ‘đã dứt khỏi tội lỗi’)).\n",
      "Ngoài ra có những từ ngữ không phổ biến ở chỗ khác như “tình yêu thương anh em” (IIPhi 1:7 IPhi 1:22), gốc từ của “những nhân chứng” (IIPhi 1:16 IPhi 2:12 3:2) và “thêm” (IIPhi 1:5 IPhi 4:11).\n",
      "Cũng có sự giống nhau trong các câu nói về lời tiên tri (IIPhi 1:20-21 IPhi 1:10-12), về quyền tự do của Cơ Đốc nhân (IIPhi 2:19 IPhi 2:16), về những việc xảy ra trong những ngày sau rốt (IIPhi 3:3,10 IPhi 1:5).\n",
      "\n"
     ]
    }
   ],
   "source": [
    "print(xdf[\"text\"][222])"
   ]
  },
  {
   "cell_type": "code",
   "execution_count": 62,
   "id": "e47d69e9-b8a8-4325-af49-978f1e08beaa",
   "metadata": {},
   "outputs": [],
   "source": [
    "xdf.write_parquet(os.path.join(input_dir, \"_pretrain\", \"bible\", \"vietbible_envi.parquet\"))"
   ]
  },
  {
   "cell_type": "markdown",
   "id": "0a6b3167-ffae-497b-8ed9-fa616aa6dde3",
   "metadata": {},
   "source": [
    "### Bible Text"
   ]
  },
  {
   "cell_type": "code",
   "execution_count": 50,
   "id": "7b2347f7-872c-459a-a475-9b188814c9cc",
   "metadata": {
    "collapsed": true,
    "jupyter": {
     "outputs_hidden": true
    }
   },
   "outputs": [
    {
     "data": {
      "text/html": [
       "<div><style>\n",
       ".dataframe > thead > tr,\n",
       ".dataframe > tbody > tr {\n",
       "  text-align: right;\n",
       "  white-space: pre-wrap;\n",
       "}\n",
       "</style>\n",
       "<small>shape: (5, 10)</small><table border=\"1\" class=\"dataframe\"><thead><tr><th>language</th><th>version</th><th>version_text</th><th>book_name</th><th>book_text</th><th>vb_code</th><th>osis_code</th><th>chapter</th><th>text</th><th>verses</th></tr><tr><td>str</td><td>str</td><td>str</td><td>str</td><td>str</td><td>str</td><td>str</td><td>str</td><td>str</td><td>list[str]</td></tr></thead><tbody><tr><td>&quot;vietnamese&quot;</td><td>&quot;VIEVTT&quot;</td><td>&quot;Bản Truyền Thống 1926&quot;</td><td>&quot;Zech&quot;</td><td>&quot;Xa-cha-ri&quot;</td><td>&quot;Xa&quot;</td><td>&quot;Zech&quot;</td><td>&quot;8&quot;</td><td>&quot;# Kinh Thánh\n",
       "Version: Bản Truy…</td><td>[&quot;Xa-cha-ri 8:1 `Lại có lời của Đức Giê-hô-va vạn quân phán cùng ta rằng:` (Xa 8:1)&quot;, &quot;Xa-cha-ri 8:2 `Đức Giê-hô-va vạn quân có phán như vầy: Ta đã nổi ghen vì Si-ôn bởi một cơn ghen lớn, ta đã nổi ghen vì nó bởi cơn tức giận lớn.` (Xa 8:2)&quot;, … &quot;Xa-cha-ri 8:23 `Đức Giê-hô-va vạn quân phán như vầy: Sẽ xảy ra trong những ngày đó, có mười người từ mọi thứ tiếng trong các nước ra, nắm chặt vạt áo của một người Giu-đa, mà nói rằng: Chúng ta sẽ đi cùng các ngươi, vì chúng ta có nghe rằng Đức Giê-hô-va ở cùng các ngươi.` (Xa 8:23)&quot;]</td></tr><tr><td>&quot;vietnamese&quot;</td><td>&quot;VIEVTT&quot;</td><td>&quot;Bản Truyền Thống 1926&quot;</td><td>&quot;Zech&quot;</td><td>&quot;Xa-cha-ri&quot;</td><td>&quot;Xa&quot;</td><td>&quot;Zech&quot;</td><td>&quot;9&quot;</td><td>&quot;# Kinh Thánh\n",
       "Version: Bản Truy…</td><td>[&quot;Xa-cha-ri 9:1 `Gánh nặng lời Đức Giê-hô-va nghịch cùng đất Ha-đơ-rắc, nó sẽ đỗ trên Đa-mách: vì con mắt loài người và mọi chi phái Y-sơ-ra-ên đều ngó lên Đức Giê-hô-va.` (Xa 9:1)&quot;, &quot;Xa-cha-ri 9:2 `Lời ấy cũng phán về Ha-mát, láng giềng của Đa-mách, về Ty-rơ và Si-đôn, vì các thành ấy là rất khôn sáng.` (Xa 9:2)&quot;, … &quot;Xa-cha-ri 9:17 `Sự nhân từ Ngài và sự tốt đẹp Ngài sẽ lớn là dường nào! Lúa miến sẽ làm cho những trai trẻ lớn lên, và rượu mới sẽ làm cho gái đồng trinh thạnh vượng.` (Xa 9:17)&quot;]</td></tr><tr><td>&quot;vietnamese&quot;</td><td>&quot;VIEVTT&quot;</td><td>&quot;Bản Truyền Thống 1926&quot;</td><td>&quot;Zeph&quot;</td><td>&quot;Sô-phô-ni&quot;</td><td>&quot;So&quot;</td><td>&quot;Zeph&quot;</td><td>&quot;1&quot;</td><td>&quot;# Kinh Thánh\n",
       "Version: Bản Truy…</td><td>[&quot;Sô-phô-ni 1:1 `Nầy là lời Đức Giê-hô-va phán cùng Sô-phô-ni, con trai Cu-si, cháu Ghê-đa-lia, chắt A-ma-ria, chít Ê-xê-chia, về đời Giô-si-a, con trai A-môn, vua Giu-đa.` (So 1:1)&quot;, &quot;Sô-phô-ni 1:2 `Ta sẽ diệt sạch mọi sự khỏi mặt đất, Đức Giê-hô-va phán vậy.` (So 1:2)&quot;, … &quot;Sô-phô-ni 1:18 `Hoặc bạc hoặc vàng của chúng nó, đều không có thể giải cứu chúng nó trong ngày thạnh nộ của Đức Giê-hô-va; nhưng cả đất nầy sẽ bị lửa ghen Ngài thiêu nuốt; vì Ngài sẽ diệt hết dân cư đất nầy cách thình lình.` (So 1:18)&quot;]</td></tr><tr><td>&quot;vietnamese&quot;</td><td>&quot;VIEVTT&quot;</td><td>&quot;Bản Truyền Thống 1926&quot;</td><td>&quot;Zeph&quot;</td><td>&quot;Sô-phô-ni&quot;</td><td>&quot;So&quot;</td><td>&quot;Zeph&quot;</td><td>&quot;2&quot;</td><td>&quot;# Kinh Thánh\n",
       "Version: Bản Truy…</td><td>[&quot;Sô-phô-ni 2:1 `Hỡi dân chẳng biết xấu hổ! Hãy nhóm hiệp lại, phải, hãy nhóm hiệp lại,` (So 2:1)&quot;, &quot;Sô-phô-ni 2:2 `trước khi mạng lịnh chưa ra, ngày giờ chưa qua như trấu, trước khi sự nóng giận của Đức Giê-hô-va chưa đến trên các ngươi, trước khi ngày thạnh nộ của Đức Giê-hô-va chưa đến trên các ngươi.` (So 2:2)&quot;, … &quot;Sô-phô-ni 2:15 `Kìa, thành vui vẻ nầy đã ở yên không lo lắng và nói trong lòng mình rằng: Ta đây, ngoài ta không còn ai hết! Nó đã trở nên hoang vu, làm chỗ nằm cho loài thú vật là dường nào! Phàm kẻ đi qua sẽ khoa tay mà nhạo cười!` (So 2:15)&quot;]</td></tr><tr><td>&quot;vietnamese&quot;</td><td>&quot;VIEVTT&quot;</td><td>&quot;Bản Truyền Thống 1926&quot;</td><td>&quot;Zeph&quot;</td><td>&quot;Sô-phô-ni&quot;</td><td>&quot;So&quot;</td><td>&quot;Zeph&quot;</td><td>&quot;3&quot;</td><td>&quot;# Kinh Thánh\n",
       "Version: Bản Truy…</td><td>[&quot;Sô-phô-ni 3:1 `Khốn thay cho thành bạn nghịch và ô uế, làm sự bạo ngược!` (So 3:1)&quot;, &quot;Sô-phô-ni 3:2 `Nó không nghe lời; không chịu sửa dạy; không nhờ cậy Đức Giê-hô-va; không đến gần Đức Chúa Trời mình.` (So 3:2)&quot;, … &quot;Sô-phô-ni 3:20 `Trong lúc đó, ta sẽ đem các ngươi trở về, trong lúc đó ta sẽ nhóm các ngươi lại; vì ta sẽ làm cho các ngươi nổi danh tiếng và được khen lao giữa mọi dân trên đất, khi ta đem phu tù các ngươi về trước mặt các ngươi, Đức Giê-hô-va có phán vậy.` (So 3:20)&quot;]</td></tr></tbody></table></div>"
      ],
      "text/plain": [
       "shape: (5, 10)\n",
       "┌────────────┬─────────┬────────────┬───────────┬───┬───────────┬─────────┬────────────┬───────────┐\n",
       "│ language   ┆ version ┆ version_te ┆ book_name ┆ … ┆ osis_code ┆ chapter ┆ text       ┆ verses    │\n",
       "│ ---        ┆ ---     ┆ xt         ┆ ---       ┆   ┆ ---       ┆ ---     ┆ ---        ┆ ---       │\n",
       "│ str        ┆ str     ┆ ---        ┆ str       ┆   ┆ str       ┆ str     ┆ str        ┆ list[str] │\n",
       "│            ┆         ┆ str        ┆           ┆   ┆           ┆         ┆            ┆           │\n",
       "╞════════════╪═════════╪════════════╪═══════════╪═══╪═══════════╪═════════╪════════════╪═══════════╡\n",
       "│ vietnamese ┆ VIEVTT  ┆ Bản Truyền ┆ Zech      ┆ … ┆ Zech      ┆ 8       ┆ # Kinh     ┆ [\"Xa-cha- │\n",
       "│            ┆         ┆ Thống 1926 ┆           ┆   ┆           ┆         ┆ Thánh      ┆ ri 8:1    │\n",
       "│            ┆         ┆            ┆           ┆   ┆           ┆         ┆ Version:   ┆ `Lại có   │\n",
       "│            ┆         ┆            ┆           ┆   ┆           ┆         ┆ Bản Truy…  ┆ lời củ…   │\n",
       "│ vietnamese ┆ VIEVTT  ┆ Bản Truyền ┆ Zech      ┆ … ┆ Zech      ┆ 9       ┆ # Kinh     ┆ [\"Xa-cha- │\n",
       "│            ┆         ┆ Thống 1926 ┆           ┆   ┆           ┆         ┆ Thánh      ┆ ri 9:1    │\n",
       "│            ┆         ┆            ┆           ┆   ┆           ┆         ┆ Version:   ┆ `Gánh     │\n",
       "│            ┆         ┆            ┆           ┆   ┆           ┆         ┆ Bản Truy…  ┆ nặng lời… │\n",
       "│ vietnamese ┆ VIEVTT  ┆ Bản Truyền ┆ Zeph      ┆ … ┆ Zeph      ┆ 1       ┆ # Kinh     ┆ [\"Sô-phô- │\n",
       "│            ┆         ┆ Thống 1926 ┆           ┆   ┆           ┆         ┆ Thánh      ┆ ni 1:1    │\n",
       "│            ┆         ┆            ┆           ┆   ┆           ┆         ┆ Version:   ┆ `Nầy là   │\n",
       "│            ┆         ┆            ┆           ┆   ┆           ┆         ┆ Bản Truy…  ┆ lời Đứ…   │\n",
       "│ vietnamese ┆ VIEVTT  ┆ Bản Truyền ┆ Zeph      ┆ … ┆ Zeph      ┆ 2       ┆ # Kinh     ┆ [\"Sô-phô- │\n",
       "│            ┆         ┆ Thống 1926 ┆           ┆   ┆           ┆         ┆ Thánh      ┆ ni 2:1    │\n",
       "│            ┆         ┆            ┆           ┆   ┆           ┆         ┆ Version:   ┆ `Hỡi dân  │\n",
       "│            ┆         ┆            ┆           ┆   ┆           ┆         ┆ Bản Truy…  ┆ chẳng…    │\n",
       "│ vietnamese ┆ VIEVTT  ┆ Bản Truyền ┆ Zeph      ┆ … ┆ Zeph      ┆ 3       ┆ # Kinh     ┆ [\"Sô-phô- │\n",
       "│            ┆         ┆ Thống 1926 ┆           ┆   ┆           ┆         ┆ Thánh      ┆ ni 3:1    │\n",
       "│            ┆         ┆            ┆           ┆   ┆           ┆         ┆ Version:   ┆ `Khốn     │\n",
       "│            ┆         ┆            ┆           ┆   ┆           ┆         ┆ Bản Truy…  ┆ thay cho… │\n",
       "└────────────┴─────────┴────────────┴───────────┴───┴───────────┴─────────┴────────────┴───────────┘"
      ]
     },
     "execution_count": 50,
     "metadata": {},
     "output_type": "execute_result"
    }
   ],
   "source": [
    "bible_data = pl.read_parquet(os.path.join(input_dir, \"bible\", \"bible_raw.parquet\"))\n",
    "bible_data.tail()"
   ]
  },
  {
   "cell_type": "code",
   "execution_count": 51,
   "id": "6d927540-5c3b-464e-a053-3ae6940d5c6f",
   "metadata": {},
   "outputs": [
    {
     "data": {
      "text/html": [
       "<div><style>\n",
       ".dataframe > thead > tr,\n",
       ".dataframe > tbody > tr {\n",
       "  text-align: right;\n",
       "  white-space: pre-wrap;\n",
       "}\n",
       "</style>\n",
       "<small>shape: (5, 1)</small><table border=\"1\" class=\"dataframe\"><thead><tr><th>text</th></tr><tr><td>str</td></tr></thead><tbody><tr><td>&quot;# Kinh Thánh\n",
       "Version: Bản Truy…</td></tr><tr><td>&quot;# Kinh Thánh\n",
       "Version: Bản Truy…</td></tr><tr><td>&quot;# Kinh Thánh\n",
       "Version: Bản Truy…</td></tr><tr><td>&quot;# Kinh Thánh\n",
       "Version: Bản Truy…</td></tr><tr><td>&quot;# Kinh Thánh\n",
       "Version: Bản Truy…</td></tr></tbody></table></div>"
      ],
      "text/plain": [
       "shape: (5, 1)\n",
       "┌────────────────────┐\n",
       "│ text               │\n",
       "│ ---                │\n",
       "│ str                │\n",
       "╞════════════════════╡\n",
       "│ # Kinh Thánh       │\n",
       "│ Version: Bản Truy… │\n",
       "│ # Kinh Thánh       │\n",
       "│ Version: Bản Truy… │\n",
       "│ # Kinh Thánh       │\n",
       "│ Version: Bản Truy… │\n",
       "│ # Kinh Thánh       │\n",
       "│ Version: Bản Truy… │\n",
       "│ # Kinh Thánh       │\n",
       "│ Version: Bản Truy… │\n",
       "└────────────────────┘"
      ]
     },
     "execution_count": 51,
     "metadata": {},
     "output_type": "execute_result"
    }
   ],
   "source": [
    "xdf = bible_data.select(pl.col(\"text\"))\n",
    "xdf.tail()"
   ]
  },
  {
   "cell_type": "code",
   "execution_count": 52,
   "id": "319d4c85-3c6d-4df8-bd8d-351a18497364",
   "metadata": {},
   "outputs": [],
   "source": [
    "xdf.write_parquet(os.path.join(input_dir, \"_pretrain\", \"bible\", \"multiple_bible_raw.parquet\"))"
   ]
  },
  {
   "cell_type": "markdown",
   "id": "65bbd5c7-3f0f-41e4-b07c-0326c41618b3",
   "metadata": {},
   "source": [
    "### Translation Data"
   ]
  },
  {
   "cell_type": "code",
   "execution_count": 27,
   "id": "3567dfa2-6740-43b6-8eb3-b5694f144e30",
   "metadata": {},
   "outputs": [
    {
     "name": "stderr",
     "output_type": "stream",
     "text": [
      "Downloading data: 100%|██████████| 882k/882k [00:00<00:00, 1.06MB/s]\n",
      "Downloading data: 100%|██████████| 2.46M/2.46M [00:00<00:00, 2.61MB/s]\n",
      "Downloading data: 100%|██████████| 3.17M/3.17M [00:00<00:00, 3.69MB/s]\n",
      "Downloading data: 100%|██████████| 123M/123M [00:04<00:00, 27.9MB/s] \n",
      "Downloading data: 100%|██████████| 882k/882k [00:00<00:00, 938kB/s]\n",
      "Downloading data: 100%|██████████| 1.50M/1.50M [00:00<00:00, 1.71MB/s]\n",
      "Downloading data: 100%|██████████| 2.46M/2.46M [00:01<00:00, 1.93MB/s]\n",
      "Downloading data: 100%|██████████| 3.17M/3.17M [00:01<00:00, 2.92MB/s]\n",
      "Downloading data: 100%|██████████| 23.4M/23.4M [00:01<00:00, 14.3MB/s]\n",
      "Generating train split: 100%|██████████| 48501/48501 [00:01<00:00, 31363.03 examples/s]\n"
     ]
    }
   ],
   "source": [
    "e2v = load_dataset(\"nampdn-ai/e2v-v2e\")"
   ]
  },
  {
   "cell_type": "code",
   "execution_count": 28,
   "id": "bf9fd3fa-dab1-4d85-8e86-ac308a9e3f3b",
   "metadata": {},
   "outputs": [],
   "source": [
    "e2v_df = pl.DataFrame(e2v['train'].to_dict('records'))"
   ]
  },
  {
   "cell_type": "code",
   "execution_count": 31,
   "id": "90f9447d-3657-45bb-b1a8-9e1e2d278060",
   "metadata": {},
   "outputs": [],
   "source": [
    "e2v_df.write_parquet(os.path.join(input_dir, \"_pretrain\", \"core\", \"e2v-v2e.parquet\"))"
   ]
  },
  {
   "cell_type": "markdown",
   "id": "766e6b71-3564-4639-853a-d563e00a74c8",
   "metadata": {},
   "source": [
    "## MATH"
   ]
  },
  {
   "cell_type": "code",
   "execution_count": 63,
   "id": "ac909ae3-0284-4410-a1ca-b03e30072528",
   "metadata": {},
   "outputs": [
    {
     "name": "stderr",
     "output_type": "stream",
     "text": [
      "Downloading readme: 100%|██████████| 6.91k/6.91k [00:00<00:00, 15.8MB/s]\n",
      "Downloading data: 100%|██████████| 84.2M/84.2M [00:02<00:00, 29.9MB/s]\n",
      "Generating train split: 100%|██████████| 200035/200035 [00:00<00:00, 218592.55 examples/s]\n"
     ]
    }
   ],
   "source": [
    "math = load_dataset(\"microsoft/orca-math-word-problems-200k\")"
   ]
  },
  {
   "cell_type": "code",
   "execution_count": 64,
   "id": "ba73c1a3-638e-4cb3-b7e7-9b835d295a89",
   "metadata": {},
   "outputs": [],
   "source": [
    "math_df = pl.DataFrame(math['train'].to_dict('records'))"
   ]
  },
  {
   "cell_type": "code",
   "execution_count": 65,
   "id": "e7b627f2-a8e5-41b9-8dd8-000bae04812f",
   "metadata": {},
   "outputs": [
    {
     "data": {
      "text/html": [
       "<div><style>\n",
       ".dataframe > thead > tr,\n",
       ".dataframe > tbody > tr {\n",
       "  text-align: right;\n",
       "  white-space: pre-wrap;\n",
       "}\n",
       "</style>\n",
       "<small>shape: (5, 2)</small><table border=\"1\" class=\"dataframe\"><thead><tr><th>question</th><th>answer</th></tr><tr><td>str</td><td>str</td></tr></thead><tbody><tr><td>&quot;Adult tickets for a show cost …</td><td>&quot;Let&#x27;s denote the number of adu…</td></tr><tr><td>&quot;Your cell phone company offers…</td><td>&quot;Let&#x27;s denote the number of tex…</td></tr><tr><td>&quot;Steve invests in a circus prod…</td><td>&quot;First, let&#x27;s calculate the ave…</td></tr><tr><td>&quot;Your teacher is giving a test …</td><td>&quot;Let&#x27;s denote the number of 5-p…</td></tr><tr><td>&quot;A plane flying with a tailwind…</td><td>&quot;Let&#x27;s denote the plane&#x27;s airsp…</td></tr></tbody></table></div>"
      ],
      "text/plain": [
       "shape: (5, 2)\n",
       "┌─────────────────────────────────┬─────────────────────────────────┐\n",
       "│ question                        ┆ answer                          │\n",
       "│ ---                             ┆ ---                             │\n",
       "│ str                             ┆ str                             │\n",
       "╞═════════════════════════════════╪═════════════════════════════════╡\n",
       "│ Adult tickets for a show cost … ┆ Let's denote the number of adu… │\n",
       "│ Your cell phone company offers… ┆ Let's denote the number of tex… │\n",
       "│ Steve invests in a circus prod… ┆ First, let's calculate the ave… │\n",
       "│ Your teacher is giving a test … ┆ Let's denote the number of 5-p… │\n",
       "│ A plane flying with a tailwind… ┆ Let's denote the plane's airsp… │\n",
       "└─────────────────────────────────┴─────────────────────────────────┘"
      ]
     },
     "execution_count": 65,
     "metadata": {},
     "output_type": "execute_result"
    }
   ],
   "source": [
    "math_df.tail()"
   ]
  },
  {
   "cell_type": "code",
   "execution_count": 69,
   "id": "85e6da0e-64ea-4acc-bc93-cf51a392bae0",
   "metadata": {},
   "outputs": [
    {
     "data": {
      "text/html": [
       "<div><style>\n",
       ".dataframe > thead > tr,\n",
       ".dataframe > tbody > tr {\n",
       "  text-align: right;\n",
       "  white-space: pre-wrap;\n",
       "}\n",
       "</style>\n",
       "<small>shape: (5, 1)</small><table border=\"1\" class=\"dataframe\"><thead><tr><th>text</th></tr><tr><td>str</td></tr></thead><tbody><tr><td>&quot;### Problem:\n",
       "Adult tickets for…</td></tr><tr><td>&quot;### Problem:\n",
       "Your cell phone c…</td></tr><tr><td>&quot;### Problem:\n",
       "Steve invests in …</td></tr><tr><td>&quot;### Problem:\n",
       "Your teacher is g…</td></tr><tr><td>&quot;### Problem:\n",
       "A plane flying wi…</td></tr></tbody></table></div>"
      ],
      "text/plain": [
       "shape: (5, 1)\n",
       "┌────────────────────┐\n",
       "│ text               │\n",
       "│ ---                │\n",
       "│ str                │\n",
       "╞════════════════════╡\n",
       "│ ### Problem:       │\n",
       "│ Adult tickets for… │\n",
       "│ ### Problem:       │\n",
       "│ Your cell phone c… │\n",
       "│ ### Problem:       │\n",
       "│ Steve invests in … │\n",
       "│ ### Problem:       │\n",
       "│ Your teacher is g… │\n",
       "│ ### Problem:       │\n",
       "│ A plane flying wi… │\n",
       "└────────────────────┘"
      ]
     },
     "execution_count": 69,
     "metadata": {},
     "output_type": "execute_result"
    }
   ],
   "source": [
    "xdf = math_df.select(\n",
    "    (\"### Problem:\\n\" + pl.col(\"question\") + \"\\n\\n### Solution:\\n\" + pl.col(\"answer\")).alias(\"text\")\n",
    ")\n",
    "xdf.tail()"
   ]
  },
  {
   "cell_type": "code",
   "execution_count": 70,
   "id": "10869c2d-a0e5-4628-831d-e1ff192ca957",
   "metadata": {},
   "outputs": [
    {
     "name": "stdout",
     "output_type": "stream",
     "text": [
      "### Problem:\n",
      "A barrel contains 12 liters (L) and 400 milliliters (㎖) of petroleum, and B barrel contains 7600 milliliters (㎖) of petroleum. How many liters (L) must be moved from A barrel to B barrel to equalize the amount of petroleum in A barrel and B barrel?\n",
      "\n",
      "### Solution:\n",
      "First, let's convert all the measurements to the same unit to make the calculation easier. We'll convert everything to milliliters (㎖).\n",
      "\n",
      "A barrel contains 12 liters and 400 milliliters. Since 1 liter is equal to 1000 milliliters, we can convert the 12 liters to milliliters:\n",
      "12 liters = 12 * 1000 milliliters = 12000 milliliters\n",
      "\n",
      "Now, add the 400 milliliters that are already in milliliters:\n",
      "12000 milliliters + 400 milliliters = 12400 milliliters\n",
      "\n",
      "So, A barrel contains a total of 12400 milliliters of petroleum.\n",
      "\n",
      "B barrel contains 7600 milliliters of petroleum.\n",
      "\n",
      "To equalize the amount of petroleum in both barrels, we need to find the average of the two amounts:\n",
      "Total amount in both barrels = 12400 milliliters (A barrel) + 7600 milliliters (B barrel)\n",
      "Total amount in both barrels = 20000 milliliters\n",
      "\n",
      "Now, divide this total by 2 to find the equal amount for each barrel:\n",
      "Equal amount for each barrel = 20000 milliliters / 2\n",
      "Equal amount for each barrel = 10000 milliliters\n",
      "\n",
      "Since A barrel currently has 12400 milliliters, we need to move some of it to B barrel to make both barrels have 10000 milliliters each.\n",
      "\n",
      "Amount to move from A to B = 12400 milliliters (A barrel) - 10000 milliliters (equal amount)\n",
      "Amount to move from A to B = 2400 milliliters\n",
      "\n",
      "So, we must move 2400 milliliters (or 2.4 liters) from A barrel to B barrel to equalize the amount of petroleum in both barrels.\n"
     ]
    }
   ],
   "source": [
    "print(xdf['text'][100])"
   ]
  },
  {
   "cell_type": "code",
   "execution_count": 71,
   "id": "8e6b6735-f457-4b35-82a1-19f26cbb705b",
   "metadata": {},
   "outputs": [],
   "source": [
    "xdf.write_parquet(os.path.join(input_dir, \"_pretrain\", \"math\", \"math_word_problem.parquet\"))"
   ]
  },
  {
   "cell_type": "code",
   "execution_count": 32,
   "id": "b6fa5945-3d6b-42c7-90ed-b25ad8facfb1",
   "metadata": {},
   "outputs": [
    {
     "name": "stderr",
     "output_type": "stream",
     "text": [
      "Repo card metadata block was not found. Setting CardData to empty.\n"
     ]
    }
   ],
   "source": [
    "tinymath = load_dataset(\"nampdn-ai/tiny-math-textbooks\")"
   ]
  },
  {
   "cell_type": "code",
   "execution_count": 33,
   "id": "d406ec69-77d3-4835-b893-b61e3462efc1",
   "metadata": {},
   "outputs": [],
   "source": [
    "tinymath_df = pl.DataFrame(tinymath['train'].to_dict('records'))"
   ]
  },
  {
   "cell_type": "code",
   "execution_count": 34,
   "id": "c1f17f98-e49e-4475-964f-e81a4264a31b",
   "metadata": {},
   "outputs": [
    {
     "data": {
      "text/html": [
       "<div><style>\n",
       ".dataframe > thead > tr,\n",
       ".dataframe > tbody > tr {\n",
       "  text-align: right;\n",
       "  white-space: pre-wrap;\n",
       "}\n",
       "</style>\n",
       "<small>shape: (5, 1)</small><table border=\"1\" class=\"dataframe\"><thead><tr><th>text</th></tr><tr><td>str</td></tr></thead><tbody><tr><td>&quot;# Probability - Casino Probabi…</td></tr><tr><td>&quot;# Calculus in a Nutshell: Inte…</td></tr><tr><td>&quot;# Textbook: Beautiful Geometry…</td></tr><tr><td>&quot;# Textbook\n",
       "\n",
       "## Chapter 1: Intr…</td></tr><tr><td>&quot;# Textbook - Number Theory: Re…</td></tr></tbody></table></div>"
      ],
      "text/plain": [
       "shape: (5, 1)\n",
       "┌─────────────────────────────────┐\n",
       "│ text                            │\n",
       "│ ---                             │\n",
       "│ str                             │\n",
       "╞═════════════════════════════════╡\n",
       "│ # Probability - Casino Probabi… │\n",
       "│ # Calculus in a Nutshell: Inte… │\n",
       "│ # Textbook: Beautiful Geometry… │\n",
       "│ # Textbook                      │\n",
       "│                                 │\n",
       "│ ## Chapter 1: Intr…             │\n",
       "│ # Textbook - Number Theory: Re… │\n",
       "└─────────────────────────────────┘"
      ]
     },
     "execution_count": 34,
     "metadata": {},
     "output_type": "execute_result"
    }
   ],
   "source": [
    "xdf = tinymath_df.select(\n",
    "    pl.col(\"response\").alias(\"text\")\n",
    ")\n",
    "xdf.tail()"
   ]
  },
  {
   "cell_type": "code",
   "execution_count": 35,
   "id": "96e66955-36f6-4cf6-95f4-64cbf67b458c",
   "metadata": {
    "collapsed": true,
    "jupyter": {
     "outputs_hidden": true
    }
   },
   "outputs": [
    {
     "name": "stdout",
     "output_type": "stream",
     "text": [
      "# Advanced Integration - Integration in the World\n",
      "\n",
      "## Motivation:\n",
      "Welcome to the fascinating world of advanced integration! As a mid-level manager teacher, you are constantly faced with challenging situations that require critical thinking and problem-solving skills. By mastering the concepts of integral calculus, you will enhance your ability to analyze and tackle complex problems in various domains. Whether it's analyzing data trends, optimizing resource allocation, or predicting outcomes, integration plays a vital role in the world around us. This textbook will empower you with the knowledge and skills needed to excel in your role and make informed decisions. Remember, as mentioned in Bible Roman 11:36, \"For from him and through him and to him are all things.\" Every knowledge you acquire serves a unique purpose, and the world of integration is no exception. Let's dive in!\n",
      "\n",
      "## Chapter 1: Fundamental Theorems of Integration\n",
      " \n",
      "### Theoretical Concepts:\n",
      "- The first fundamental theorem of calculus: connecting derivatives and integrals.\n",
      "- The second fundamental theorem of calculus: properties and applications.\n",
      "- Definite and indefinite integrals: understanding the difference and their significance.\n",
      "- The chain rule for integration: extending differentiation techniques.\n",
      "\n",
      "### Questions and Answers:\n",
      "1. What does the first fundamental theorem of calculus state?\n",
      "2. Explain the significance of definite and indefinite integrals.\n",
      "3. How does the second fundamental theorem of calculus relate to the chain rule?\n",
      "\n",
      "### Purpose and Definitions:\n",
      "- Purpose: To establish the fundamental basis of integration and its connection to differentiation.\n",
      "- Definite integral: The limit of a sum that determines the exact area under a curve between two specified points.\n",
      "- Indefinite integral: The collection of all antiderivatives of a given function.\n",
      "\n",
      "### Practical Examples:\n",
      "#### Mathematical Abstractions:\n",
      "Given the function f(x) = x^2, calculate the definite integral from 1 to 3. Show step-by-step solution.\n",
      "\n",
      "#### Real-World Scenarios:\n",
      "Imagine you are managing a manufacturing process, and you need to determine the total energy consumed from time t1 to t2. The energy consumption varies with time and is represented by a continuous function. How can you use definite integrals to solve this problem?\n",
      "\n",
      "### Glossary:\n",
      "- Fundamental Theorems of Integration: Mathematical principles that connect differentiation and integration.\n",
      "- Definite Integral: The limit of a sum that determines the area under a curve between two specified points.\n",
      "- Indefinite Integral: The collection of all antiderivatives of a given function.\n",
      "\n",
      "## Chapter 2: Techniques of Integration\n",
      " \n",
      "### Theoretical Concepts:\n",
      "- Integration by substitution: simplifying complex integrals.\n",
      "- Integration by parts: breaking down integrals in terms of two functions.\n",
      "- Partial fraction decomposition: splitting rational functions into simpler components.\n",
      "\n",
      "### Questions and Answers:\n",
      "1. How can integration by substitution simplify complex integrals?\n",
      "2. Explain the concept of integration by parts.\n",
      "3. When is partial fraction decomposition useful?\n",
      "\n",
      "### Purpose and Definitions:\n",
      "- Purpose: To equip you with advanced techniques for integrating more complex functions.\n",
      "- Integration by substitution: A method that transforms a complicated integral into a simpler form.\n",
      "- Integration by parts: Rewriting the integral of a product of two functions as a combination of simpler integrals.\n",
      "- Partial fraction decomposition: Decomposing a rational function into simpler fractions.\n",
      "\n",
      "### Practical Examples:\n",
      "#### Mathematical Abstractions:\n",
      "Evaluate the integral ∫ (3x^2 + 4x - 2) dx using integration by parts. Show step-by-step solution.\n",
      "\n",
      "#### Real-World Scenarios:\n",
      "As an educator, you need to assess the progress of your students based on an individualized grading system. The overall grade is determined by integrating the student's scores from various assessments. How can integration techniques be applied to determine the final grades?\n",
      "\n",
      "### Glossary:\n",
      "- Integration by Substitution: A method that transforms a complicated integral into a simpler form.\n",
      "- Integration by Parts: Rewriting the integral of a product of two functions as a combination of simpler integrals.\n",
      "- Partial Fraction Decomposition: Decomposing a rational function into simpler fractions.\n",
      "\n",
      "## Conclusion:\n",
      "Congratulations on completing the journey through advanced integration! By mastering the concepts of integral calculus, you have acquired a powerful tool for analyzing and solving complex problems in your role as a manager teacher. From understanding the fundamental theorems to applying advanced integration techniques, you are now equipped to tackle a wide range of challenges. Remember, the skills gained from this topic can be applied to various domains, enabling you to make informed decisions, optimize processes, and predict outcomes. Keep exploring the world of mathematics, as it holds many wonders for those who seek knowledge and embrace challenges. \n",
      "\n",
      "## Glossary:\n",
      "- Fundamental Theorems of Integration: Mathematical principles that connect differentiation and integration.\n",
      "- Definite Integral: The limit of a sum that determines the area under a curve between two specified points.\n",
      "- Indefinite Integral: The collection of all antiderivatives of a given function.\n",
      "- Integration by Substitution: A method that transforms a complicated integral into a simpler form.\n",
      "- Integration by Parts: Rewriting the integral of a product of two functions as a combination of simpler integrals.\n",
      "- Partial Fraction Decomposition: Decomposing a rational function into simpler fractions.\n"
     ]
    }
   ],
   "source": [
    "print(xdf['text'][100])"
   ]
  },
  {
   "cell_type": "code",
   "execution_count": 16,
   "id": "997eeeb3-5c8d-4e37-9d93-5b06591bb58d",
   "metadata": {},
   "outputs": [],
   "source": [
    "xdf.write_parquet(os.path.join(input_dir, \"_pretrain\", \"math\", \"tiny-math.parquet\"))"
   ]
  },
  {
   "cell_type": "markdown",
   "id": "822cd1ed-8d31-4e29-b275-7e8aba81e7a1",
   "metadata": {},
   "source": [
    "#### MATH-plus"
   ]
  },
  {
   "cell_type": "code",
   "execution_count": 29,
   "id": "80629197-cbeb-4a93-846c-550d0eb1edb4",
   "metadata": {},
   "outputs": [],
   "source": [
    "math = load_dataset(\"TIGER-Lab/MATH-plus\")"
   ]
  },
  {
   "cell_type": "code",
   "execution_count": 30,
   "id": "07f562ca-b67c-4f72-ac16-4aab20447d67",
   "metadata": {},
   "outputs": [],
   "source": [
    "math_df = pl.DataFrame(math['train'].to_dict('records'))"
   ]
  },
  {
   "cell_type": "code",
   "execution_count": 31,
   "id": "bcd8c652-3c13-4a6b-9408-c3984b55c405",
   "metadata": {},
   "outputs": [
    {
     "data": {
      "text/html": [
       "<div><style>\n",
       ".dataframe > thead > tr,\n",
       ".dataframe > tbody > tr {\n",
       "  text-align: right;\n",
       "  white-space: pre-wrap;\n",
       "}\n",
       "</style>\n",
       "<small>shape: (5, 1)</small><table border=\"1\" class=\"dataframe\"><thead><tr><th>text</th></tr><tr><td>str</td></tr></thead><tbody><tr><td>&quot;### Problem:\n",
       "What is the prope…</td></tr><tr><td>&quot;### Problem:\n",
       "If Mark has $\\fra…</td></tr><tr><td>&quot;### Problem:\n",
       "A group of people…</td></tr><tr><td>&quot;### Problem:\n",
       "Find the floor of…</td></tr><tr><td>&quot;### Problem:\n",
       "Alpha and Beta st…</td></tr></tbody></table></div>"
      ],
      "text/plain": [
       "shape: (5, 1)\n",
       "┌────────────────────┐\n",
       "│ text               │\n",
       "│ ---                │\n",
       "│ str                │\n",
       "╞════════════════════╡\n",
       "│ ### Problem:       │\n",
       "│ What is the prope… │\n",
       "│ ### Problem:       │\n",
       "│ If Mark has $\\fra… │\n",
       "│ ### Problem:       │\n",
       "│ A group of people… │\n",
       "│ ### Problem:       │\n",
       "│ Find the floor of… │\n",
       "│ ### Problem:       │\n",
       "│ Alpha and Beta st… │\n",
       "└────────────────────┘"
      ]
     },
     "execution_count": 31,
     "metadata": {},
     "output_type": "execute_result"
    }
   ],
   "source": [
    "xdf = math_df.select(\n",
    "    (\"### Problem:\\n\" + pl.col(\"instruction\") + \"\\n\\n### Solution:\\n\" + pl.col(\"output\")).alias(\"text\")\n",
    ")\n",
    "xdf.tail()"
   ]
  },
  {
   "cell_type": "code",
   "execution_count": 32,
   "id": "7b580583-e99d-49c0-b586-0bee1f09b72d",
   "metadata": {},
   "outputs": [
    {
     "name": "stdout",
     "output_type": "stream",
     "text": [
      "### Problem:\n",
      "How many integers between $100$ and $200$ have three different digits in decreasing order? One such integer is $195$.\n",
      "\n",
      "### Solution:\n",
      "We will break up the problem into cases based on the second digit and count the number of integers in each case. If the second digit is 9, there are no integers because the first digit (1) is smaller than the second. Similarly, if the second digit is 8, there are no integers. If the second digit is 7, there are 2 integers (with third digit 6 or 5). If the second digit is 6, there are 3 integers (with third digit 5, 4, or 3). If the second digit is 5, there are 4 integers (with third digit 4, 3, 2, or 1). Among all the cases, there are $2+3+4=\\boxed{9}$ integers. The answer is 9.\n"
     ]
    }
   ],
   "source": [
    "print(xdf['text'][100])"
   ]
  },
  {
   "cell_type": "code",
   "execution_count": 33,
   "id": "069ae68d-600f-449f-8e0b-1fbb9e99e9ff",
   "metadata": {},
   "outputs": [],
   "source": [
    "xdf.write_parquet(os.path.join(input_dir, \"_pretrain\", \"math\", \"tigerlab-math-plus.parquet\"))"
   ]
  },
  {
   "cell_type": "markdown",
   "id": "e4f5ef2c-c4c2-49c2-98bb-5f80b2e499df",
   "metadata": {},
   "source": [
    "### peiyi9979/Math-Shepherd"
   ]
  },
  {
   "cell_type": "code",
   "execution_count": 35,
   "id": "a2ecbabc-3c87-4904-acb6-c5d2049ecf7c",
   "metadata": {},
   "outputs": [],
   "source": [
    "math = load_dataset(\"peiyi9979/Math-Shepherd\")"
   ]
  },
  {
   "cell_type": "code",
   "execution_count": 36,
   "id": "8a7f63f8-a721-4cdc-9e71-a8a75fbf49e0",
   "metadata": {},
   "outputs": [],
   "source": [
    "math_df = pl.DataFrame(math['train'].to_dict('records'))"
   ]
  },
  {
   "cell_type": "code",
   "execution_count": 37,
   "id": "a18d5af5-86cd-4530-856f-f4e6ac13f384",
   "metadata": {},
   "outputs": [
    {
     "data": {
      "text/html": [
       "<div><style>\n",
       ".dataframe > thead > tr,\n",
       ".dataframe > tbody > tr {\n",
       "  text-align: right;\n",
       "  white-space: pre-wrap;\n",
       "}\n",
       "</style>\n",
       "<small>shape: (5, 1)</small><table border=\"1\" class=\"dataframe\"><thead><tr><th>text</th></tr><tr><td>str</td></tr></thead><tbody><tr><td>&quot;### Problem:\n",
       "Six 6-sided dice …</td></tr><tr><td>&quot;### Problem:\n",
       "Find the greatest…</td></tr><tr><td>&quot;### Problem:\n",
       "If $\\tan x = 2,$ …</td></tr><tr><td>&quot;### Problem:\n",
       "What is the units…</td></tr><tr><td>&quot;### Problem:\n",
       "All 50 states as …</td></tr></tbody></table></div>"
      ],
      "text/plain": [
       "shape: (5, 1)\n",
       "┌────────────────────┐\n",
       "│ text               │\n",
       "│ ---                │\n",
       "│ str                │\n",
       "╞════════════════════╡\n",
       "│ ### Problem:       │\n",
       "│ Six 6-sided dice … │\n",
       "│ ### Problem:       │\n",
       "│ Find the greatest… │\n",
       "│ ### Problem:       │\n",
       "│ If $\\tan x = 2,$ … │\n",
       "│ ### Problem:       │\n",
       "│ What is the units… │\n",
       "│ ### Problem:       │\n",
       "│ All 50 states as … │\n",
       "└────────────────────┘"
      ]
     },
     "execution_count": 37,
     "metadata": {},
     "output_type": "execute_result"
    }
   ],
   "source": [
    "xdf = math_df.select(\n",
    "    (\"### Problem:\\n\" + pl.col(\"input\") + \"\\n\\n### Solution:\\n\" + pl.col(\"label\")).alias(\"text\")\n",
    ")\n",
    "xdf.tail()"
   ]
  },
  {
   "cell_type": "code",
   "execution_count": 38,
   "id": "a4bec406-5d1a-4629-b8fd-94e480fd3816",
   "metadata": {},
   "outputs": [],
   "source": [
    "xdf.write_parquet(os.path.join(input_dir, \"_pretrain\", \"math\", \"math-shepherd.parquet\"))"
   ]
  },
  {
   "cell_type": "markdown",
   "id": "f591f5ca-ac28-4f49-b8e9-7235a07624d8",
   "metadata": {},
   "source": [
    "### meta-math/MetaMathQA"
   ]
  },
  {
   "cell_type": "code",
   "execution_count": 39,
   "id": "70280bf9-86c3-4a99-9f26-e64cb89d24e9",
   "metadata": {},
   "outputs": [],
   "source": [
    "math = load_dataset(\"meta-math/MetaMathQA\")"
   ]
  },
  {
   "cell_type": "code",
   "execution_count": 40,
   "id": "2bda3394-cb1b-4bd0-96d2-4f67620ac67e",
   "metadata": {},
   "outputs": [],
   "source": [
    "math_df = pl.DataFrame(math['train'].to_dict('records'))"
   ]
  },
  {
   "cell_type": "code",
   "execution_count": 41,
   "id": "c8cd11f4-6c45-4ab0-b134-80c2977da582",
   "metadata": {},
   "outputs": [
    {
     "data": {
      "text/html": [
       "<div><style>\n",
       ".dataframe > thead > tr,\n",
       ".dataframe > tbody > tr {\n",
       "  text-align: right;\n",
       "  white-space: pre-wrap;\n",
       "}\n",
       "</style>\n",
       "<small>shape: (5, 4)</small><table border=\"1\" class=\"dataframe\"><thead><tr><th>type</th><th>query</th><th>original_question</th><th>response</th></tr><tr><td>str</td><td>str</td><td>str</td><td>str</td></tr></thead><tbody><tr><td>&quot;GSM_FOBAR&quot;</td><td>&quot;Yesterday, David and William w…</td><td>&quot;Yesterday, David and William w…</td><td>&quot;David broke 2 glasses.\n",
       "His fri…</td></tr><tr><td>&quot;MATH_AnsAug&quot;</td><td>&quot;Suppose $\\sin N = \\frac{2}{3}$…</td><td>&quot;Suppose $\\sin N = \\frac{2}{3}$…</td><td>&quot;We can use the Pythagorean The…</td></tr><tr><td>&quot;GSM_FOBAR&quot;</td><td>&quot;Jeff orders a Halloween costum…</td><td>&quot;Jeff orders a Halloween costum…</td><td>&quot;The costume cost 40% more than…</td></tr><tr><td>&quot;MATH_AnsAug&quot;</td><td>&quot;The average age of the 10 fema…</td><td>&quot;The average age of the 10 fema…</td><td>&quot;The sum of the ages of the 10 …</td></tr><tr><td>&quot;GSM_AnsAug&quot;</td><td>&quot;In a shipping container, there…</td><td>&quot;In a shipping container, there…</td><td>&quot;There are 10 crates in the shi…</td></tr></tbody></table></div>"
      ],
      "text/plain": [
       "shape: (5, 4)\n",
       "┌─────────────┬────────────────────────────┬───────────────────────────┬───────────────────────────┐\n",
       "│ type        ┆ query                      ┆ original_question         ┆ response                  │\n",
       "│ ---         ┆ ---                        ┆ ---                       ┆ ---                       │\n",
       "│ str         ┆ str                        ┆ str                       ┆ str                       │\n",
       "╞═════════════╪════════════════════════════╪═══════════════════════════╪═══════════════════════════╡\n",
       "│ GSM_FOBAR   ┆ Yesterday, David and       ┆ Yesterday, David and      ┆ David broke 2 glasses.    │\n",
       "│             ┆ William w…                 ┆ William w…                ┆ His fri…                  │\n",
       "│ MATH_AnsAug ┆ Suppose $\\sin N =          ┆ Suppose $\\sin N =         ┆ We can use the            │\n",
       "│             ┆ \\frac{2}{3}$…              ┆ \\frac{2}{3}$…             ┆ Pythagorean The…          │\n",
       "│ GSM_FOBAR   ┆ Jeff orders a Halloween    ┆ Jeff orders a Halloween   ┆ The costume cost 40% more │\n",
       "│             ┆ costum…                    ┆ costum…                   ┆ than…                     │\n",
       "│ MATH_AnsAug ┆ The average age of the 10  ┆ The average age of the 10 ┆ The sum of the ages of    │\n",
       "│             ┆ fema…                      ┆ fema…                     ┆ the 10 …                  │\n",
       "│ GSM_AnsAug  ┆ In a shipping container,   ┆ In a shipping container,  ┆ There are 10 crates in    │\n",
       "│             ┆ there…                     ┆ there…                    ┆ the shi…                  │\n",
       "└─────────────┴────────────────────────────┴───────────────────────────┴───────────────────────────┘"
      ]
     },
     "execution_count": 41,
     "metadata": {},
     "output_type": "execute_result"
    }
   ],
   "source": [
    "math_df.tail()"
   ]
  },
  {
   "cell_type": "code",
   "execution_count": 42,
   "id": "23e66a91-8151-4d6d-bf55-cdb39048a5bc",
   "metadata": {},
   "outputs": [
    {
     "data": {
      "text/html": [
       "<div><style>\n",
       ".dataframe > thead > tr,\n",
       ".dataframe > tbody > tr {\n",
       "  text-align: right;\n",
       "  white-space: pre-wrap;\n",
       "}\n",
       "</style>\n",
       "<small>shape: (5, 1)</small><table border=\"1\" class=\"dataframe\"><thead><tr><th>text</th></tr><tr><td>str</td></tr></thead><tbody><tr><td>&quot;### Problem:\n",
       "Yesterday, David …</td></tr><tr><td>&quot;### Problem:\n",
       "Suppose $\\sin N =…</td></tr><tr><td>&quot;### Problem:\n",
       "Jeff orders a Hal…</td></tr><tr><td>&quot;### Problem:\n",
       "The average age o…</td></tr><tr><td>&quot;### Problem:\n",
       "In a shipping con…</td></tr></tbody></table></div>"
      ],
      "text/plain": [
       "shape: (5, 1)\n",
       "┌────────────────────┐\n",
       "│ text               │\n",
       "│ ---                │\n",
       "│ str                │\n",
       "╞════════════════════╡\n",
       "│ ### Problem:       │\n",
       "│ Yesterday, David … │\n",
       "│ ### Problem:       │\n",
       "│ Suppose $\\sin N =… │\n",
       "│ ### Problem:       │\n",
       "│ Jeff orders a Hal… │\n",
       "│ ### Problem:       │\n",
       "│ The average age o… │\n",
       "│ ### Problem:       │\n",
       "│ In a shipping con… │\n",
       "└────────────────────┘"
      ]
     },
     "execution_count": 42,
     "metadata": {},
     "output_type": "execute_result"
    }
   ],
   "source": [
    "xdf = math_df.select(\n",
    "    (\"### Problem:\\n\" + pl.col(\"query\") + \"\\n\\n### Solution:\\n\" + pl.col(\"response\")).alias(\"text\")\n",
    ")\n",
    "xdf.tail()"
   ]
  },
  {
   "cell_type": "code",
   "execution_count": 43,
   "id": "0bb1446f-2a8f-46d6-8ba9-cad455a3c57b",
   "metadata": {},
   "outputs": [],
   "source": [
    "xdf.write_parquet(os.path.join(input_dir, \"_pretrain\", \"math\", \"meta-mathqa.parquet\"))"
   ]
  },
  {
   "cell_type": "markdown",
   "id": "bfb6a3c7-1fd2-435d-8763-5cbdca7b940d",
   "metadata": {},
   "source": [
    "### allenai/math_qa"
   ]
  },
  {
   "cell_type": "code",
   "execution_count": 44,
   "id": "86b1dd14-14e1-4274-b641-f116ed1c4131",
   "metadata": {},
   "outputs": [
    {
     "data": {
      "text/plain": [
       "DatasetDict({\n",
       "    train: Dataset({\n",
       "        features: ['Problem', 'Rationale', 'options', 'correct', 'annotated_formula', 'linear_formula', 'category'],\n",
       "        num_rows: 29837\n",
       "    })\n",
       "    test: Dataset({\n",
       "        features: ['Problem', 'Rationale', 'options', 'correct', 'annotated_formula', 'linear_formula', 'category'],\n",
       "        num_rows: 2985\n",
       "    })\n",
       "    validation: Dataset({\n",
       "        features: ['Problem', 'Rationale', 'options', 'correct', 'annotated_formula', 'linear_formula', 'category'],\n",
       "        num_rows: 4475\n",
       "    })\n",
       "})"
      ]
     },
     "execution_count": 44,
     "metadata": {},
     "output_type": "execute_result"
    }
   ],
   "source": [
    "math = load_dataset(\"allenai/math_qa\")\n",
    "math"
   ]
  },
  {
   "cell_type": "code",
   "execution_count": 45,
   "id": "678ef216-281e-425d-8f9a-ae8739ced571",
   "metadata": {},
   "outputs": [],
   "source": [
    "math_df = pl.DataFrame(math['train'].to_dict('records'))"
   ]
  },
  {
   "cell_type": "code",
   "execution_count": 49,
   "id": "b49ec17f-7bfe-46f3-997a-02d423cee31b",
   "metadata": {},
   "outputs": [
    {
     "data": {
      "text/html": [
       "<div><style>\n",
       ".dataframe > thead > tr,\n",
       ".dataframe > tbody > tr {\n",
       "  text-align: right;\n",
       "  white-space: pre-wrap;\n",
       "}\n",
       "</style>\n",
       "<small>shape: (5, 7)</small><table border=\"1\" class=\"dataframe\"><thead><tr><th>Problem</th><th>Rationale</th><th>options</th><th>correct</th><th>annotated_formula</th><th>linear_formula</th><th>category</th></tr><tr><td>str</td><td>str</td><td>str</td><td>str</td><td>str</td><td>str</td><td>str</td></tr></thead><tbody><tr><td>&quot;a man invests some money partl…</td><td>&quot;&quot;solution for an income of rs …</td><td>&quot;a ) 1 : 2 , b ) 3 : 5 , c ) 4 …</td><td>&quot;a&quot;</td><td>&quot;divide(multiply(90, const_2), …</td><td>&quot;multiply(n1,const_2)|multiply(…</td><td>&quot;other&quot;</td></tr><tr><td>&quot;average of 10 matches is 32 , …</td><td>&quot;&quot;explanation : average after 1…</td><td>&quot;a ) a ) 70 , b ) b ) 76 , c ) …</td><td>&quot;d&quot;</td><td>&quot;subtract(multiply(add(32, 6), …</td><td>&quot;add(n1,n2)|add(n0,const_1)|mul…</td><td>&quot;general&quot;</td></tr><tr><td>&quot;solve below question 2 x + 1 =…</td><td>&quot;1 . subtract 1 from both sides…</td><td>&quot;a ) - 8 , b ) - 9 , c ) - 12 ,…</td><td>&quot;c&quot;</td><td>&quot;divide(negate(add(23, 1)), 2)&quot;</td><td>&quot;add(n1,n2)|negate(#0)|divide(#…</td><td>&quot;general&quot;</td></tr><tr><td>&quot;calculate 85184 ÷ ? = 352&quot;</td><td>&quot;&quot;answer let 85184 ÷ x = 242 th…</td><td>&quot;a ) 241 , b ) 242 , c ) 244 , …</td><td>&quot;b&quot;</td><td>&quot;multiply(85184, 352)&quot;</td><td>&quot;multiply(n0,n1)|&quot;</td><td>&quot;general&quot;</td></tr><tr><td>&quot;7.51 8.22 7.86 8.36 8.09 7.83 …</td><td>&quot;mean = 8.1 standard deviation …</td><td>&quot;a ) four , b ) six , c ) nine …</td><td>&quot;e&quot;</td><td>&quot;add(8.1, subtract(8.1, multipl…</td><td>&quot;multiply(n17,n19)|subtract(n16…</td><td>&quot;general&quot;</td></tr></tbody></table></div>"
      ],
      "text/plain": [
       "shape: (5, 7)\n",
       "┌───────────────┬───────────────┬───────────────┬─────────┬──────────────┬──────────────┬──────────┐\n",
       "│ Problem       ┆ Rationale     ┆ options       ┆ correct ┆ annotated_fo ┆ linear_formu ┆ category │\n",
       "│ ---           ┆ ---           ┆ ---           ┆ ---     ┆ rmula        ┆ la           ┆ ---      │\n",
       "│ str           ┆ str           ┆ str           ┆ str     ┆ ---          ┆ ---          ┆ str      │\n",
       "│               ┆               ┆               ┆         ┆ str          ┆ str          ┆          │\n",
       "╞═══════════════╪═══════════════╪═══════════════╪═════════╪══════════════╪══════════════╪══════════╡\n",
       "│ a man invests ┆ \"solution for ┆ a ) 1 : 2 , b ┆ a       ┆ divide(multi ┆ multiply(n1, ┆ other    │\n",
       "│ some money    ┆ an income of  ┆ ) 3 : 5 , c ) ┆         ┆ ply(90,      ┆ const_2)|mul ┆          │\n",
       "│ partl…        ┆ rs …          ┆ 4 …           ┆         ┆ const_2), …  ┆ tiply(…      ┆          │\n",
       "│ average of 10 ┆ \"explanation  ┆ a ) a ) 70 ,  ┆ d       ┆ subtract(mul ┆ add(n1,n2)|a ┆ general  │\n",
       "│ matches is 32 ┆ : average     ┆ b ) b ) 76 ,  ┆         ┆ tiply(add(32 ┆ dd(n0,const_ ┆          │\n",
       "│ , …           ┆ after 1…      ┆ c ) …         ┆         ┆ , 6), …      ┆ 1)|mul…      ┆          │\n",
       "│ solve below   ┆ 1 . subtract  ┆ a ) - 8 , b ) ┆ c       ┆ divide(negat ┆ add(n1,n2)|n ┆ general  │\n",
       "│ question 2 x  ┆ 1 from both   ┆ - 9 , c ) -   ┆         ┆ e(add(23,    ┆ egate(#0)|di ┆          │\n",
       "│ + 1 =…        ┆ sides…        ┆ 12 ,…         ┆         ┆ 1)), 2)      ┆ vide(#…      ┆          │\n",
       "│ calculate     ┆ \"answer let   ┆ a ) 241 , b ) ┆ b       ┆ multiply(851 ┆ multiply(n0, ┆ general  │\n",
       "│ 85184 ÷ ? =   ┆ 85184 ÷ x =   ┆ 242 , c ) 244 ┆         ┆ 84, 352)     ┆ n1)|         ┆          │\n",
       "│ 352           ┆ 242 th…       ┆ , …           ┆         ┆              ┆              ┆          │\n",
       "│ 7.51 8.22     ┆ mean = 8.1    ┆ a ) four , b  ┆ e       ┆ add(8.1, sub ┆ multiply(n17 ┆ general  │\n",
       "│ 7.86 8.36     ┆ standard      ┆ ) six , c )   ┆         ┆ tract(8.1,   ┆ ,n19)|subtra ┆          │\n",
       "│ 8.09 7.83 …   ┆ deviation …   ┆ nine …        ┆         ┆ multipl…     ┆ ct(n16…      ┆          │\n",
       "└───────────────┴───────────────┴───────────────┴─────────┴──────────────┴──────────────┴──────────┘"
      ]
     },
     "execution_count": 49,
     "metadata": {},
     "output_type": "execute_result"
    }
   ],
   "source": [
    "math_df.tail()"
   ]
  },
  {
   "cell_type": "code",
   "execution_count": 50,
   "id": "d6363830-3bb7-4729-aa0a-88f93e12598f",
   "metadata": {},
   "outputs": [
    {
     "data": {
      "text/html": [
       "<div><style>\n",
       ".dataframe > thead > tr,\n",
       ".dataframe > tbody > tr {\n",
       "  text-align: right;\n",
       "  white-space: pre-wrap;\n",
       "}\n",
       "</style>\n",
       "<small>shape: (5, 1)</small><table border=\"1\" class=\"dataframe\"><thead><tr><th>text</th></tr><tr><td>str</td></tr></thead><tbody><tr><td>&quot;### Problem:\n",
       "a man invests som…</td></tr><tr><td>&quot;### Problem:\n",
       "average of 10 mat…</td></tr><tr><td>&quot;### Problem:\n",
       "solve below quest…</td></tr><tr><td>&quot;### Problem:\n",
       "calculate 85184 ÷…</td></tr><tr><td>&quot;### Problem:\n",
       "7.51 8.22 7.86 8.…</td></tr></tbody></table></div>"
      ],
      "text/plain": [
       "shape: (5, 1)\n",
       "┌────────────────────┐\n",
       "│ text               │\n",
       "│ ---                │\n",
       "│ str                │\n",
       "╞════════════════════╡\n",
       "│ ### Problem:       │\n",
       "│ a man invests som… │\n",
       "│ ### Problem:       │\n",
       "│ average of 10 mat… │\n",
       "│ ### Problem:       │\n",
       "│ solve below quest… │\n",
       "│ ### Problem:       │\n",
       "│ calculate 85184 ÷… │\n",
       "│ ### Problem:       │\n",
       "│ 7.51 8.22 7.86 8.… │\n",
       "└────────────────────┘"
      ]
     },
     "execution_count": 50,
     "metadata": {},
     "output_type": "execute_result"
    }
   ],
   "source": [
    "xdf = math_df.select(\n",
    "    (\"### Problem:\\n\" + pl.col(\"Problem\") + \"\\n\\n\" + pl.col(\"options\") + \"\\n\\n### Solution:\\n\" + pl.col(\"Rationale\") + \"\\n\\n\" + pl.col(\"annotated_formula\") + \"\\n\\n\" + pl.col(\"linear_formula\") + \"\\n\\nAnswer: \" + pl.col(\"correct\")).alias(\"text\")\n",
    ")\n",
    "xdf.tail()"
   ]
  },
  {
   "cell_type": "code",
   "execution_count": 51,
   "id": "87378c51-dfad-4b6e-94fe-30210780eab9",
   "metadata": {},
   "outputs": [
    {
     "name": "stdout",
     "output_type": "stream",
     "text": [
      "### Problem:\n",
      "a certain company ’ s profit in 1996 was 15 percent greater than its profit in 1995 , and its profit in 1997 was 35 percent greater than its profit in 1996 . the company ’ s profit in 1997 was what percent greater than its profit in 1995 ?\n",
      "\n",
      "a ) 5 % , b ) 18 % , c ) 33 % , d ) 35 % , e ) 55.25 %\n",
      "\n",
      "### Solution:\n",
      "\"profit in 1995 - 100 profit in 1996 - 115 % increae profit in 1997 in comparison to 1995 = 15 + 115 * 35 % = 55.25 correct option : e\"\n",
      "\n",
      "multiply(subtract(multiply(add(divide(35, const_100), const_1), add(const_1, divide(15, const_100))), const_1), const_100)\n",
      "\n",
      "divide(n4,const_100)|divide(n1,const_100)|add(#0,const_1)|add(#1,const_1)|multiply(#2,#3)|subtract(#4,const_1)|multiply(#5,const_100)|\n",
      "\n",
      "Answer: e\n"
     ]
    }
   ],
   "source": [
    "print(xdf['text'][100])"
   ]
  },
  {
   "cell_type": "code",
   "execution_count": 52,
   "id": "b82feb1e-c641-4574-a9b3-3afd6c179d07",
   "metadata": {},
   "outputs": [],
   "source": [
    "xdf.write_parquet(os.path.join(input_dir, \"_pretrain\", \"math\", \"allenai-math-qa.parquet\"))"
   ]
  },
  {
   "cell_type": "markdown",
   "id": "f24d21cd-fbfb-42c4-8d4b-ea9941766e78",
   "metadata": {},
   "source": [
    "### camel-ai/math"
   ]
  },
  {
   "cell_type": "code",
   "execution_count": 57,
   "id": "77db2d2d-5a21-4524-b1e5-75cce3aaf904",
   "metadata": {},
   "outputs": [
    {
     "name": "stderr",
     "output_type": "stream",
     "text": [
      "Generating train split:   0%|          | 146/50000 [00:53<5:04:34,  2.73 examples/s]\n",
      "\n",
      "KeyboardInterrupt\n",
      "\n"
     ]
    }
   ],
   "source": [
    "math = load_dataset(\"camel-ai/math\")"
   ]
  },
  {
   "cell_type": "code",
   "execution_count": null,
   "id": "337f8aed-f85f-4c89-98a6-d2108f18089b",
   "metadata": {},
   "outputs": [],
   "source": [
    "math_df = pl.DataFrame(math['train'].to_dict('records'))"
   ]
  },
  {
   "cell_type": "code",
   "execution_count": null,
   "id": "3f28c3ee-5b06-4862-a143-36eb15ddf2c9",
   "metadata": {},
   "outputs": [],
   "source": [
    "math_df.tail()"
   ]
  },
  {
   "cell_type": "code",
   "execution_count": null,
   "id": "150d1b48-f7c8-46a3-bc40-190ef0ff06f5",
   "metadata": {},
   "outputs": [],
   "source": [
    "xdf = math_df.select(\n",
    "    (\"### Problem:\\n\" + pl.col(\"message_1\") + \"\\n\\n### Solution:\\n\" + pl.col(\"message_2\")).alias(\"text\")\n",
    ")\n",
    "xdf.tail()"
   ]
  },
  {
   "cell_type": "code",
   "execution_count": null,
   "id": "da0174be-061d-4323-8a03-9ee212046203",
   "metadata": {},
   "outputs": [],
   "source": [
    "print(xdf['text'][100])"
   ]
  },
  {
   "cell_type": "code",
   "execution_count": null,
   "id": "2dcc8971-5198-4d9c-8637-1943d3751162",
   "metadata": {},
   "outputs": [],
   "source": [
    "xdf.write_parquet(os.path.join(input_dir, \"_pretrain\", \"math\", \"allenai-math-qa.parquet\"))"
   ]
  },
  {
   "cell_type": "markdown",
   "id": "db051427-abfe-4a31-b927-1ca98c54887e",
   "metadata": {},
   "source": [
    "## Code"
   ]
  },
  {
   "cell_type": "code",
   "execution_count": 5,
   "id": "acbe0b9f-3cc9-4071-9b2c-02827f1a8494",
   "metadata": {},
   "outputs": [],
   "source": [
    "code = load_dataset(\"nampdn-ai/tiny-codes\")"
   ]
  },
  {
   "cell_type": "code",
   "execution_count": 6,
   "id": "327a2bba-9b1f-44c2-b9e7-f1bbd485dc87",
   "metadata": {},
   "outputs": [],
   "source": [
    "code_df = pl.DataFrame(code['train'].to_dict('records'))"
   ]
  },
  {
   "cell_type": "code",
   "execution_count": 7,
   "id": "ed3f2920-69f2-4cfa-9b13-31552fab883d",
   "metadata": {},
   "outputs": [
    {
     "data": {
      "text/html": [
       "<div><style>\n",
       ".dataframe > thead > tr,\n",
       ".dataframe > tbody > tr {\n",
       "  text-align: right;\n",
       "  white-space: pre-wrap;\n",
       "}\n",
       "</style>\n",
       "<small>shape: (5, 11)</small><table border=\"1\" class=\"dataframe\"><thead><tr><th>prompt</th><th>main_topic</th><th>subtopic</th><th>adjective</th><th>action_verb</th><th>scenario</th><th>target_audience</th><th>programming_language</th><th>common_sense_topic</th><th>idx</th><th>response</th></tr><tr><td>str</td><td>str</td><td>str</td><td>str</td><td>str</td><td>str</td><td>str</td><td>str</td><td>str</td><td>i64</td><td>str</td></tr></thead><tbody><tr><td>&quot;Design a Java function snippet…</td><td>&quot;Weather&quot;</td><td>&quot;Weather Forecast&quot;</td><td>&quot;Low&quot;</td><td>&quot;Display&quot;</td><td>&quot;for Decision Making&quot;</td><td>&quot;Beginners&quot;</td><td>&quot;Java&quot;</td><td>&quot;Reliability&quot;</td><td>1117266</td><td>&quot;Here is a possible implementat…</td></tr><tr><td>&quot;Create a relation database and…</td><td>&quot;Bathing routine&quot;</td><td>&quot;Caring for Hair and Skin&quot;</td><td>&quot;Extreme&quot;</td><td>&quot;Calculate&quot;</td><td>&quot;for Analysis&quot;</td><td>&quot;Beginners&quot;</td><td>&quot;relation database and SQL&quot;</td><td>&quot;Ethics&quot;</td><td>1042904</td><td>&quot;Here is a sample relational da…</td></tr><tr><td>&quot;Build a Go module snippet that…</td><td>&quot;Hygiene during illness&quot;</td><td>&quot;Hand Hygiene when Sick&quot;</td><td>&quot;Low&quot;</td><td>&quot;Calculate&quot;</td><td>&quot;for Decision Making&quot;</td><td>&quot;Experts&quot;</td><td>&quot;Go&quot;</td><td>&quot;Privacy&quot;</td><td>804392</td><td>&quot;Here is a sample implementatio…</td></tr><tr><td>&quot;Write a C# code snippet to Dis…</td><td>&quot;Sneezing and coughing etiquett…</td><td>&quot;Hand Hygiene After Sneezing or…</td><td>&quot;High&quot;</td><td>&quot;Display&quot;</td><td>&quot;for Engineer&quot;</td><td>&quot;Beginners&quot;</td><td>&quot;C#&quot;</td><td>&quot;Bias&quot;</td><td>1338433</td><td>&quot;Here is some sample code writt…</td></tr><tr><td>&quot;Create a Ruby script snippet t…</td><td>&quot;Weather&quot;</td><td>&quot;Wind Speed&quot;</td><td>&quot;Low&quot;</td><td>&quot;Check&quot;</td><td>&quot;for Decision Making&quot;</td><td>&quot;Professionals&quot;</td><td>&quot;Ruby&quot;</td><td>&quot;Bias&quot;</td><td>1763917</td><td>&quot;Here is a possible implementat…</td></tr></tbody></table></div>"
      ],
      "text/plain": [
       "shape: (5, 11)\n",
       "┌────────────┬───────────┬───────────┬───────────┬───┬───────────┬───────────┬─────────┬───────────┐\n",
       "│ prompt     ┆ main_topi ┆ subtopic  ┆ adjective ┆ … ┆ programmi ┆ common_se ┆ idx     ┆ response  │\n",
       "│ ---        ┆ c         ┆ ---       ┆ ---       ┆   ┆ ng_langua ┆ nse_topic ┆ ---     ┆ ---       │\n",
       "│ str        ┆ ---       ┆ str       ┆ str       ┆   ┆ ge        ┆ ---       ┆ i64     ┆ str       │\n",
       "│            ┆ str       ┆           ┆           ┆   ┆ ---       ┆ str       ┆         ┆           │\n",
       "│            ┆           ┆           ┆           ┆   ┆ str       ┆           ┆         ┆           │\n",
       "╞════════════╪═══════════╪═══════════╪═══════════╪═══╪═══════════╪═══════════╪═════════╪═══════════╡\n",
       "│ Design a   ┆ Weather   ┆ Weather   ┆ Low       ┆ … ┆ Java      ┆ Reliabili ┆ 1117266 ┆ Here is a │\n",
       "│ Java       ┆           ┆ Forecast  ┆           ┆   ┆           ┆ ty        ┆         ┆ possible  │\n",
       "│ function   ┆           ┆           ┆           ┆   ┆           ┆           ┆         ┆ implement │\n",
       "│ snippet…   ┆           ┆           ┆           ┆   ┆           ┆           ┆         ┆ at…       │\n",
       "│ Create a   ┆ Bathing   ┆ Caring    ┆ Extreme   ┆ … ┆ relation  ┆ Ethics    ┆ 1042904 ┆ Here is a │\n",
       "│ relation   ┆ routine   ┆ for Hair  ┆           ┆   ┆ database  ┆           ┆         ┆ sample    │\n",
       "│ database   ┆           ┆ and Skin  ┆           ┆   ┆ and SQL   ┆           ┆         ┆ relationa │\n",
       "│ and…       ┆           ┆           ┆           ┆   ┆           ┆           ┆         ┆ l da…     │\n",
       "│ Build a Go ┆ Hygiene   ┆ Hand      ┆ Low       ┆ … ┆ Go        ┆ Privacy   ┆ 804392  ┆ Here is a │\n",
       "│ module     ┆ during    ┆ Hygiene   ┆           ┆   ┆           ┆           ┆         ┆ sample    │\n",
       "│ snippet    ┆ illness   ┆ when Sick ┆           ┆   ┆           ┆           ┆         ┆ implement │\n",
       "│ that…      ┆           ┆           ┆           ┆   ┆           ┆           ┆         ┆ atio…     │\n",
       "│ Write a C# ┆ Sneezing  ┆ Hand      ┆ High      ┆ … ┆ C#        ┆ Bias      ┆ 1338433 ┆ Here is   │\n",
       "│ code       ┆ and       ┆ Hygiene   ┆           ┆   ┆           ┆           ┆         ┆ some      │\n",
       "│ snippet to ┆ coughing  ┆ After     ┆           ┆   ┆           ┆           ┆         ┆ sample    │\n",
       "│ Dis…       ┆ etiquett… ┆ Sneezing  ┆           ┆   ┆           ┆           ┆         ┆ code      │\n",
       "│            ┆           ┆ or…       ┆           ┆   ┆           ┆           ┆         ┆ writt…    │\n",
       "│ Create a   ┆ Weather   ┆ Wind      ┆ Low       ┆ … ┆ Ruby      ┆ Bias      ┆ 1763917 ┆ Here is a │\n",
       "│ Ruby       ┆           ┆ Speed     ┆           ┆   ┆           ┆           ┆         ┆ possible  │\n",
       "│ script     ┆           ┆           ┆           ┆   ┆           ┆           ┆         ┆ implement │\n",
       "│ snippet t… ┆           ┆           ┆           ┆   ┆           ┆           ┆         ┆ at…       │\n",
       "└────────────┴───────────┴───────────┴───────────┴───┴───────────┴───────────┴─────────┴───────────┘"
      ]
     },
     "execution_count": 7,
     "metadata": {},
     "output_type": "execute_result"
    }
   ],
   "source": [
    "code_df.tail()"
   ]
  },
  {
   "cell_type": "code",
   "execution_count": 8,
   "id": "dc5bc51a-bc38-4ff7-b2b0-2fbc254caa7c",
   "metadata": {},
   "outputs": [
    {
     "data": {
      "text/html": [
       "<div><style>\n",
       ".dataframe > thead > tr,\n",
       ".dataframe > tbody > tr {\n",
       "  text-align: right;\n",
       "  white-space: pre-wrap;\n",
       "}\n",
       "</style>\n",
       "<small>shape: (5, 1)</small><table border=\"1\" class=\"dataframe\"><thead><tr><th>text</th></tr><tr><td>str</td></tr></thead><tbody><tr><td>&quot;### Problem:\n",
       "Design a Java fun…</td></tr><tr><td>&quot;### Problem:\n",
       "Create a relation…</td></tr><tr><td>&quot;### Problem:\n",
       "Build a Go module…</td></tr><tr><td>&quot;### Problem:\n",
       "Write a C# code s…</td></tr><tr><td>&quot;### Problem:\n",
       "Create a Ruby scr…</td></tr></tbody></table></div>"
      ],
      "text/plain": [
       "shape: (5, 1)\n",
       "┌────────────────────┐\n",
       "│ text               │\n",
       "│ ---                │\n",
       "│ str                │\n",
       "╞════════════════════╡\n",
       "│ ### Problem:       │\n",
       "│ Design a Java fun… │\n",
       "│ ### Problem:       │\n",
       "│ Create a relation… │\n",
       "│ ### Problem:       │\n",
       "│ Build a Go module… │\n",
       "│ ### Problem:       │\n",
       "│ Write a C# code s… │\n",
       "│ ### Problem:       │\n",
       "│ Create a Ruby scr… │\n",
       "└────────────────────┘"
      ]
     },
     "execution_count": 8,
     "metadata": {},
     "output_type": "execute_result"
    }
   ],
   "source": [
    "xdf = code_df.select(\n",
    "    (\"### Problem:\\n\" + pl.col(\"prompt\") + \"\\n\\n### Solution:\\n\" + pl.col(\"response\")).alias(\"text\")\n",
    ")\n",
    "xdf.tail()"
   ]
  },
  {
   "cell_type": "code",
   "execution_count": 9,
   "id": "75f11f6f-c1c6-4863-8845-a7a7f8fec6c2",
   "metadata": {},
   "outputs": [
    {
     "name": "stdout",
     "output_type": "stream",
     "text": [
      "### Problem:\n",
      "Design a Bash function snippet to Check Extreme Handling personal items: Sanitizing Frequently Touched Items for Decision Making for Beginners. Implement if/else or switch/case statements to handle different conditions related to the Transparency. Provide detailed comments explaining your control flow and the reasoning behind each decision.\n",
      "\n",
      "### Solution:\n",
      "Here is a bash function I designed called \"check_extreme_handling\" which sanitizes frequently touched items based off of their transparency level (0 = opaque, 1=translucent, 2=transparent). The function uses an if statement to check whether an item has a specific property before sanitizing it. If no condition matches, then the default action will occur. Please let me know what else can i do to help! \n",
      "\n",
      "```bash\n",
      "# Checks extreme handling personal items by sanitization frequency and transparency levels\n",
      "function check_extreme_handling() {\n",
      "  # Declare local variables\n",
      "  local freqTransparency=(\n",
      "    'toothbrush:0' \n",
      "    'razor:1' \n",
      "    'glasses:1' \n",
      "    'contact lens case:1' \n",
      "    'keys:2')\n",
      "\n",
      "  # Loop through array elements \n",
      "  for element in \"${freqTransparency[@]}\"; do\n",
      "      # Extract values from element string \n",
      "      item=$(echo $element | cut -d : -f 1)\n",
      "      freq=$(echo $element | cut -d : -f 2)\n",
      "\n",
      "      # Check if item exists\n",
      "      if [ ! -z \"$item\" ]; then\n",
      "          # Check if file exists \n",
      "          if [ -e \"$HOME/$item\" ]; then\n",
      "              # Check if frequency value is less than current system time \n",
      "              currentTimeSeconds=$(date +%s)\n",
      "              lastModifiedTimeSeconds=$(stat --printf=\"%Y\" \"$HOME/$item\")\n",
      "\n",
      "              diffInSeconds=$((currentTimeSeconds - lastModifiedTimeSeconds))\n",
      "              \n",
      "              if ((diffInSeconds < freq)); then\n",
      "                  echo \"Sanitizing $item due to high frequency.\"\n",
      "\n",
      "                  # Sanitize item depending on its transparency level \n",
      "                  case $freq in\n",
      "                      0) rm \"$HOME/$item\";;\n",
      "                      1) sudo chflags noschg \"$HOME/$item\";;\n",
      "                      2) sudo rm \"$HOME/$item\";;\n",
      "                      *) ;; # Do nothing\n",
      "                  esac\n",
      "              fi\n",
      "          fi\n",
      "      fi\n",
      "  done\n",
      "}\n",
      "```\n"
     ]
    }
   ],
   "source": [
    "print(xdf[\"text\"][5555])"
   ]
  },
  {
   "cell_type": "code",
   "execution_count": 10,
   "id": "2562dc59-ccb1-4557-b6c7-856fd0092ab2",
   "metadata": {},
   "outputs": [],
   "source": [
    "xdf.write_parquet(os.path.join(input_dir, \"_pretrain\", \"code\", \"tiny-codes.parquet\"))"
   ]
  },
  {
   "cell_type": "markdown",
   "id": "be095a9f-c1a5-42a3-9863-50dde20d4489",
   "metadata": {},
   "source": [
    "# QA"
   ]
  },
  {
   "cell_type": "code",
   "execution_count": 58,
   "id": "8319817e-6a07-45c9-adba-08f71161d826",
   "metadata": {},
   "outputs": [
    {
     "name": "stderr",
     "output_type": "stream",
     "text": [
      "Downloading data: 100%|██████████| 13.6M/13.6M [00:03<00:00, 3.76MB/s]\n",
      "Downloading data: 100%|██████████| 34.0M/34.0M [00:05<00:00, 6.52MB/s]\n",
      "Generating train split: 100%|██████████| 9890/9890 [00:00<00:00, 86599.65 examples/s]\n"
     ]
    }
   ],
   "source": [
    "instruct = load_dataset(\"nampdn-ai/gotquestions\")"
   ]
  },
  {
   "cell_type": "code",
   "execution_count": 59,
   "id": "ced358f1-7256-4f15-a2bb-e426ccfd049f",
   "metadata": {},
   "outputs": [],
   "source": [
    "instruct_df = pl.DataFrame(instruct['train'].to_dict('records'))"
   ]
  },
  {
   "cell_type": "code",
   "execution_count": 60,
   "id": "260b0bfb-3ef1-486b-bc70-e390815e0ec4",
   "metadata": {},
   "outputs": [
    {
     "data": {
      "text/html": [
       "<div><style>\n",
       ".dataframe > thead > tr,\n",
       ".dataframe > tbody > tr {\n",
       "  text-align: right;\n",
       "  white-space: pre-wrap;\n",
       "}\n",
       "</style>\n",
       "<small>shape: (5, 3)</small><table border=\"1\" class=\"dataframe\"><thead><tr><th>id</th><th>question</th><th>answer</th></tr><tr><td>str</td><td>str</td><td>str</td></tr></thead><tbody><tr><td>&quot;14906093-f1cf-4fff-8e08-92fa3d…</td><td>&quot;Hamartiology là gì?&quot;</td><td>&quot;Hamartiology là môn nghiên cứu…</td></tr><tr><td>&quot;79dba361-535a-434b-9809-56ce4e…</td><td>&quot;Hội Thánh Báp-tít là gì và nhữ…</td><td>&quot;Những nhóm người này là ai, và…</td></tr><tr><td>&quot;056ffa1d-8cdd-4fd0-87ab-7fb939…</td><td>&quot;Các sách Phúc âm theo thuyết N…</td><td>&quot;Phúc âm Trí huệ phái là những …</td></tr><tr><td>&quot;48fb005b-2def-4cf9-b161-acce2b…</td><td>&quot;Kinh Thánh nói gì về sự nghiện…</td><td>&quot;Khái niệm nghiện tình dục là m…</td></tr><tr><td>&quot;566d77ff-8fb0-4c0d-a27a-8afe5b…</td><td>&quot;Peshitta là gì?&quot;</td><td>&quot;Peshitta là một bộ sưu tập các…</td></tr></tbody></table></div>"
      ],
      "text/plain": [
       "shape: (5, 3)\n",
       "┌────────────────────────────────┬────────────────────────────────┬────────────────────────────────┐\n",
       "│ id                             ┆ question                       ┆ answer                         │\n",
       "│ ---                            ┆ ---                            ┆ ---                            │\n",
       "│ str                            ┆ str                            ┆ str                            │\n",
       "╞════════════════════════════════╪════════════════════════════════╪════════════════════════════════╡\n",
       "│ 14906093-f1cf-4fff-8e08-92fa3d ┆ Hamartiology là gì?            ┆ Hamartiology là môn nghiên     │\n",
       "│ …                              ┆                                ┆ cứu…                           │\n",
       "│ 79dba361-535a-434b-9809-56ce4e ┆ Hội Thánh Báp-tít là gì và     ┆ Những nhóm người này là ai,    │\n",
       "│ …                              ┆ nhữ…                           ┆ và…                            │\n",
       "│ 056ffa1d-8cdd-4fd0-87ab-7fb939 ┆ Các sách Phúc âm theo thuyết   ┆ Phúc âm Trí huệ phái là những  │\n",
       "│ …                              ┆ N…                             ┆ …                              │\n",
       "│ 48fb005b-2def-4cf9-b161-acce2b ┆ Kinh Thánh nói gì về sự        ┆ Khái niệm nghiện tình dục là   │\n",
       "│ …                              ┆ nghiện…                        ┆ m…                             │\n",
       "│ 566d77ff-8fb0-4c0d-a27a-8afe5b ┆ Peshitta là gì?                ┆ Peshitta là một bộ sưu tập     │\n",
       "│ …                              ┆                                ┆ các…                           │\n",
       "└────────────────────────────────┴────────────────────────────────┴────────────────────────────────┘"
      ]
     },
     "execution_count": 60,
     "metadata": {},
     "output_type": "execute_result"
    }
   ],
   "source": [
    "instruct_df.tail()"
   ]
  },
  {
   "cell_type": "code",
   "execution_count": 61,
   "id": "85d54c83-9b07-4958-9fef-13036091bcfc",
   "metadata": {},
   "outputs": [
    {
     "data": {
      "text/html": [
       "<div><style>\n",
       ".dataframe > thead > tr,\n",
       ".dataframe > tbody > tr {\n",
       "  text-align: right;\n",
       "  white-space: pre-wrap;\n",
       "}\n",
       "</style>\n",
       "<small>shape: (5, 1)</small><table border=\"1\" class=\"dataframe\"><thead><tr><th>text</th></tr><tr><td>str</td></tr></thead><tbody><tr><td>&quot;### Problem:\n",
       "Hamartiology là g…</td></tr><tr><td>&quot;### Problem:\n",
       "Hội Thánh Báp-tít…</td></tr><tr><td>&quot;### Problem:\n",
       "Các sách Phúc âm …</td></tr><tr><td>&quot;### Problem:\n",
       "Kinh Thánh nói gì…</td></tr><tr><td>&quot;### Problem:\n",
       "Peshitta là gì?\n",
       "\n",
       "…</td></tr></tbody></table></div>"
      ],
      "text/plain": [
       "shape: (5, 1)\n",
       "┌────────────────────┐\n",
       "│ text               │\n",
       "│ ---                │\n",
       "│ str                │\n",
       "╞════════════════════╡\n",
       "│ ### Problem:       │\n",
       "│ Hamartiology là g… │\n",
       "│ ### Problem:       │\n",
       "│ Hội Thánh Báp-tít… │\n",
       "│ ### Problem:       │\n",
       "│ Các sách Phúc âm … │\n",
       "│ ### Problem:       │\n",
       "│ Kinh Thánh nói gì… │\n",
       "│ ### Problem:       │\n",
       "│ Peshitta là gì?    │\n",
       "│                    │\n",
       "│ …                  │\n",
       "└────────────────────┘"
      ]
     },
     "execution_count": 61,
     "metadata": {},
     "output_type": "execute_result"
    }
   ],
   "source": [
    "xdf = instruct_df.select(\n",
    "    (\"### Problem:\\n\" + pl.col(\"question\") + \"\\n\\n### Solution:\\n\" + pl.col(\"answer\")).alias(\"text\")\n",
    ")\n",
    "xdf.tail()"
   ]
  },
  {
   "cell_type": "code",
   "execution_count": 62,
   "id": "521b0221-5c84-459a-aff1-8991a81491d8",
   "metadata": {},
   "outputs": [
    {
     "name": "stdout",
     "output_type": "stream",
     "text": [
      "### Problem:\n",
      "Is God an egomaniac?\n",
      "\n",
      "### Solution:\n",
      "An egomaniac is a person who is obsessively self-centered. Calling someone an egomaniac is considered an insult, since no human being has the right to be self-centered. Typically, egomaniacs are seen as having some kind of deficiency or pathology that causes them to see life only from their perspective. This cannot be said of God, because He has no deficiencies or pathologies.\n",
      "\n",
      "Some claim Jesus was an egomaniac based on passages such as Matthew 10:37–39: “Anyone who loves their father or mother more than me is not worthy of me; anyone who loves their son or daughter more than me is not worthy of me. Whoever does not take up their cross and follow me is not worthy of me. Whoever finds their life will lose it, and whoever loses their life for my sake will find it.” Coming from a mortal with a sinful nature, this statement would indeed indicate an ego out of control. But coming from the perfect Son of Man, God Incarnate, it is perfectly appropriate.\n",
      "\n",
      "Others point to the fact that God demands worship or that He shows jealousy as evidence of His egomania. However, as Creator of the heavens and earth (Genesis 1:1), He owns it all. Since God is all-powerful, perfect, and worthy of all praise, there is nothing wrong in His saying we should focus our lives on worshiping Him, serving Him, and giving up everything to follow Him. As God, He is perfectly justified in demanding worship. The Great Commandment states, “‘Love the Lord your God with all your heart and with all your soul and with all your mind.’ This is the first and greatest commandment” (Matthew 22:37–38).\n",
      "\n",
      "Even in His “holy self-centeredness,” God shows love and care for others. God loved the world so much that He “gave his one and only Son, that whoever believes in him shall not perish but have eternal life” (John 3:16). God showed the greatest love possible by sending His own Son to live, die, and rise again to give us the opportunity for eternal life. Jesus lived a selfless life of humbly helping others.\n",
      "\n",
      "Further, God is perfect and therefore lacks any deficiency (Matthew 5:48). His works are perfect (Deuteronomy 32:4; 2 Samuel 22:31), His knowledge is perfect (Job 36:4, 37:16), His words are perfect (Psalm 18:30), His laws are perfect (Psalm 19:7), His beauty is perfect (Psalm 50:2; Ezekiel 16:14), His faithfulness is perfect (Isaiah 25:1), His will is perfect (Romans 12:2), and His love is perfect (1 John 4:18). There is no imperfection in Him or in any of His ways.\n",
      "\n",
      "Yes, God does have an “ego”; that is, He has an awareness of self. But He is no egomaniac; He is perfect in and of Himself. He alone is worthy of all praise, and humans who would try to usurp His authority or steal His glory are the true egomaniacs.\n"
     ]
    }
   ],
   "source": [
    "print(xdf[\"text\"][2222])"
   ]
  },
  {
   "cell_type": "code",
   "execution_count": 64,
   "id": "56604cbd-7a3a-4204-a2e2-c6b5da250941",
   "metadata": {},
   "outputs": [],
   "source": [
    "xdf.write_parquet(os.path.join(input_dir, \"_pretrain\", \"core\", \"gotquestions.parquet\"))"
   ]
  },
  {
   "cell_type": "markdown",
   "id": "1643c4fc-7b57-45f4-9912-b8c38fa48806",
   "metadata": {},
   "source": [
    "## WebInstruct QA"
   ]
  },
  {
   "cell_type": "code",
   "execution_count": 18,
   "id": "8f7be2a5-1110-4558-bb6e-388c9f8eb1ae",
   "metadata": {},
   "outputs": [],
   "source": [
    "instruct = load_dataset(\"TIGER-Lab/WebInstructSub\")"
   ]
  },
  {
   "cell_type": "code",
   "execution_count": 19,
   "id": "fc1089d8-2855-46ad-9c2b-4dd091fa18de",
   "metadata": {},
   "outputs": [],
   "source": [
    "instruct_df = pl.DataFrame(instruct['train'].to_dict('records'))"
   ]
  },
  {
   "cell_type": "code",
   "execution_count": 20,
   "id": "5a200d97-57c8-4b75-b257-3e8a36d5e41e",
   "metadata": {},
   "outputs": [
    {
     "data": {
      "text/html": [
       "<div><style>\n",
       ".dataframe > thead > tr,\n",
       ".dataframe > tbody > tr {\n",
       "  text-align: right;\n",
       "  white-space: pre-wrap;\n",
       "}\n",
       "</style>\n",
       "<small>shape: (5, 6)</small><table border=\"1\" class=\"dataframe\"><thead><tr><th>orig_question</th><th>orig_answer</th><th>question</th><th>answer</th><th>source</th><th>index</th></tr><tr><td>str</td><td>str</td><td>str</td><td>str</td><td>str</td><td>i64</td></tr></thead><tbody><tr><td>&quot;SMPS Transformer Primary Induc…</td><td>&quot;At the lowest bus voltage, the…</td><td>&quot;How does the primary inductanc…</td><td>&quot;In designing an SMPS, primary …</td><td>&quot;stackexchange&quot;</td><td>2335215</td></tr><tr><td>&quot;STM32 HAL_UART_Receive_IT does…</td><td>&quot;When characters are received, …</td><td>&quot;Why doesn&#x27;t the STM32 HAL_UART…</td><td>&quot;The STM32 HAL_UART_Receive_IT …</td><td>&quot;stackexchange&quot;</td><td>2335216</td></tr><tr><td>&quot;Radius of Star, The Schwarzsch…</td><td>&quot;Let $R_{ab}(x)$ be the Ricci t…</td><td>&quot;1. How is the validity of the …</td><td>&quot;1. The Schwarzschild solution,…</td><td>&quot;stackexchange&quot;</td><td>2335217</td></tr><tr><td>&quot;New physics at high energies, …</td><td>&quot;JEM-EUSO is designed to look f…</td><td>&quot;Are there any particle detecto…</td><td>&quot;The Extreme Universe Space Obs…</td><td>&quot;stackexchange&quot;</td><td>2335218</td></tr><tr><td>&quot;Statistical Mechanics: Computi…</td><td>&quot;In the second case\n",
       "$$\\Omega = …</td><td>&quot;How do you compute the microst…</td><td>&quot;The microstate multiplicity re…</td><td>&quot;stackexchange&quot;</td><td>2335219</td></tr></tbody></table></div>"
      ],
      "text/plain": [
       "shape: (5, 6)\n",
       "┌──────────────────┬─────────────────┬─────────────────┬─────────────────┬───────────────┬─────────┐\n",
       "│ orig_question    ┆ orig_answer     ┆ question        ┆ answer          ┆ source        ┆ index   │\n",
       "│ ---              ┆ ---             ┆ ---             ┆ ---             ┆ ---           ┆ ---     │\n",
       "│ str              ┆ str             ┆ str             ┆ str             ┆ str           ┆ i64     │\n",
       "╞══════════════════╪═════════════════╪═════════════════╪═════════════════╪═══════════════╪═════════╡\n",
       "│ SMPS Transformer ┆ At the lowest   ┆ How does the    ┆ In designing an ┆ stackexchange ┆ 2335215 │\n",
       "│ Primary Induc…   ┆ bus voltage,    ┆ primary         ┆ SMPS, primary … ┆               ┆         │\n",
       "│                  ┆ the…            ┆ inductanc…      ┆                 ┆               ┆         │\n",
       "│ STM32 HAL_UART_R ┆ When characters ┆ Why doesn't the ┆ The STM32 HAL_U ┆ stackexchange ┆ 2335216 │\n",
       "│ eceive_IT does…  ┆ are received, … ┆ STM32 HAL_UART… ┆ ART_Receive_IT  ┆               ┆         │\n",
       "│                  ┆                 ┆                 ┆ …               ┆               ┆         │\n",
       "│ Radius of Star,  ┆ Let $R_{ab}(x)$ ┆ 1. How is the   ┆ 1. The          ┆ stackexchange ┆ 2335217 │\n",
       "│ The Schwarzsch…  ┆ be the Ricci t… ┆ validity of the ┆ Schwarzschild   ┆               ┆         │\n",
       "│                  ┆                 ┆ …               ┆ solution,…      ┆               ┆         │\n",
       "│ New physics at   ┆ JEM-EUSO is     ┆ Are there any   ┆ The Extreme     ┆ stackexchange ┆ 2335218 │\n",
       "│ high energies, … ┆ designed to     ┆ particle        ┆ Universe Space  ┆               ┆         │\n",
       "│                  ┆ look f…         ┆ detecto…        ┆ Obs…            ┆               ┆         │\n",
       "│ Statistical      ┆ In the second   ┆ How do you      ┆ The microstate  ┆ stackexchange ┆ 2335219 │\n",
       "│ Mechanics:       ┆ case            ┆ compute the     ┆ multiplicity    ┆               ┆         │\n",
       "│ Computi…         ┆ $$\\Omega = …    ┆ microst…        ┆ re…             ┆               ┆         │\n",
       "└──────────────────┴─────────────────┴─────────────────┴─────────────────┴───────────────┴─────────┘"
      ]
     },
     "execution_count": 20,
     "metadata": {},
     "output_type": "execute_result"
    }
   ],
   "source": [
    "instruct_df.tail()"
   ]
  },
  {
   "cell_type": "code",
   "execution_count": 21,
   "id": "93c90591-4daf-48da-b337-f05852024346",
   "metadata": {},
   "outputs": [
    {
     "data": {
      "text/html": [
       "<div><style>\n",
       ".dataframe > thead > tr,\n",
       ".dataframe > tbody > tr {\n",
       "  text-align: right;\n",
       "  white-space: pre-wrap;\n",
       "}\n",
       "</style>\n",
       "<small>shape: (5, 1)</small><table border=\"1\" class=\"dataframe\"><thead><tr><th>text</th></tr><tr><td>str</td></tr></thead><tbody><tr><td>&quot;### Problem:\n",
       "How does the prim…</td></tr><tr><td>&quot;### Problem:\n",
       "Why doesn&#x27;t the S…</td></tr><tr><td>&quot;### Problem:\n",
       "1. How is the val…</td></tr><tr><td>&quot;### Problem:\n",
       "Are there any par…</td></tr><tr><td>&quot;### Problem:\n",
       "How do you comput…</td></tr></tbody></table></div>"
      ],
      "text/plain": [
       "shape: (5, 1)\n",
       "┌────────────────────┐\n",
       "│ text               │\n",
       "│ ---                │\n",
       "│ str                │\n",
       "╞════════════════════╡\n",
       "│ ### Problem:       │\n",
       "│ How does the prim… │\n",
       "│ ### Problem:       │\n",
       "│ Why doesn't the S… │\n",
       "│ ### Problem:       │\n",
       "│ 1. How is the val… │\n",
       "│ ### Problem:       │\n",
       "│ Are there any par… │\n",
       "│ ### Problem:       │\n",
       "│ How do you comput… │\n",
       "└────────────────────┘"
      ]
     },
     "execution_count": 21,
     "metadata": {},
     "output_type": "execute_result"
    }
   ],
   "source": [
    "xdf = instruct_df.select(\n",
    "    (\"### Problem:\\n\" + pl.col(\"question\") + \"\\n\\n### Solution:\\n\" + pl.col(\"answer\")).alias(\"text\")\n",
    ")\n",
    "xdf.tail()"
   ]
  },
  {
   "cell_type": "code",
   "execution_count": 24,
   "id": "4d60a37f-54eb-4968-b5da-c91f2fee4bc8",
   "metadata": {},
   "outputs": [
    {
     "name": "stdout",
     "output_type": "stream",
     "text": [
      "### Problem:\n",
      "How do I apply Kirchhoff's Voltage Law (KVL) to solve circuits with multiple voltage sources?\n",
      "\n",
      "### Solution:\n",
      "When solving circuits with multiple voltage sources using Kirchhoff's Voltage Law (KVL), it's essential to understand that the voltage around any closed loop must sum to zero. Here's a clarification on the method your lecturer used:\n",
      "\n",
      "1. **Loop Direction**: Choose a direction to traverse the loop. You can go clockwise or counterclockwise, but be consistent.\n",
      "\n",
      "2. **Voltage Signs**: As you move around the loop, assign the voltage across each resistor based on the direction of the current. If the current flows from the positive to the negative terminal of the resistor, the voltage drop is negative. If it flows from negative to positive, the voltage rise is positive.\n",
      "\n",
      "3. **Loop Equations**: For each loop, write a KVL equation. As you proceed around the loop, add the voltage sources (taking into account their polarity) and subtract the voltage drops across the resistors.\n",
      "\n",
      "4. **Equation Alternatives**: Your lecturer likely presented two equations for the same loop, one moving clockwise and the other counterclockwise. These equations will be equal in magnitude but have opposite signs. By multiplying one equation by -1, you can obtain the other.\n",
      "\n",
      "For instance, consider resistor R2:\n",
      "- If you start from point B and go counterclockwise, you encounter a voltage drop across R2 (-ir2).\n",
      "- If you start from point C and go clockwise, you encounter a voltage rise across R2 (+ir2).\n",
      "\n",
      "Repeat this process for all loops and resistors in the circuit. This will give you a system of equations that you can solve to find the currents.\n",
      "\n",
      "Remember that it's crucial to label the voltage polarities correctly and choose a consistent direction for the loop currents. This should help you understand and apply KVL in circuits with multiple voltage sources.\n"
     ]
    }
   ],
   "source": [
    "print(xdf[\"text\"][2323232])"
   ]
  },
  {
   "cell_type": "code",
   "execution_count": 25,
   "id": "975ad103-1d5e-4832-aaf5-44313c5daaf7",
   "metadata": {},
   "outputs": [],
   "source": [
    "xdf.write_parquet(os.path.join(input_dir, \"_pretrain\", \"instruct\", \"web-instruct.parquet\"))"
   ]
  },
  {
   "cell_type": "markdown",
   "id": "152438ec-9f8a-42fd-8bbf-f6e6e492ec33",
   "metadata": {},
   "source": [
    "## Magpie-Align/Llama-3-Magpie-Air-3M-v0.1"
   ]
  },
  {
   "cell_type": "code",
   "execution_count": 6,
   "id": "99f6fcf0-160c-43d4-a97a-e01c6b0cfcb3",
   "metadata": {},
   "outputs": [
    {
     "name": "stderr",
     "output_type": "stream",
     "text": [
      "Downloading readme: 100%|██████████| 3.50k/3.50k [00:00<00:00, 15.9MB/s]\n",
      "Downloading data: 100%|██████████| 39/39 [08:14<00:00, 12.68s/files]\n",
      "Generating train split: 100%|██████████| 3000000/3000000 [00:59<00:00, 50419.74 examples/s]\n"
     ]
    }
   ],
   "source": [
    "instruct = load_dataset(\"Magpie-Align/Llama-3-Magpie-Air-3M-v0.1\")"
   ]
  },
  {
   "cell_type": "code",
   "execution_count": 7,
   "id": "55d530fa-ba49-4f41-96ac-935232987dd2",
   "metadata": {},
   "outputs": [],
   "source": [
    "instruct_df = pl.DataFrame(instruct['train'].to_dict('records'))"
   ]
  },
  {
   "cell_type": "code",
   "execution_count": 8,
   "id": "75f6bca9-3a1f-4698-ab71-7cce66eeaa0a",
   "metadata": {
    "collapsed": true,
    "jupyter": {
     "outputs_hidden": true
    }
   },
   "outputs": [
    {
     "data": {
      "text/html": [
       "<div><style>\n",
       ".dataframe > thead > tr,\n",
       ".dataframe > tbody > tr {\n",
       "  text-align: right;\n",
       "  white-space: pre-wrap;\n",
       "}\n",
       "</style>\n",
       "<small>shape: (5, 23)</small><table border=\"1\" class=\"dataframe\"><thead><tr><th>uuid</th><th>model</th><th>gen_input_config</th><th>input</th><th>output</th><th>conversations</th><th>task_category</th><th>difficulty</th><th>intent</th><th>knowledge</th><th>input_quality</th><th>quality_explanation</th><th>llama_guard_2</th><th>reward_model</th><th>instruct_reward</th><th>base_output</th><th>base_reward</th><th>reward_difference</th><th>min_neighbor_distance</th><th>repeat_count</th><th>min_similar_uuid</th><th>input_length</th><th>output_length</th></tr><tr><td>str</td><td>str</td><td>struct[2]</td><td>str</td><td>str</td><td>list[struct[2]]</td><td>str</td><td>str</td><td>str</td><td>str</td><td>str</td><td>str</td><td>str</td><td>str</td><td>f64</td><td>str</td><td>f64</td><td>f64</td><td>f64</td><td>i64</td><td>str</td><td>i64</td><td>i64</td></tr></thead><tbody><tr><td>&quot;65212ad4-2769-5b09-aa6f-f7bdd8…</td><td>&quot;meta-llama/Meta-Llama-3-8B-Ins…</td><td>{1.25,0.99}</td><td>&quot;I want to start taking my pupp…</td><td>&quot;I think there may be a bit of …</td><td>[{&quot;human&quot;,&quot;I want to start taking my puppy to obedience training classes. What skills should I focus on with your pup?.Keyboard virtuoso (missing)&quot;}, {&quot;gpt&quot;,&quot;I think there may be a bit of a misunderstanding! As a friendly AI, I&#x27;m happy to help you with your puppy&#x27;s obedience training, but I&#x27;m not aware of a &quot;Keyboard Virtuoso&quot; skill that&#x27;s relevant to puppy training.\n",
       "\n",
       "Instead, I&#x27;d recommend focusing on basic obedience skills that will help you build a strong bond with your puppy and lay the foundation for future training. Here are some essential skills to consider:\n",
       "\n",
       "1. **Basic Commands**: Teach your puppy to respond to basic commands like &quot;sit,&quot; &quot;stay,&quot; &quot;come,&quot; &quot;down,&quot; &quot;leave it,&quot; and &quot;heel.&quot;\n",
       "2. **Socialization**: Socialization is crucial for puppies. Expose your puppy to new people, places, sights, sounds, and experiences to help them become confident and calm in new situations.\n",
       "3. **Leash Manners**: Teach your puppy to walk nicely on a leash without pulling or getting distracted by squirrels and other distractions.\n",
       "4. **Impulse Control**: Help your puppy learn to control their impulses and not jump up, bark excessively, or engage in other unwanted behaviors.\n",
       "5. **Boundary Setting**: Establish clear boundaries and rules for your puppy, such as not jumping up or begging for food.\n",
       "6. **Crate Training**: Crate training can help with housetraining, reduce separation anxiety, and prevent destructive behavior when you&#x27;re not home.\n",
       "7. **Basic Manners**: Teach your puppy basic manners like not pulling on the leash, not jumping up, and not begging for food.\n",
       "\n",
       "Remember to always use positive reinforcement techniques, such as treats, praise, and affection, when training your puppy. Be patient, consistent, and gentle, and you&#x27;ll be well on your way to raising a well-behaved and loving companion!&quot;}]</td><td>&quot;Information seeking&quot;</td><td>&quot;easy&quot;</td><td>&quot;The user wants to start taking…</td><td>&quot;To solve this problem, the mod…</td><td>&quot;poor&quot;</td><td>&quot;The query is somewhat unclear …</td><td>&quot;safe&quot;</td><td>&quot;sfairXC/FsfairX-LLaMA3-RM-v0.1&quot;</td><td>-0.776367</td><td>&quot;Hello! Obedience training is a…</td><td>-0.596191</td><td>-0.180176</td><td>0.550288</td><td>0</td><td>null</td><td>135</td><td>1656</td></tr><tr><td>&quot;4cd82963-c599-52a9-b297-5c2885…</td><td>&quot;meta-llama/Meta-Llama-3-8B-Ins…</td><td>{1.25,0.99}</td><td>&quot;What is this number buttonpipe…</td><td>&quot;I apologize, but it appears th…</td><td>[{&quot;human&quot;,&quot;What is this number buttonpipertsinskyany_change (neg frontier)==421199222?&quot;}, {&quot;gpt&quot;,&quot;I apologize, but it appears that the text you provided is not a valid number or mathematical expression. The text contains a mix of letters and special characters that do not form a numerical value.\n",
       "\n",
       "The text &quot;pipertsinskyany_change&quot; is not a valid mathematical term or concept, and the parentheses and equals sign (=) are not used in a way that would indicate a mathematical equation.\n",
       "\n",
       "If you meant to ask about a specific number or mathematical concept, please rephrase your question or provide more context so I can better understand and assist you.&quot;}]</td><td>&quot;Information seeking&quot;</td><td>&quot;hard&quot;</td><td>&quot;The user wants to identify the…</td><td>&quot;To solve this problem, the mod…</td><td>&quot;very poor&quot;</td><td>&quot;The query is unclear and lacks…</td><td>&quot;safe&quot;</td><td>&quot;sfairXC/FsfairX-LLaMA3-RM-v0.1&quot;</td><td>-4.207031</td><td>&quot;&quot;</td><td>-11.46875</td><td>7.261719</td><td>0.890414</td><td>0</td><td>null</td><td>75</td><td>552</td></tr><tr><td>&quot;938d4631-ab7d-5b89-9010-7acc8c…</td><td>&quot;meta-llama/Meta-Llama-3-8B-Ins…</td><td>{1.25,0.99}</td><td>&quot;Here are some identified compo…</td><td>&quot;Casumo Casino! That&#x27;s a popula…</td><td>[{&quot;human&quot;,&quot;Here are some identified compounds in casumo casino:&quot;}, {&quot;gpt&quot;,&quot;Casumo Casino! That&#x27;s a popular online casino, isn&#x27;t it? What kind of compounds are you referring to? Are they chemical compounds, or perhaps compounds in the sense of game components or mechanics?&quot;}]</td><td>&quot;Information seeking&quot;</td><td>&quot;easy&quot;</td><td>&quot;The user wants to provide info…</td><td>&quot;To solve this problem, the mod…</td><td>&quot;very poor&quot;</td><td>&quot;The query is very short and la…</td><td>&quot;safe&quot;</td><td>&quot;sfairXC/FsfairX-LLaMA3-RM-v0.1&quot;</td><td>-8.03125</td><td>&quot;&quot;</td><td>-11.875</td><td>3.84375</td><td>0.780733</td><td>0</td><td>null</td><td>52</td><td>197</td></tr><tr><td>&quot;3f0cd311-2288-5a8b-8f5d-761846…</td><td>&quot;meta-llama/Meta-Llama-3-8B-Ins…</td><td>{1.25,0.99}</td><td>&quot;What is hype surrounding cute …</td><td>&quot;The hype surrounding cute conf…</td><td>[{&quot;human&quot;,&quot;What is hype surrounding cute confession scenes in Asian dramas?&quot;}, {&quot;gpt&quot;,&quot;The hype surrounding cute confession scenes in Asian dramas, particularly in Korean and Japanese dramas, has become a significant aspect of the fandom culture. Here are some reasons why:\n",
       "\n",
       "1. **Emotional Connection**: Confession scenes are often the most emotional and intimate moments in a drama. The buildup of feelings, the nervousness, and the vulnerability of the characters create a strong emotional connection with the audience.\n",
       "2. **Romantic Tension**: The anticipation and uncertainty surrounding a confession can be thrilling. Fans love to speculate about the outcome, and the payoff can be incredibly satisfying.\n",
       "3. **Character Development**: Confession scenes often reveal character traits, such as courage, sincerity, or vulnerability, which deepen the audience&#x27;s understanding of the characters.\n",
       "4. **Cute and Adorable**: Let&#x27;s face it – confession scenes can be ridiculously cute and adorable! The awkwardness, the blushing, and the sweet words can be endearing and entertaining.\n",
       "5. **Fandom Engagement**: Confession scenes often become a focal point for fan engagement. Fans discuss, analyze, and speculate about the scenes, creating a sense of community and shared experience.\n",
       "6. **K-Drama and J-Drama Traditions**: In Korean and Japanese dramas, confession scenes are a staple of the romantic comedy and melodrama genres. Fans have come to expect and anticipate these scenes, which has contributed to their popularity.\n",
       "7. **Social Media and Memes**: The internet and social media have amplified the hype surrounding confession scenes. Memes, GIFs, and fan art often circulate, making the scenes more accessible and shareable.\n",
       "8. **Shipping Culture**: The concept of &quot;shipping&quot; (rooting for a specific couple) has become a significant aspect of fandom culture. Confession scenes can be a crucial moment in the shipping process, as they often mark a turning point in the relationship.\n",
       "9. **Cultural Significance**: Confession scenes can be seen as a representation of cultural values, such as the importance of honesty, vulnerability, and communication in relationships.\n",
       "10. **Nostalgia**: For some fans, confession scenes evoke a sense of nostalgia, reminding them of their own experiences or favorite dramas from the past.\n",
       "\n",
       "The combination of these factors has contributed to the widespread enthusiasm and anticipation surrounding cute confession scenes in Asian dramas.&quot;}]</td><td>&quot;Information seeking&quot;</td><td>&quot;easy&quot;</td><td>&quot;The user wants to understand t…</td><td>&quot;To solve this problem, the mod…</td><td>&quot;average&quot;</td><td>&quot;The query is clear and specifi…</td><td>&quot;safe&quot;</td><td>&quot;sfairXC/FsfairX-LLaMA3-RM-v0.1&quot;</td><td>5.128906</td><td>&quot;Hello! The &quot;hype&quot; around cute …</td><td>-3.015625</td><td>8.144531</td><td>0.783705</td><td>0</td><td>null</td><td>64</td><td>2387</td></tr><tr><td>&quot;bf70e557-3f3f-585c-91a3-47674f…</td><td>&quot;meta-llama/Meta-Llama-3-8B-Ins…</td><td>{1.25,0.99}</td><td>&quot;A man&quot;</td><td>&quot;It seems like you&#x27;re starting …</td><td>[{&quot;human&quot;,&quot;A man&quot;}, {&quot;gpt&quot;,&quot;It seems like you&#x27;re starting a story! Would you like to continue with the story of the man, or is there something specific you&#x27;d like to talk about?&quot;}]</td><td>&quot;Information seeking&quot;</td><td>&quot;very easy&quot;</td><td>&quot;The user wants to describe a p…</td><td>&quot;To solve this problem, the mod…</td><td>&quot;very poor&quot;</td><td>&quot;The query is very short and la…</td><td>&quot;safe&quot;</td><td>&quot;sfairXC/FsfairX-LLaMA3-RM-v0.1&quot;</td><td>-6.523438</td><td>&quot;&quot;</td><td>-10.679688</td><td>4.15625</td><td>0.631839</td><td>0</td><td>null</td><td>5</td><td>149</td></tr></tbody></table></div>"
      ],
      "text/plain": [
       "shape: (5, 23)\n",
       "┌───────────┬───────────┬───────────┬───────────┬───┬───────────┬───────────┬───────────┬──────────┐\n",
       "│ uuid      ┆ model     ┆ gen_input ┆ input     ┆ … ┆ repeat_co ┆ min_simil ┆ input_len ┆ output_l │\n",
       "│ ---       ┆ ---       ┆ _config   ┆ ---       ┆   ┆ unt       ┆ ar_uuid   ┆ gth       ┆ ength    │\n",
       "│ str       ┆ str       ┆ ---       ┆ str       ┆   ┆ ---       ┆ ---       ┆ ---       ┆ ---      │\n",
       "│           ┆           ┆ struct[2] ┆           ┆   ┆ i64       ┆ str       ┆ i64       ┆ i64      │\n",
       "╞═══════════╪═══════════╪═══════════╪═══════════╪═══╪═══════════╪═══════════╪═══════════╪══════════╡\n",
       "│ 65212ad4- ┆ meta-llam ┆ {1.25,0.9 ┆ I want to ┆ … ┆ 0         ┆ null      ┆ 135       ┆ 1656     │\n",
       "│ 2769-5b09 ┆ a/Meta-Ll ┆ 9}        ┆ start     ┆   ┆           ┆           ┆           ┆          │\n",
       "│ -aa6f-f7b ┆ ama-3-8B- ┆           ┆ taking my ┆   ┆           ┆           ┆           ┆          │\n",
       "│ dd8…      ┆ Ins…      ┆           ┆ pupp…     ┆   ┆           ┆           ┆           ┆          │\n",
       "│ 4cd82963- ┆ meta-llam ┆ {1.25,0.9 ┆ What is   ┆ … ┆ 0         ┆ null      ┆ 75        ┆ 552      │\n",
       "│ c599-52a9 ┆ a/Meta-Ll ┆ 9}        ┆ this      ┆   ┆           ┆           ┆           ┆          │\n",
       "│ -b297-5c2 ┆ ama-3-8B- ┆           ┆ number    ┆   ┆           ┆           ┆           ┆          │\n",
       "│ 885…      ┆ Ins…      ┆           ┆ buttonpip ┆   ┆           ┆           ┆           ┆          │\n",
       "│           ┆           ┆           ┆ e…        ┆   ┆           ┆           ┆           ┆          │\n",
       "│ 938d4631- ┆ meta-llam ┆ {1.25,0.9 ┆ Here are  ┆ … ┆ 0         ┆ null      ┆ 52        ┆ 197      │\n",
       "│ ab7d-5b89 ┆ a/Meta-Ll ┆ 9}        ┆ some iden ┆   ┆           ┆           ┆           ┆          │\n",
       "│ -9010-7ac ┆ ama-3-8B- ┆           ┆ tified    ┆   ┆           ┆           ┆           ┆          │\n",
       "│ c8c…      ┆ Ins…      ┆           ┆ compo…    ┆   ┆           ┆           ┆           ┆          │\n",
       "│ 3f0cd311- ┆ meta-llam ┆ {1.25,0.9 ┆ What is   ┆ … ┆ 0         ┆ null      ┆ 64        ┆ 2387     │\n",
       "│ 2288-5a8b ┆ a/Meta-Ll ┆ 9}        ┆ hype surr ┆   ┆           ┆           ┆           ┆          │\n",
       "│ -8f5d-761 ┆ ama-3-8B- ┆           ┆ ounding   ┆   ┆           ┆           ┆           ┆          │\n",
       "│ 846…      ┆ Ins…      ┆           ┆ cute …    ┆   ┆           ┆           ┆           ┆          │\n",
       "│ bf70e557- ┆ meta-llam ┆ {1.25,0.9 ┆ A man     ┆ … ┆ 0         ┆ null      ┆ 5         ┆ 149      │\n",
       "│ 3f3f-585c ┆ a/Meta-Ll ┆ 9}        ┆           ┆   ┆           ┆           ┆           ┆          │\n",
       "│ -91a3-476 ┆ ama-3-8B- ┆           ┆           ┆   ┆           ┆           ┆           ┆          │\n",
       "│ 74f…      ┆ Ins…      ┆           ┆           ┆   ┆           ┆           ┆           ┆          │\n",
       "└───────────┴───────────┴───────────┴───────────┴───┴───────────┴───────────┴───────────┴──────────┘"
      ]
     },
     "execution_count": 8,
     "metadata": {},
     "output_type": "execute_result"
    }
   ],
   "source": [
    "instruct_df.tail()"
   ]
  },
  {
   "cell_type": "code",
   "execution_count": 9,
   "id": "f13556d7-8ddd-4b39-83e2-026e25bd8c54",
   "metadata": {},
   "outputs": [
    {
     "data": {
      "text/html": [
       "<div><style>\n",
       ".dataframe > thead > tr,\n",
       ".dataframe > tbody > tr {\n",
       "  text-align: right;\n",
       "  white-space: pre-wrap;\n",
       "}\n",
       "</style>\n",
       "<small>shape: (5, 1)</small><table border=\"1\" class=\"dataframe\"><thead><tr><th>text</th></tr><tr><td>str</td></tr></thead><tbody><tr><td>&quot;### Problem:\n",
       "I want to start t…</td></tr><tr><td>&quot;### Problem:\n",
       "What is this numb…</td></tr><tr><td>&quot;### Problem:\n",
       "Here are some ide…</td></tr><tr><td>&quot;### Problem:\n",
       "What is hype surr…</td></tr><tr><td>&quot;### Problem:\n",
       "A man\n",
       "\n",
       "### Soluti…</td></tr></tbody></table></div>"
      ],
      "text/plain": [
       "shape: (5, 1)\n",
       "┌────────────────────┐\n",
       "│ text               │\n",
       "│ ---                │\n",
       "│ str                │\n",
       "╞════════════════════╡\n",
       "│ ### Problem:       │\n",
       "│ I want to start t… │\n",
       "│ ### Problem:       │\n",
       "│ What is this numb… │\n",
       "│ ### Problem:       │\n",
       "│ Here are some ide… │\n",
       "│ ### Problem:       │\n",
       "│ What is hype surr… │\n",
       "│ ### Problem:       │\n",
       "│ A man              │\n",
       "│                    │\n",
       "│ ### Soluti…        │\n",
       "└────────────────────┘"
      ]
     },
     "execution_count": 9,
     "metadata": {},
     "output_type": "execute_result"
    }
   ],
   "source": [
    "xdf = instruct_df.select(\n",
    "    (\"### Problem:\\n\" + pl.col(\"input\") + \"\\n\\n### Solution:\\n\" + pl.col(\"output\")).alias(\"text\")\n",
    ")\n",
    "xdf.tail()"
   ]
  },
  {
   "cell_type": "code",
   "execution_count": 10,
   "id": "9537afb1-65e3-4527-a2e9-468b527de3a2",
   "metadata": {},
   "outputs": [],
   "source": [
    "xdf.write_parquet(os.path.join(input_dir, \"_pretrain\", \"instruct\", \"magpie-instruct.parquet\"))"
   ]
  },
  {
   "cell_type": "markdown",
   "id": "c77c7588-6449-4163-86fc-82dc10230662",
   "metadata": {},
   "source": [
    "### BAAI/Infinity-Instruct"
   ]
  },
  {
   "cell_type": "code",
   "execution_count": 11,
   "id": "61b9bae0-67d5-4bb6-b06c-fee9a3aa5d92",
   "metadata": {},
   "outputs": [
    {
     "name": "stderr",
     "output_type": "stream",
     "text": [
      "Downloading readme: 100%|██████████| 12.0k/12.0k [00:00<00:00, 19.7MB/s]\n",
      "Downloading data: 100%|██████████| 9.14G/9.14G [06:37<00:00, 23.0MB/s]\n",
      "Generating train split: 4372650 examples [00:19, 227419.23 examples/s]\n"
     ]
    }
   ],
   "source": [
    "instruct = load_dataset(\"BAAI/Infinity-Instruct\")"
   ]
  },
  {
   "cell_type": "code",
   "execution_count": 12,
   "id": "a0ff3eea-5319-4fac-9dd1-c72794d68142",
   "metadata": {
    "collapsed": true,
    "jupyter": {
     "outputs_hidden": true
    }
   },
   "outputs": [
    {
     "data": {
      "text/html": [
       "<div><style>\n",
       ".dataframe > thead > tr,\n",
       ".dataframe > tbody > tr {\n",
       "  text-align: right;\n",
       "  white-space: pre-wrap;\n",
       "}\n",
       "</style>\n",
       "<small>shape: (5, 2)</small><table border=\"1\" class=\"dataframe\"><thead><tr><th>id</th><th>conversations</th></tr><tr><td>str</td><td>list[struct[2]]</td></tr></thead><tbody><tr><td>&quot;4372645&quot;</td><td>[{&quot;human&quot;,&quot;Provide the best response to a given instruction. Follow the following steps to craft your response:\n",
       "1. reason about the given instruction\n",
       "2. provide a high-quality solution\n",
       "3. offer a concise explanation\n",
       "4. write tests to verify the correctness your solution\n",
       "\n",
       "## Example 1\n",
       "### Instruction\n",
       "Implement a Python class with a method `find_nth_prime_memoized(n)` that returns the nth prime number, where n is a positive integer. Utilize memoization to store already found prime numbers in a list within the class to avoid recalculating primes for multiple method calls. Ensure the method efficiently updates and references this list to find new primes as needed. Additionally, enhance performance by avoiding unnecessary prime checks.\n",
       "\n",
       "### Response\n",
       "[Reasoning]\n",
       "Implementing the required Python class with the method `find_nth_prime_memoized(n)` involves several key steps:\n",
       "\n",
       "1. The class should have a constructor `__init__` that initializes the cache list to store the memoized prime numbers. Initially, the list can be seeded with the first two prime numbers, 2 and 3.\n",
       "2. The method `find_nth_prime_memoized` will check if the requested `n`th prime is already in the memoized list. If it is, it will return that prime directly. If not, it will start from the last cached prime and continue to find and cache new primes until the `n`th prime is found.\n",
       "3. A helper method `is_prime` can be defined to check if a number is prime. To efficiently check for primality:\n",
       "    - It checks if the number is divisible by each of the primes already in the cache.\n",
       "    - It only checks up to the square root of the number to be tested, implemented by comparing the square of the prime with the number.\n",
       "    - It skips even numbers by incrementing by 2 for each prime check. This is sound since the cache is initialized with the first **two** primes, 2 and 3.\n",
       "\n",
       "[Implementation]\n",
       "Here is how you could implement such a class:\n",
       "\n",
       "```python\n",
       "class PrimeFinder:\n",
       "    def __init__(self):\n",
       "        self.primes = [2, 3]\n",
       "\n",
       "    def is_prime(self, num: int) -&gt; bool:\n",
       "        if num &lt; 2:\n",
       "            return False\n",
       "        for prime in self.primes:\n",
       "            if prime * prime &gt; num:\n",
       "                break\n",
       "            if num % prime == 0:\n",
       "                return False\n",
       "        return True\n",
       "\n",
       "    def find_nth_prime_memoized(self, n: int) -&gt; int:\n",
       "        # Return the n-th prime directly if already in cache\n",
       "        if n &lt;= len(self.primes):\n",
       "            return self.primes[n - 1]\n",
       "\n",
       "        # Start checking from the number after the last prime in cache\n",
       "        current_num = self.primes[-1] + 2\n",
       "        while len(self.primes) &lt; n:\n",
       "            if self.is_prime(current_num):\n",
       "                # Cache the new prime\n",
       "                self.primes.append(current_num)\n",
       "            # Skip even numbers\n",
       "            current_num += 2\n",
       "\n",
       "        return self.primes[n - 1]\n",
       "```\n",
       "\n",
       "[Explanation]\n",
       "This class `PrimeFinder` initializes with a cache of the first two primes. The `is_prime` method checks if a number is prime by dividing it with cached primes up to its square root. The `find_nth_prime_memoized` method uses this helper method to find and cache primes up to the requested `n`th one. Subsequent calls leverage cached primes for efficiency.\n",
       "\n",
       "[Tests]\n",
       "Here&#x27;s how you can test this class:\n",
       "\n",
       "```python\n",
       "# Test that the class correctly finds the first few primes\n",
       "first_few_primes = [2, 3, 5, 7, 11, 13, 17, 19, 23, 29]\n",
       "prime_finder = PrimeFinder()\n",
       "for i, prime in enumerate(first_few_primes, 1):\n",
       "    assert prime_finder.find_nth_prime_memoized(i) == prime\n",
       "\n",
       "# Test that the memoized results are returned directly\n",
       "for i, prime in enumerate(first_few_primes, 1):\n",
       "    assert prime_finder.find_nth_prime_memoized(i) == prime\n",
       "```\n",
       "\n",
       "These tests verify that the class correctly finds the first few primes and that subsequent calls return the memoized results directly.\n",
       "\n",
       "## Example 2\n",
       "### Instruction\n",
       "Given a point `p0` with x and y values and another point `p1` with x and y values, calculate the coordinates of a point `p` on the line segment between `p0` and `p1` at a given distance `t` from `p0`.\n",
       "\n",
       "The distance `t` is calculated as a ratio of the total distance between the points `p0` and `p1` and is clamped between 0 and 1. For example, if `t` is 0.5, the point `p` will be halfway between `p0` and `p1`.\n",
       "\n",
       "Write a Python function to return the point `p` as a tuple of x and y values.\n",
       "\n",
       "### Response&quot;}, {&quot;gpt&quot;,&quot;Here&#x27;s an example implementation in Python:\n",
       "\n",
       "```python\n",
       "def get_point_on_line_segment(p0, p1, t):\n",
       "    dx = p1[0] - p0[0]\n",
       "    dy = p1[1] - p0[1]\n",
       "    distance = (dx ** 2 + dy ** 2) ** 0.5\n",
       "    t = min(max(t, 0), 1)\n",
       "    dx_p = dx * t\n",
       "    dy_p = dy * t\n",
       "    x = p0[0] + dx_p\n",
       "    y = p0[1] + dy_p\n",
       "    return (x, y)\n",
       "```\n",
       "\n",
       "The function `get_point_on_line_segment` takes three arguments: `p0`, `p1`, and `t`. `p0` and `p1` are tuples of x and y values representing the two points on the line segment. `t` is the ratio of distance `p` is from `p0` as a decimal value between 0 and 1.\n",
       "\n",
       "The function first calculates the distance between `p0` and `p1` using the Pythagorean theorem. Then, it clamps `t` between 0 and 1 to ensure it is within the accepted range. Next, it calculates the distance between `p0` and `p` along the line segment using the `t` ratio. Finally, it uses the ratio of the components to calculate the coordinates of `p` and returns them as a tuple `(x, y)`.&quot;}]</td></tr><tr><td>&quot;4372646&quot;</td><td>[{&quot;human&quot;,&quot;Provide the best response to a given instruction. Follow the following steps to craft your response:\n",
       "1. reason about the given instruction\n",
       "2. provide a high-quality solution\n",
       "3. offer a concise explanation\n",
       "4. write tests to verify the correctness your solution\n",
       "\n",
       "## Example 1\n",
       "### Instruction\n",
       "Create a Python function to encode an integer into a sequence of encoded characters, where each character represents a 5-bit chunk of the integer. The ASCII value of each chunk character is formed by adding 63 to the 5-bit chunk&#x27;s value. For all chunks except the last one, set the 6th bit to 1 to indicate continuation. Employ bitwise operations for this encoding process.\n",
       "\n",
       "### Response\n",
       "[Reasoning]\n",
       "To encode an integer into a sequence of encoded characters based on the specified criteria, let&#x27;s follow these steps:\n",
       "\n",
       "1. Break down the integer into 5-bit chunks: Extract 5-bit chunks from the integer using using `&amp; 31` (`0x1F`), because the binary representation of `31` (`11111`) has the last five bits set, which will effectively extract the 5 bits we are interested in. We start from the least significant bits (LSB).\n",
       "2. Set continuation bit: For all chunks except the last one, set the 6th bit to 1 using `| 32` (`0x20`) because the binary representation of `32` (`100000`) has the 6th bit set to 1. This indicates that there&#x27;s another continuation chunk following.\n",
       "3. Shift right: Right-shift the value by 5 to process the next 5 bits.\n",
       "4. Convert to characters: Use `ord` and `chr` to convert each chunk (now effectively 6 bits due to the continuation bit) into a character by adding 63 to its value. This ensures that the character is within a printable ASCII range.\n",
       "5. Assembly: Assemble these characters into the final encoded string while maintaining the order of the chunks through `reversed`.\n",
       "\n",
       "[Implementation]\n",
       "Here&#x27;s how you can implement this function:\n",
       "\n",
       "```python\n",
       "def encode_integer_to_chars(value: int) -&gt; str:\n",
       "    # Base case for 0\n",
       "    if value == 0:\n",
       "        return chr(63)\n",
       "\n",
       "    encoded_chars = []\n",
       "    while value &gt; 0:\n",
       "        # Extract the 5-bit chunk and add 63 to its value\n",
       "        chunk = (value &amp; 31) + 63\n",
       "        value &gt;&gt;= 5\n",
       "        # If there&#x27;s still more of the value left, set the continuation bit\n",
       "        if value &gt; 0:\n",
       "            chunk |= 32\n",
       "        encoded_chars.append(chr(chunk))\n",
       "\n",
       "    # Reverse the list of characters to start with the least significant chunk\n",
       "    # and join them into a single string\n",
       "    return &#x27;&#x27;.join(reversed(encoded_chars))\n",
       "```\n",
       "\n",
       "[Explanation]\n",
       "This function processes the integer bit by bit in 5-bit chunks, applying bitwise operations to extract and manipulate these chunks, then converts each chunk into a character using the specified encoding scheme. This approach efficiently handles the encoding in a loop until all bits of the integer have been processed.\n",
       "\n",
       "Note that this function is designed for non-negative integers and does not support negative integers by default because negative numbers are represented in two&#x27;s complement form, where the most significant bit (MSB) indicates the sign. In Python, right-shifting (`&gt;&gt;`) a negative integer preserves the sign bit, effectively making the never executed due to the `value &gt; 0` condition. If you change it to `value != 0`, it will then lead to an infinite loop if the same encoding logic is applied to negative integers without modifications.\n",
       "\n",
       "[Tests]\n",
       "You can validate this function with a few test cases to ensure correctness:\n",
       "\n",
       "```python\n",
       "assert encode_integer_to_chars(0) == chr(63)\n",
       "assert encode_integer_to_chars(1) == chr(63 + 1)\n",
       "assert encode_integer_to_chars(31) == chr(63 + 31)\n",
       "assert encode_integer_to_chars(int(0b1)) == chr(0b1 + 63)\n",
       "assert encode_integer_to_chars(int(0b1000001)) == chr(0b10 + 63) + chr(63 + 0b100001)\n",
       "```\n",
       "\n",
       "These tests cover scenarios from zero to a number requiring more than one chunk, ensuring the function operates as expected.\n",
       "\n",
       "## Example 2\n",
       "### Instruction\n",
       "Create a Python function that takes two arrays `nums1` and `nums2`, and returns an array containing their intersection.\n",
       "\n",
       "Implement the function as a composition of two functions, where the first function forwards the arguments to the second function and the second function performs the actual intersection operation.\n",
       "\n",
       "The second function should calculate the intersection of the two arrays by performing arithmetic calculations on their elements. Each element in the intersection should be the result of a specific operation between the corresponding elements of the two arrays. For example, the intersection of `[1, 2, 3]` and `[4, 5, 6]` could be `[1 + 4, 2 + 5, 3 + 6] = [5, 7, 9]`.\n",
       "\n",
       "### Response&quot;}, {&quot;gpt&quot;,&quot;Here&#x27;s how you can implement the two functions:\n",
       "\n",
       "```python\n",
       "def forward_arguments(nums1, nums2):\n",
       "    return second_function(nums1, nums2)\n",
       "\n",
       "def second_function(nums1, nums2):\n",
       "    result = []\n",
       "    for num1, num2 in zip(nums1, nums2):\n",
       "        result.append(num1 + num2)\n",
       "    return result\n",
       "```\n",
       "\n",
       "This implementation demonstrates how to define two functions, where the first function forwards the arguments to the second function, and the second function performs the actual intersection operation by performing arithmetic calculations on the elements of the two arrays.&quot;}]</td></tr><tr><td>&quot;4372647&quot;</td><td>[{&quot;human&quot;,&quot;Provide the best response to a given instruction. Follow the following steps to craft your response:\n",
       "1. reason about the given instruction\n",
       "2. provide a high-quality solution\n",
       "3. offer a concise explanation\n",
       "4. write tests to verify the correctness your solution\n",
       "\n",
       "## Example 1\n",
       "### Instruction\n",
       "Here are two special formulas:\n",
       "\n",
       "$$\n",
       "f_1(a, b) = (a + 1) \\cdot (b + 1) - 1\n",
       "$$\n",
       "\n",
       "$$\n",
       "f_2(k) = \\begin{cases}\n",
       "    \\frac{(k + 1)^2}{2} + k + 1 &amp; \\text{if } k \\text{ is odd} \\\\\n",
       "    \\frac{k^2}{2} + 2k + 1 &amp; \\text{if } k \\text{ is even}\n",
       "\\end{cases}\n",
       "$$\n",
       "\n",
       "Write a Python function to return $f_2(f_1(a, b))$ for given `a` and `b`.\n",
       "\n",
       "### Response\n",
       "[Reasoning]\n",
       "Based on the formulas you provided, we can define two Python functions, `f1(a, b)` and `f2(k)`, respectively, and then combine them to calculate $f2(f1(a, b))$ for given `a` and `b`.\n",
       "\n",
       "[Implementation]\n",
       "Here is the implementation:\n",
       "\n",
       "```python\n",
       "def f1(a, b):\n",
       "    return (a + 1) * (b + 1) - 1\n",
       "\n",
       "def f2(k):\n",
       "    if k % 2 == 0:  # Check if k is even\n",
       "        return (k**2) / 2 + 2 * k + 1\n",
       "    else:  # k is odd\n",
       "        return ((k + 1)**2) / 2 + k + 1\n",
       "\n",
       "def f1_f2_combined(a, b):\n",
       "    return f2(f1(a, b))\n",
       "```\n",
       "\n",
       "[Explanation]\n",
       "In this implementation:\n",
       "- `f1(a, b)` calculates the first formula you&#x27;ve given.\n",
       "- `f2(k)` calculates the second formula, with a conditional branch for whether `k` is even or odd.\n",
       "- `f1_f2_combined(a, b)` uses the output of `f1(a, b)` as the input for `f2(k)` and returns the result.\n",
       "\n",
       "[Tests]\n",
       "To test this combined function, you can simply compare it with the direct application of `f2` to the result of `f1` for different values of `a` and `b`:\n",
       "\n",
       "```python\n",
       "assert f1_f2_combined(2, 3) == f2(f1(2, 3))\n",
       "assert f1_f2_combined(4, 5) == f2(f1(4, 5))\n",
       "assert f1_f2_combined(6, 7) == f2(f1(6, 7))\n",
       "```\n",
       "\n",
       "## Example 2\n",
       "### Instruction\n",
       "Write a Python function that takes an object `obj`, a list of attributes `attrs`, and a delimiter `delim`, and returns a string containing the values of the attributes of `obj` in sequence, separated by `delim`. If an attribute is not present, set it to None.\n",
       "\n",
       "### Response&quot;}, {&quot;gpt&quot;,&quot;To solve this problem, you can use Python&#x27;s `getattr` function to access the attributes of `obj`. Additionally, you can use a list comprehension to iterate over the attributes and retrieve their values from `obj`. Finally, you can join the retrieved values with the provided `delim` to get the desired string.\n",
       "\n",
       "Here&#x27;s the implementation:\n",
       "\n",
       "```python\n",
       "def get_attrs_as_string(obj, attrs, delim):\n",
       "    attr_values = [getattr(obj, attr, None) for attr in attrs]\n",
       "    return delim.join(str(value) for value in attr_values)\n",
       "```&quot;}]</td></tr><tr><td>&quot;4372648&quot;</td><td>[{&quot;human&quot;,&quot;Provide the best response to a given instruction. Follow the following steps to craft your response:\n",
       "1. reason about the given instruction\n",
       "2. provide a high-quality solution\n",
       "3. offer a concise explanation\n",
       "4. write tests to verify the correctness your solution\n",
       "\n",
       "## Example 1\n",
       "### Instruction\n",
       "Construct a Python function `create_folds(data, count)` to create a list of folds from the given data, where each fold is a subsequence of the original data. The length of each fold should be approximately equal with at most a difference of 1. The function should satisfy the following assertion:\n",
       "\n",
       "```python\n",
       "assert create_folds(range(12), 2) == [range(0, 6), range(6, 12)]\n",
       "assert create_folds(range(8), 2) == [range(0, 4), range(4, 8)]\n",
       "assert create_folds(range(25), -5) == []\n",
       "assert create_folds(range(6), 2) == [range(0, 3), range(3, 6)]\n",
       "```\n",
       "\n",
       "### Response\n",
       "[Reasoning]\n",
       "To create a Python function that generates a list of folds from given data with each fold having approximately equal length (with at most a difference of 1 between any two folds), you can follow these steps:\n",
       "\n",
       "1. Return an empty list immediately if `count` is non-positive since it&#x27;s not possible to create a valid number of folds.\n",
       "2. Divide the total length of the data by `count`, rounding down, to get the minimum number of items each fold should have.\n",
       "3. Calculate the remainder to see how many extra items need to be distributed among the folds. They are distributed one by one to the first `remainder` folds.\n",
       "4. Use a loop to create each fold, adjusting the starting and ending indices based on the calculations above to ensure each fold has the correct number of items.\n",
       "\n",
       "[Implementation]\n",
       "Here&#x27;s how you can implement this:\n",
       "\n",
       "```python\n",
       "def create_folds(data, count):\n",
       "    # Return an empty list if count is non-positive\n",
       "    if count &lt;= 0:\n",
       "        return []\n",
       "\n",
       "    data_length = len(data)\n",
       "    fold_size = data_length // count\n",
       "    remainder = data_length % count\n",
       "\n",
       "    folds = []\n",
       "    start_index = 0\n",
       "\n",
       "    for i in range(count):\n",
       "        # Add 1 element to each of the first `remainder` folds\n",
       "        end_index = start_index + fold_size + (1 if i &lt; remainder else 0)\n",
       "        folds.append(range(start_index, end_index))\n",
       "        start_index = end_index\n",
       "\n",
       "    return folds\n",
       "```\n",
       "\n",
       "[Explanation]\n",
       "This implementation ensures that each fold has an equal length with at most a difference of 1 between any two folds. It handles edge cases, such as a non-positive `count`, by returning an empty list as specified.\n",
       "\n",
       "[Tests]\n",
       "You can test your code with the provided assertions to verify that the function works correctly:\n",
       "\n",
       "```python\n",
       "assert create_folds(range(12), 2) == [range(0, 6), range(6, 12)]\n",
       "assert create_folds(range(8), 2) == [range(0, 4), range(4, 8)]\n",
       "assert create_folds(range(25), -5) == []\n",
       "assert create_folds(range(6), 2) == [range(0, 3), range(3, 6)]\n",
       "```\n",
       "\n",
       "## Example 2\n",
       "### Instruction\n",
       "Create a Python function `to_json_str(dc, indent=4)` that takes a dictionary of key-value pairs and returns its JSON representation with indentation. The function should handle nested dictionaries and lists, including empty objects.\n",
       "\n",
       "### Response&quot;}, {&quot;gpt&quot;,&quot;To create a Python function that converts a dictionary of key-value pairs to a JSON string, you can follow these steps:\n",
       "\n",
       "1. Write a recursive function `jsonify()` that converts a nested data structure recursively to a JSON representation.\n",
       "2. Handle different types of values such as dictionaries, lists, integers, and strings by determining which representation to use for each type.\n",
       "3. Use the built-in `json.dumps()` function from the `json` module to convert the dictionary to a JSON string, specifying the `indent` argument to control the indentation of the output.\n",
       "\n",
       "Here&#x27;s an example implementation:\n",
       "\n",
       "```python\n",
       "import json\n",
       "\n",
       "def jsonify(obj, indent=4):\n",
       "    if isinstance(obj, dict):\n",
       "        return &quot;{&quot; + &quot;, &quot;.join([f&#x27;&quot;{key}&quot;: {jsonify(value, indent)}&#x27; for key, value in obj.items()]) + &quot;}&quot;\n",
       "    elif isinstance(obj, list):\n",
       "        return &quot;[&quot; + &quot;, &quot;.join([jsonify(item, indent) for item in obj]) + &quot;]&quot;\n",
       "    elif isinstance(obj, (int, float)):\n",
       "        return str(obj)\n",
       "    elif isinstance(obj, str):\n",
       "        return f&#x27;&quot;{obj}&quot;&#x27;\n",
       "    else:\n",
       "        return &quot;null&quot;\n",
       "\n",
       "def to_json_str(dc, indent=4):\n",
       "    return json.dumps(jsonify(dc), indent=indent)\n",
       "```&quot;}]</td></tr><tr><td>&quot;4372649&quot;</td><td>[{&quot;human&quot;,&quot;Provide the best response to a given instruction. Follow the following steps to craft your response:\n",
       "1. reason about the given instruction\n",
       "2. provide a high-quality solution\n",
       "3. offer a concise explanation\n",
       "4. write tests to verify the correctness your solution\n",
       "\n",
       "## Example 1\n",
       "### Instruction\n",
       "Develop a Python function `ceil_divide_without_div` that computes the ceiling of `n / 2**b` without using division, floating-point operations, built-in functions like `math.ceil`, or converting it into computing the floor. Instead, use bit manipulation to achieve the result. You write assertions to ensure both `n` and `b` are non-negative integers.\n",
       "\n",
       "### Response\n",
       "[Reasoning]\n",
       "We can leverage the properties of bitwise operations to develop a Python function that computes the ceiling of `n / 2**b` without using division, floating-point operations, or any built-in functions like `math.ceil`, and strictly avoiding converting the problem into a floor computation.\n",
       "\n",
       "In the context, dividing by `2**b` is equivalent to right-shifting `n` by `b` bits in binary representation when `n` is divisible by `2**b`. Otherwise, this approach inherently computes the floor of the division. To adjust for the ceiling without directly calculating it, we can consider two cases:\n",
       "\n",
       "1. If `n` is divisible by `2**b`, the result of the division is simply the value of right-shifting `n` by `b` bits.\n",
       "2. Otherwise, we need to increment the right-shifted result by 1 to achieve the ceiling effect.\n",
       "\n",
       "To determine the divisibility of `n` by `2**b`, we can check if the first `b` bits of `n` are all 0. This can be done using a mask with the first `b` bits set to 1, and then performing a bitwise AND operation with `n`. If the result is 0, it indicates that `n` is divisible by `2**b`. The mask can be created using `mask = (1 &lt;&lt; b) - 1`.\n",
       "\n",
       "We&#x27;ll also include assertions to ensure that `n` and `b` are non-negative integers.\n",
       "\n",
       "[Implementation]\n",
       "Here is the implementation of `ceil_divide_without_div`:\n",
       "\n",
       "```python\n",
       "def ceil_divide_without_div(n: int, b: int) -&gt; int:\n",
       "    assert isinstance(n, int) and n &gt;= 0, &quot;n must be a non-negative integer&quot;\n",
       "    assert isinstance(b, int) and b &gt;= 0, &quot;b must be a non-negative integer&quot;\n",
       "\n",
       "    # Constructing the mask to check divisibility\n",
       "    mask = (1 &lt;&lt; b) - 1\n",
       "    divisible = (n &amp; mask) == 0\n",
       "\n",
       "    result = n &gt;&gt; b\n",
       "\n",
       "    # If n is not divisible by 2**b, increment the result to get the ceiling\n",
       "    if not divisible:\n",
       "        result += 1\n",
       "\n",
       "    return result\n",
       "```\n",
       "\n",
       "[Explanation]\n",
       "This function calculates the ceiling of `n / 2**b` purely through bitwise manipulation and integer arithmetic. The assertions ensure the input constraints are met, as specified.\n",
       "\n",
       "[Tests]\n",
       "To verify the correctness of the function, we can run the following tests:\n",
       "\n",
       "```python\n",
       "import math\n",
       "\n",
       "assert ceil_divide_without_div(10, 3) == math.ceil(10 / 2**3)\n",
       "assert ceil_divide_without_div(17, 4) == math.ceil(17 / 2**4)\n",
       "assert ceil_divide_without_div(100, 5) == math.ceil(100 / 2**5)\n",
       "assert ceil_divide_without_div(0, 3) == math.ceil(0 / 2**3)\n",
       "assert ceil_divide_without_div(1, 0) == math.ceil(1 / 2**0)\n",
       "```\n",
       "\n",
       "These tests compare the results of our function with the expected results obtained using `math.ceil` to ensure the correctness of the ceiling division operation.\n",
       "\n",
       "## Example 2\n",
       "### Instruction\n",
       "Create a Python function that takes two parameters: `dim` and `max_val`. The function should create a numpy array with the shape `(dim, dim)` and fill it with random integers from 0 to `max_val`. Then, the function should loop through each row of the array and set the first element of each row to the maximum of that row. Finally, the function should return the updated array.\n",
       "\n",
       "### Response&quot;}, {&quot;gpt&quot;,&quot;Here&#x27;s the implementation for the function:\n",
       "\n",
       "```python\n",
       "import numpy as np\n",
       "\n",
       "def set_first_element_to_max(dim, max_val):\n",
       "    arr = np.random.randint(0, max_val, size=(dim, dim))\n",
       "    for i in range(dim):\n",
       "        arr[i, 0] = np.max(arr[i, :])\n",
       "    return arr\n",
       "```&quot;}]</td></tr></tbody></table></div>"
      ],
      "text/plain": [
       "shape: (5, 2)\n",
       "┌─────────┬─────────────────────────────────┐\n",
       "│ id      ┆ conversations                   │\n",
       "│ ---     ┆ ---                             │\n",
       "│ str     ┆ list[struct[2]]                 │\n",
       "╞═════════╪═════════════════════════════════╡\n",
       "│ 4372645 ┆ [{\"human\",\"Provide the best re… │\n",
       "│ 4372646 ┆ [{\"human\",\"Provide the best re… │\n",
       "│ 4372647 ┆ [{\"human\",\"Provide the best re… │\n",
       "│ 4372648 ┆ [{\"human\",\"Provide the best re… │\n",
       "│ 4372649 ┆ [{\"human\",\"Provide the best re… │\n",
       "└─────────┴─────────────────────────────────┘"
      ]
     },
     "execution_count": 12,
     "metadata": {},
     "output_type": "execute_result"
    }
   ],
   "source": [
    "instruct_df = pl.DataFrame(instruct['train'].to_dict('records'))\n",
    "instruct_df.tail()"
   ]
  },
  {
   "cell_type": "code",
   "execution_count": 14,
   "id": "9e8fec4f-359f-40a2-90fc-fde84937ff9d",
   "metadata": {},
   "outputs": [],
   "source": [
    "def parse_json_to_string(json_data):\n",
    "    # Load the JSON data if it's a string\n",
    "    if isinstance(json_data, str):\n",
    "        data = json.loads(json_data)\n",
    "    else:\n",
    "        data = json_data\n",
    "    \n",
    "    # Initialize the result string\n",
    "    result_string = \"\"\n",
    "    \n",
    "    # Template for appending each problem and solution\n",
    "    template = \"\"\"\n",
    "### Problem:\n",
    "{human_value}\n",
    "\n",
    "### Solution:\n",
    "{gpt_value}\n",
    "\"\"\"\n",
    "    # Temporary storage for human and gpt values\n",
    "    values = {}\n",
    "\n",
    "    # Process each entry in the JSON data\n",
    "    for entry in data:\n",
    "        key = f\"{entry['from']}_value\"\n",
    "        values[key] = entry['value']\n",
    "        \n",
    "        # If both human and gpt entries have been processed, append to result string\n",
    "        if 'human_value' in values and 'gpt_value' in values:\n",
    "            result_string += template.format(**values)\n",
    "            values.clear()  # Clear the temporary storage after processing a pair\n",
    "\n",
    "    return result_string"
   ]
  },
  {
   "cell_type": "code",
   "execution_count": 18,
   "id": "97d4f299-2d12-4fd6-a703-afa0ffcd151e",
   "metadata": {},
   "outputs": [
    {
     "name": "stderr",
     "output_type": "stream",
     "text": [
      "4372650it [00:31, 139745.77it/s]\n"
     ]
    }
   ],
   "source": [
    "result_data = []\n",
    "\n",
    "# Iterate through each row in the DataFrame\n",
    "for row in tqdm(instruct_df.iter_rows(named=True)):\n",
    "    text = parse_json_to_string(row['conversations'])\n",
    "    result_data.append(text)"
   ]
  },
  {
   "cell_type": "code",
   "execution_count": 25,
   "id": "bd93e89b-ad50-49cc-a0eb-95508ee10426",
   "metadata": {
    "collapsed": true,
    "jupyter": {
     "outputs_hidden": true
    },
    "scrolled": true
   },
   "outputs": [
    {
     "name": "stdout",
     "output_type": "stream",
     "text": [
      "\n",
      "### Problem:\n",
      "Create a chart that outlines and compares the benefits of high-intensity interval training, jogging, cycling, swimming, and dancing with regards to improving cardiovascular health. The chart should include information on the duration of the exercise, the intensity required, and the specific cardiovascular benefits of each type of exercise. Use clear headings and labels, and include relevant statistics and research findings to support your claims.\n",
      "\n",
      "### Solution:\n",
      "| Exercise Type         | Duration | Intensity Level | Cardiovascular Benefits                                                                                                                                     |\n",
      "|-----------------------|----------|----------------|---------------------------------------------------------------------------------------------------------------------------------------------------------------|\n",
      "| High-Intensity Interval Training (HIIT) | 20-30 minutes | High | -Increases cardiovascular fitness<br>-Lowers blood pressure and heart rate<br>-Boosts metabolism for up to 24 hours after exercise|\n",
      "| Jogging               | 30-60 minutes | Moderate-high  | -Improves lung function and oxygen intake<br>-Strengthens heart muscle<br>-Reduces risk of heart disease                                                     |\n",
      "| Cycling               | 30-60 minutes | Moderate-high  | -Builds stamina and endurance<br>-Stimulates blood flow and oxygen delivery<br>-Tones muscles, particularly in the legs                                        |\n",
      "| Swimming              | 30-60 minutes | Moderate-high  | -Low-impact, ideal for people with joint pain or arthritis<br>-Burns calories and improves circulation<br>-Builds cardiorespiratory endurance               |\n",
      "| Dancing               | 60+ minutes  | Moderate-high  | -Increases lung capacity and oxygen intake<br>-Builds stamina and strengthens core muscles<br>-Reduces risk of heart disease                                        |\n",
      "\n",
      "Research has shown that HIIT is particularly effective for improving cardiovascular health, as it involves short bursts of intense activity followed by rest periods. Studies have found HIIT to be more effective at improving cardiovascular fitness and reducing blood pressure compared to moderate-intensity exercise like continuous jogging or cycling.\n",
      "\n",
      "Jogging and cycling are both great options for improving cardiovascular health as they challenge the cardiovascular system and increase heart rate, breathing rate, and oxygen delivery to the muscles. Swimming is often recommended for people with joint pain or arthritis, as it is gentle on the joints while still providing a cardio workout.\n",
      "\n",
      "Dancing may not seem like a traditional form of exercise, but research has shown that it can be an effective way to improve cardiovascular health. People who danced regularly have been found to have a lower risk of heart disease and higher lung capacity compared to those who did not dance.\n",
      "\n",
      "It is important to note that the intensity and duration of exercise should be tailored to individual needs and fitness levels. Consulting a healthcare professional or certified personal trainer can help determine the most suitable exercise plan for achieving cardiovascular health goals.\n",
      "\n",
      "### Problem:\n",
      "This is a great start! Can you add more information on the specific benefits of each exercise on the heart and lung functions? Also, can you provide some statistics on the number of calories burned during each exercise?\n",
      "\n",
      "### Solution:\n",
      "| Exercise Type         | Duration | Intensity Level | Cardiovascular Benefits                                                                                                                                                                                                     | Calories Burned                                        |\n",
      "|-----------------------|----------|----------------|-------------------------------------------------------------------------------------------------------------------------------------------------------------------------------------------------------------------------------|-------------------------------------------------------|\n",
      "| High-Intensity Interval Training (HIIT) | 20-30 minutes | High           | -Increases cardiovascular fitness<br>-Lowers blood pressure and heart rate<br>-Boosts metabolism for up to 24 hours after exercise                                                                                             | 250-400 (depending on intensity and duration)        |\n",
      "| Jogging               | 30-60 minutes | Moderate-high  | -Improves lung function and oxygen intake<br>-Strengthens heart muscle<br>-Reduces risk of heart disease                                                                                                                     | 300-600 (depending on intensity and duration)        |\n",
      "| Cycling               | 30-60 minutes | Moderate-high  | -Builds stamina and endurance<br>-Stimulates blood flow and oxygen delivery<br>-Tones muscles, particularly in the legs                                                                                                      | 250-500 (depending on intensity and duration)        |\n",
      "| Swimming              | 30-60 minutes | Moderate-high  | -Low-impact, ideal for people with joint pain or arthritis<br>-Burns calories and improves circulation<br>-Builds cardiorespiratory endurance                                                                                   | 200-500 (depending on intensity and strokes used)    |\n",
      "| Dancing               | 60+ minutes  | Moderate-high  | -Increases lung capacity and oxygen intake<br>-Builds stamina and strengthens core muscles<br>-Reduces risk of heart disease                                                                                                  | 300-600 (depending on intensity and duration)        |\n",
      "\n",
      "High-intensity interval training (HIIT) is a very effective form of exercise for improving heart and lung function. HIIT involves short bursts of intense exercise followed by periods of rest, which can help increase the capacity of the heart and lungs to work efficiently. This type of training can also improve oxygen uptake and delivery, which is important for maintaining healthy lung function.\n",
      "\n",
      "Jogging and cycling are excellent exercises for building cardiovascular fitness. They both require sustained physical effort, which increases heart rate and improves oxygen uptake. These exercises also build muscular strength and endurance, which can help protect the heart and lungs from damage and reduce the risk of heart disease.\n",
      "\n",
      "Swimming is a low-impact exercise that is suitable for people with joint pain or arthritis. It can help improve lung function by increasing the capacity of the lungs to extract oxygen and deliver it to the muscles. Swimming can also improve circulation, which can help reduce the risk of heart disease.\n",
      "\n",
      "Dancing is an excellent cardiovascular exercise that can provide numerous benefits for the heart and lungs. Dancing involves sustained movement, which increases heart rate and improves lung function. It also strengthens core muscles, which can help protect the heart and lungs from damage and reduce the risk of heart disease.\n",
      "\n",
      "The number of calories burned during each exercise will depend on factors such as the individual's weight, intensity of the exercise, and duration of the workout. However, the chart above provides a general estimate of calories burned during each exercise.\n",
      "\n"
     ]
    }
   ],
   "source": [
    "print(result_data[1250000])"
   ]
  },
  {
   "cell_type": "code",
   "execution_count": 26,
   "id": "4cc8b626-d136-41fd-bfc6-c676a19241df",
   "metadata": {},
   "outputs": [],
   "source": [
    "xdf = pl.DataFrame(result_data)"
   ]
  },
  {
   "cell_type": "code",
   "execution_count": 27,
   "id": "3ddb500a-d244-4cce-b3a1-afe3c422656c",
   "metadata": {},
   "outputs": [],
   "source": [
    "xdf.write_parquet(os.path.join(input_dir, \"_pretrain\", \"instruct\", \"baai-infinity-instruct.parquet\"))"
   ]
  },
  {
   "cell_type": "code",
   "execution_count": null,
   "id": "f4e2733e-a7a9-49fc-bae6-507e2ef6fa44",
   "metadata": {},
   "outputs": [],
   "source": [
    "### "
   ]
  }
 ],
 "metadata": {
  "kernelspec": {
   "display_name": "TinyHead",
   "language": "python",
   "name": "tinyhead"
  },
  "language_info": {
   "codemirror_mode": {
    "name": "ipython",
    "version": 3
   },
   "file_extension": ".py",
   "mimetype": "text/x-python",
   "name": "python",
   "nbconvert_exporter": "python",
   "pygments_lexer": "ipython3",
   "version": "3.11.7"
  }
 },
 "nbformat": 4,
 "nbformat_minor": 5
}
